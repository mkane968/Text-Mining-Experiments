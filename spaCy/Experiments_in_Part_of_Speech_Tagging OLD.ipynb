{
  "nbformat": 4,
  "nbformat_minor": 0,
  "metadata": {
    "colab": {
      "name": "Experiments in Part of Speech Tagging.ipynb",
      "provenance": [],
      "authorship_tag": "ABX9TyPEkvVCGFrGwrbS07PlbTtR",
      "include_colab_link": true
    },
    "kernelspec": {
      "name": "python3",
      "display_name": "Python 3"
    },
    "language_info": {
      "name": "python"
    }
  },
  "cells": [
    {
      "cell_type": "markdown",
      "metadata": {
        "id": "view-in-github",
        "colab_type": "text"
      },
      "source": [
        "<a href=\"https://colab.research.google.com/github/mkane968/Text-Mining-Experiments/blob/main/Experiments_in_Part_of_Speech_Tagging.ipynb\" target=\"_parent\"><img src=\"https://colab.research.google.com/assets/colab-badge.svg\" alt=\"Open In Colab\"/></a>"
      ]
    },
    {
      "cell_type": "markdown",
      "source": [
        "#Experiments in Part of Speech Tagging\n",
        "\n",
        "This tutorial will walk through methods of POS tagging in NLTK and spaCy and visualization in NLTK, spaCy, and PosTagVisualizer...\n",
        "\n",
        "\n",
        "Sources: \n",
        "\n",
        "*   NLTK Book\n",
        "*   spaCy 101 tutorial\n",
        "*   https://www.scikit-yb.org/en/latest/api/text/postag.html \n",
        "*   https://www.machinelearningplus.com/spacy-tutorial-nlp/\n",
        "*   https://medium.com/analytics-vidhya/part-of-speech-tagging-what-when-why-and-how-9d250e634df6\n",
        "*   https://stackabuse.com/python-for-nlp-parts-of-speech-tagging-and-named-entity-recognition/\n",
        "Code from Nichole Nomura and JD Porter (cited below)\n",
        "\n",
        "UD Pipe: https://corpy.readthedocs.io/en/stable/guides/udpipe.html \n",
        "\n",
        "https://www.geeksforgeeks.org/part-speech-tagging-stop-words-using-nltk-python/ \n",
        "https://www.dataknowsall.com/pos.html \n",
        "\n",
        "https://www.freecodecamp.org/news/an-introduction-to-part-of-speech-tagging-and-the-hidden-markov-model-953d45338f24/ \n",
        "\n",
        "Types of POS Tagging: https://www.tutorialspoint.com/natural_language_processing/natural_language_processing_part_of_speech_tagging.htm \n",
        "\n",
        "Packages and usages, relations to dependency grammar: https://devopedia.org/part-of-speech-tagging \n",
        "More background: https://www.analyticsvidhya.com/blog/2021/03/parts-of-speech-tag-and-dependency-grammer/ \n",
        "\n",
        "Can train own model: https://dh.fbk.eu/research/tint/the-pipeline/part-of-speech-tagging/ \n",
        "\n",
        "Tutorial: https://curriculum.dhinstitutes.org/workshops/text-analysis/lessons/?page=15 \n",
        "\n",
        "\n",
        "Applications of POS Tagging: \n",
        "Word Sense Disambiguation (determining POS of keywords)\n",
        "How words are being used in a corpus (i.e. what adjectives are being used to describe customer products, what verbs are being used in strong academic essays)\n",
        "AI/Speech generators\n",
        "Text cleaning\n",
        "Examples of grammatical or lexical patterns: https://www.sketchengine.eu/blog/pos-tags/ \n",
        "Translation\n",
        "Comparative analysis "
      ],
      "metadata": {
        "id": "7FB_pfcgK6sA"
      }
    },
    {
      "cell_type": "markdown",
      "source": [
        "Outline of POS Tagging Notebook\n",
        "\n",
        "Introductory text block: What is POS tagging? What are its usages? \n",
        "Table of Contents: POS Tagging with NLTK , POS Tagging with SpaCy, POS Visualization with PosTagVisualizer, POS Analysis with MDW, POS Analysis of Specific POS (Sentiment), POS Analysis Word Sense Disambiguation"
      ],
      "metadata": {
        "id": "10a_fEoq83r4"
      }
    },
    {
      "cell_type": "code",
      "source": [
        "##NLTK Packages and Corpora\n",
        "import nltk\n",
        "from nltk.corpus import brown\n",
        "nltk.download('brown')\n",
        "nltk.download('averaged_perceptron_tagger')\n",
        "nltk.download('tagsets')\n",
        "import os\n",
        "from nltk.tree import Tree\n",
        "from IPython.display import display\n",
        "nltk.download('treebank')\n",
        "nltk.download('punkt')\n",
        "\n",
        "#spaCy Packages and Corpora\n",
        "import spacy\n",
        "from spacy import displacy\n",
        "from spacy.matcher import Matcher\n",
        "\n",
        "#PosTagVisualizer Packages\n",
        "from yellowbrick.text import PosTagVisualizer"
      ],
      "metadata": {
        "colab": {
          "base_uri": "https://localhost:8080/"
        },
        "id": "QfqcOfSZMN3N",
        "outputId": "8aece2c1-f127-44db-e7dc-56b1d07b3673"
      },
      "execution_count": null,
      "outputs": [
        {
          "output_type": "stream",
          "name": "stdout",
          "text": [
            "[nltk_data] Downloading package brown to /root/nltk_data...\n",
            "[nltk_data]   Unzipping corpora/brown.zip.\n",
            "[nltk_data] Downloading package averaged_perceptron_tagger to\n",
            "[nltk_data]     /root/nltk_data...\n",
            "[nltk_data]   Unzipping taggers/averaged_perceptron_tagger.zip.\n",
            "[nltk_data] Downloading package tagsets to /root/nltk_data...\n",
            "[nltk_data]   Unzipping help/tagsets.zip.\n",
            "[nltk_data] Downloading package treebank to /root/nltk_data...\n",
            "[nltk_data]   Unzipping corpora/treebank.zip.\n",
            "[nltk_data] Downloading package punkt to /root/nltk_data...\n",
            "[nltk_data]   Unzipping tokenizers/punkt.zip.\n"
          ]
        }
      ]
    },
    {
      "cell_type": "markdown",
      "source": [
        "##Part of Speech Tagging with NLTK"
      ],
      "metadata": {
        "id": "J7gt1ki9K_Uo"
      }
    },
    {
      "cell_type": "markdown",
      "source": [
        "NLTK enables the labeling of all words in a text according to their part of speech. Here we'll tag text from the Brown corpus (including stop words) and print the first 10 tagged tokens."
      ],
      "metadata": {
        "id": "gi6ZJ5HuLdDh"
      }
    },
    {
      "cell_type": "code",
      "execution_count": null,
      "metadata": {
        "colab": {
          "base_uri": "https://localhost:8080/"
        },
        "id": "cltoyYvqK4Rf",
        "outputId": "36924a90-4862-4be0-d695-73a3b48e0d69"
      },
      "outputs": [
        {
          "output_type": "stream",
          "name": "stdout",
          "text": [
            "[('The', 'DT'), ('Fulton', 'NNP'), ('County', 'NNP'), ('Grand', 'NNP'), ('Jury', 'NNP'), ('said', 'VBD'), ('Friday', 'NNP'), ('an', 'DT'), ('investigation', 'NN'), ('of', 'IN')]\n"
          ]
        }
      ],
      "source": [
        "##Get the first 100 words in the news category of the Brown corpus\n",
        "news_text = brown.words(categories='news')\n",
        "news_text_condensed = news_text[:100]\n",
        "\n",
        "##Label the text with POS tags\n",
        "brown_pos = nltk.pos_tag(news_text_condensed)\n",
        "print(brown_pos[:10])"
      ]
    },
    {
      "cell_type": "code",
      "source": [
        "type(news_text)"
      ],
      "metadata": {
        "colab": {
          "base_uri": "https://localhost:8080/"
        },
        "id": "K_tQEY5bPSSl",
        "outputId": "3a67f7a8-f080-4c02-d148-7084b252d6a8"
      },
      "execution_count": null,
      "outputs": [
        {
          "output_type": "execute_result",
          "data": {
            "text/plain": [
              "nltk.corpus.reader.util.ConcatenatedCorpusView"
            ]
          },
          "metadata": {},
          "execution_count": 7
        }
      ]
    },
    {
      "cell_type": "markdown",
      "source": [
        "Not sure what the POS tags mean? Retrieve the list of tags and their meanings."
      ],
      "metadata": {
        "id": "TxDC7LohLq5_"
      }
    },
    {
      "cell_type": "code",
      "source": [
        "#nltk.help.upenn_tagset()\n",
        "nltk.help.upenn_tagset('NN')"
      ],
      "metadata": {
        "colab": {
          "base_uri": "https://localhost:8080/"
        },
        "id": "SazpgrluLrHf",
        "outputId": "a2306c02-68b9-4a41-877f-1db73051e252"
      },
      "execution_count": null,
      "outputs": [
        {
          "output_type": "stream",
          "name": "stdout",
          "text": [
            "NN: noun, common, singular or mass\n",
            "    common-carrier cabbage knuckle-duster Casino afghan shed thermostat\n",
            "    investment slide humour falloff slick wind hyena override subhumanity\n",
            "    machinist ...\n"
          ]
        }
      ]
    },
    {
      "cell_type": "markdown",
      "source": [
        "The text can also be visualized based on part of speech tags. This is done through a process called **chunking.** When a text is \"chunked,\" it is separated into grammatical units which contain a head and (optionally) additional words and modifiers. Examples of chunks include noun groups and verb groups.\n",
        "\n",
        "Below, a simple grammar for a noun phrase (NP) chunker is defined with a single regular-expression rule. This rule says that an NP chunk should be formed whenever the chunker finds an optional determiner (DT) followed by any number of adjectives (JJ) and then a noun (NN). \n",
        "\n",
        "Learn more about defining a chunk grammar [here](https://www.nltk.org/book_1ed/ch07.html). "
      ],
      "metadata": {
        "id": "xuV7FKnFMlhU"
      }
    },
    {
      "cell_type": "code",
      "source": [
        "##Define a chunk grammar\n",
        "grammar = \"NP: {<DT>?<JJ>*<NN>}\"\n",
        "\n",
        "#Create a parser to identify chunks in a text based on the grammar defined\n",
        "chunk_parser = nltk.RegexpParser(grammar)\n",
        "\n",
        "#Run the chunk parser on our tagged Brown corpus text\n",
        "tree = chunk_parser.parse(brown_pos)"
      ],
      "metadata": {
        "id": "Pm9ijwWXNTpY"
      },
      "execution_count": null,
      "outputs": []
    },
    {
      "cell_type": "markdown",
      "source": [
        "We can visualize the chunks using draw(). We first need to create a virtual environment and then display the visualized chunks. "
      ],
      "metadata": {
        "id": "CnNyBGhmNkNH"
      }
    },
    {
      "cell_type": "code",
      "source": [
        "### CREATE VIRTUAL DISPLAY ###\n",
        "!apt-get install -y xvfb # Install X Virtual Frame Buffer\n",
        "os.system('Xvfb :1 -screen 0 1600x1200x16  &')    # create virtual display with size 1600x1200 and 16 bit color. Color can be changed to 24 or 8\n",
        "os.environ['DISPLAY']=':1.0'    # tell X clients to use our virtual DISPLAY :1.0. \n",
        "\n",
        "%matplotlib inline\n",
        "### INSTALL GHOSTSCRIPT (Required to display NLTK trees) ###\n",
        "!apt install ghostscript python3-tk"
      ],
      "metadata": {
        "id": "oLpNlrpYNnYP"
      },
      "execution_count": null,
      "outputs": []
    },
    {
      "cell_type": "markdown",
      "source": [
        "Now we can visualize the text in terms of its part of speech tags, delineated as grammatical chunks. Click the resulting images to enlarge. "
      ],
      "metadata": {
        "id": "6eVjka3iOFD_"
      }
    },
    {
      "cell_type": "code",
      "source": [
        "display(tree)"
      ],
      "metadata": {
        "colab": {
          "base_uri": "https://localhost:8080/",
          "height": 146
        },
        "id": "H4t2U29oORlC",
        "outputId": "ab9e108a-ff93-43cd-cadd-0ff5dbe445bf"
      },
      "execution_count": null,
      "outputs": [
        {
          "output_type": "display_data",
          "data": {
            "text/plain": [
              "Tree('S', [('The', 'DT'), ('Fulton', 'NNP'), ('County', 'NNP'), ('Grand', 'NNP'), ('Jury', 'NNP'), ('said', 'VBD'), ('Friday', 'NNP'), Tree('NP', [('an', 'DT'), ('investigation', 'NN')]), ('of', 'IN'), (\"Atlanta's\", 'NNP'), Tree('NP', [('recent', 'JJ'), ('primary', 'JJ'), ('election', 'NN')]), ('produced', 'VBD'), ('``', '``'), Tree('NP', [('no', 'DT'), ('evidence', 'NN')]), (\"''\", \"''\"), ('that', 'IN'), ('any', 'DT'), ('irregularities', 'NNS'), ('took', 'VBD'), Tree('NP', [('place', 'NN')]), ('.', '.'), Tree('NP', [('The', 'DT'), ('jury', 'NN')]), ('further', 'RB'), ('said', 'VBD'), ('in', 'IN'), ('term-end', 'JJ'), ('presentments', 'NNS'), ('that', 'IN'), ('the', 'DT'), ('City', 'NNP'), ('Executive', 'NNP'), ('Committee', 'NNP'), (',', ','), ('which', 'WDT'), ('had', 'VBD'), Tree('NP', [('over-all', 'JJ'), ('charge', 'NN')]), ('of', 'IN'), Tree('NP', [('the', 'DT'), ('election', 'NN')]), (',', ','), ('``', '``'), ('deserves', 'VBZ'), Tree('NP', [('the', 'DT'), ('praise', 'NN')]), ('and', 'CC'), ('thanks', 'NNS'), ('of', 'IN'), ('the', 'DT'), ('City', 'NNP'), ('of', 'IN'), ('Atlanta', 'NNP'), (\"''\", \"''\"), ('for', 'IN'), Tree('NP', [('the', 'DT'), ('manner', 'NN')]), ('in', 'IN'), ('which', 'WDT'), Tree('NP', [('the', 'DT'), ('election', 'NN')]), ('was', 'VBD'), ('conducted', 'VBN'), ('.', '.'), ('The', 'DT'), ('September-October', 'NNP'), Tree('NP', [('term', 'NN')]), Tree('NP', [('jury', 'NN')]), ('had', 'VBD'), ('been', 'VBN'), ('charged', 'VBN'), ('by', 'IN'), ('Fulton', 'NNP'), ('Superior', 'NNP'), ('Court', 'NNP'), ('Judge', 'NNP'), ('Durwood', 'NNP'), ('Pye', 'NNP'), ('to', 'TO'), ('investigate', 'VB'), ('reports', 'NNS'), ('of', 'IN'), ('possible', 'JJ'), ('``', '``'), ('irregularities', 'NNS'), (\"''\", \"''\"), ('in', 'IN'), Tree('NP', [('the', 'DT'), ('hard-fought', 'JJ'), ('primary', 'NN')]), ('which', 'WDT'), ('was', 'VBD'), ('won', 'VBN'), ('by', 'IN'), ('Mayor-nominate', 'NNP'), ('Ivan', 'NNP')])"
            ],
            "image/png": "[encoded data removed]"
          },
          "metadata": {}
        }
      ]
    },
    {
      "cell_type": "markdown",
      "source": [
        "##Part of Speech Tagging with spaCy"
      ],
      "metadata": {
        "id": "Yn-eRAmhOdg0"
      }
    },
    {
      "cell_type": "markdown",
      "source": [
        "POS tagging is one of several linguistic annotations spaCy generates to support analysis of texts' grammatical structure. Here we'll print the part of speech corresponding to each word in a sample sentence. "
      ],
      "metadata": {
        "id": "ETABiacfPL4D"
      }
    },
    {
      "cell_type": "code",
      "source": [
        "#Load nlp model and create doc object (contains original text tokens and results from nlp processing)\n",
        "nlp = spacy.load(\"en_core_web_sm\")\n",
        "doc = nlp(\"Apple is looking at buying U.K. startup for $1 billion\")\n",
        "\n",
        "#Print part of speech tags for each word in doc\n",
        "for token in doc:\n",
        "    print(token.text, token.pos_)"
      ],
      "metadata": {
        "colab": {
          "base_uri": "https://localhost:8080/"
        },
        "id": "Pk5Jr-2aQOqz",
        "outputId": "f48a8f3c-f6de-4b52-a9a1-29e2e3699e57",
        "collapsed": true
      },
      "execution_count": null,
      "outputs": [
        {
          "output_type": "stream",
          "name": "stdout",
          "text": [
            "Apple PROPN\n",
            "is AUX\n",
            "looking VERB\n",
            "at ADP\n",
            "buying VERB\n",
            "U.K. PROPN\n",
            "startup NOUN\n",
            "for ADP\n",
            "$ SYM\n",
            "1 NUM\n",
            "billion NUM\n"
          ]
        }
      ]
    },
    {
      "cell_type": "markdown",
      "source": [
        "spaCy also generates \"fine-grained\" POS tags through the \".tag_\" attribute and explanation for each feature."
      ],
      "metadata": {
        "id": "eR2YSk7se6Fz"
      }
    },
    {
      "cell_type": "code",
      "source": [
        "#Print POS tags, fine-grained part of speech tags and explanation for each feature, separated by spaces for improved readability\n",
        "for token in doc:\n",
        "    print(f'{token.text:{12}} {token.pos_:{10}} {token.tag_:{8}} {spacy.explain(token.tag_)}')"
      ],
      "metadata": {
        "colab": {
          "base_uri": "https://localhost:8080/"
        },
        "id": "LEYPSfJae95R",
        "outputId": "75c87294-f467-47ad-8408-4f0f6d19cf48"
      },
      "execution_count": null,
      "outputs": [
        {
          "output_type": "stream",
          "name": "stdout",
          "text": [
            "Apple        PROPN      NNP      noun, proper singular\n",
            "is           AUX        VBZ      verb, 3rd person singular present\n",
            "looking      VERB       VBG      verb, gerund or present participle\n",
            "at           ADP        IN       conjunction, subordinating or preposition\n",
            "buying       VERB       VBG      verb, gerund or present participle\n",
            "U.K.         PROPN      NNP      noun, proper singular\n",
            "startup      NOUN       NN       noun, singular or mass\n",
            "for          ADP        IN       conjunction, subordinating or preposition\n",
            "$            SYM        $        symbol, currency\n",
            "1            NUM        CD       cardinal number\n",
            "billion      NUM        CD       cardinal number\n"
          ]
        }
      ]
    },
    {
      "cell_type": "markdown",
      "source": [
        "Similar to NLTK, parts of speech and the grammatical relationships between words can be visualized in spaCy using the displaCy visualizer. "
      ],
      "metadata": {
        "id": "X_HizTiBRO0j"
      }
    },
    {
      "cell_type": "code",
      "source": [
        "#Create dependency visualizer\n",
        "displacy.render(doc, style='dep', jupyter=True, options={'distance': 90})"
      ],
      "metadata": {
        "colab": {
          "base_uri": "https://localhost:8080/",
          "height": 293
        },
        "id": "VjqP7P-HRuON",
        "outputId": "1a8624f8-d51c-4848-8486-186ba7b043eb"
      },
      "execution_count": null,
      "outputs": [
        {
          "output_type": "display_data",
          "data": {
            "text/plain": [
              "<IPython.core.display.HTML object>"
            ],
            "text/html": [
              "<span class=\"tex2jax_ignore\"><svg xmlns=\"http://www.w3.org/2000/svg\" xmlns:xlink=\"http://www.w3.org/1999/xlink\" xml:lang=\"en\" id=\"cb1299035cc847c2bb0bf8d646232a0b-0\" class=\"displacy\" width=\"1040\" height=\"272.0\" direction=\"ltr\" style=\"max-width: none; height: 272.0px; color: #000000; background: #ffffff; font-family: Arial; direction: ltr\">\n",
              "<text class=\"displacy-token\" fill=\"currentColor\" text-anchor=\"middle\" y=\"182.0\">\n",
              "    <tspan class=\"displacy-word\" fill=\"currentColor\" x=\"50\">Apple</tspan>\n",
              "    <tspan class=\"displacy-tag\" dy=\"2em\" fill=\"currentColor\" x=\"50\">PROPN</tspan>\n",
              "</text>\n",
              "\n",
              "<text class=\"displacy-token\" fill=\"currentColor\" text-anchor=\"middle\" y=\"182.0\">\n",
              "    <tspan class=\"displacy-word\" fill=\"currentColor\" x=\"140\">is</tspan>\n",
              "    <tspan class=\"displacy-tag\" dy=\"2em\" fill=\"currentColor\" x=\"140\">AUX</tspan>\n",
              "</text>\n",
              "\n",
              "<text class=\"displacy-token\" fill=\"currentColor\" text-anchor=\"middle\" y=\"182.0\">\n",
              "    <tspan class=\"displacy-word\" fill=\"currentColor\" x=\"230\">looking</tspan>\n",
              "    <tspan class=\"displacy-tag\" dy=\"2em\" fill=\"currentColor\" x=\"230\">VERB</tspan>\n",
              "</text>\n",
              "\n",
              "<text class=\"displacy-token\" fill=\"currentColor\" text-anchor=\"middle\" y=\"182.0\">\n",
              "    <tspan class=\"displacy-word\" fill=\"currentColor\" x=\"320\">at</tspan>\n",
              "    <tspan class=\"displacy-tag\" dy=\"2em\" fill=\"currentColor\" x=\"320\">ADP</tspan>\n",
              "</text>\n",
              "\n",
              "<text class=\"displacy-token\" fill=\"currentColor\" text-anchor=\"middle\" y=\"182.0\">\n",
              "    <tspan class=\"displacy-word\" fill=\"currentColor\" x=\"410\">buying</tspan>\n",
              "    <tspan class=\"displacy-tag\" dy=\"2em\" fill=\"currentColor\" x=\"410\">VERB</tspan>\n",
              "</text>\n",
              "\n",
              "<text class=\"displacy-token\" fill=\"currentColor\" text-anchor=\"middle\" y=\"182.0\">\n",
              "    <tspan class=\"displacy-word\" fill=\"currentColor\" x=\"500\">U.K.</tspan>\n",
              "    <tspan class=\"displacy-tag\" dy=\"2em\" fill=\"currentColor\" x=\"500\">PROPN</tspan>\n",
              "</text>\n",
              "\n",
              "<text class=\"displacy-token\" fill=\"currentColor\" text-anchor=\"middle\" y=\"182.0\">\n",
              "    <tspan class=\"displacy-word\" fill=\"currentColor\" x=\"590\">startup</tspan>\n",
              "    <tspan class=\"displacy-tag\" dy=\"2em\" fill=\"currentColor\" x=\"590\">NOUN</tspan>\n",
              "</text>\n",
              "\n",
              "<text class=\"displacy-token\" fill=\"currentColor\" text-anchor=\"middle\" y=\"182.0\">\n",
              "    <tspan class=\"displacy-word\" fill=\"currentColor\" x=\"680\">for</tspan>\n",
              "    <tspan class=\"displacy-tag\" dy=\"2em\" fill=\"currentColor\" x=\"680\">ADP</tspan>\n",
              "</text>\n",
              "\n",
              "<text class=\"displacy-token\" fill=\"currentColor\" text-anchor=\"middle\" y=\"182.0\">\n",
              "    <tspan class=\"displacy-word\" fill=\"currentColor\" x=\"770\">$</tspan>\n",
              "    <tspan class=\"displacy-tag\" dy=\"2em\" fill=\"currentColor\" x=\"770\">SYM</tspan>\n",
              "</text>\n",
              "\n",
              "<text class=\"displacy-token\" fill=\"currentColor\" text-anchor=\"middle\" y=\"182.0\">\n",
              "    <tspan class=\"displacy-word\" fill=\"currentColor\" x=\"860\">1</tspan>\n",
              "    <tspan class=\"displacy-tag\" dy=\"2em\" fill=\"currentColor\" x=\"860\">NUM</tspan>\n",
              "</text>\n",
              "\n",
              "<text class=\"displacy-token\" fill=\"currentColor\" text-anchor=\"middle\" y=\"182.0\">\n",
              "    <tspan class=\"displacy-word\" fill=\"currentColor\" x=\"950\">billion</tspan>\n",
              "    <tspan class=\"displacy-tag\" dy=\"2em\" fill=\"currentColor\" x=\"950\">NUM</tspan>\n",
              "</text>\n",
              "\n",
              "<g class=\"displacy-arrow\">\n",
              "    <path class=\"displacy-arc\" id=\"arrow-cb1299035cc847c2bb0bf8d646232a0b-0-0\" stroke-width=\"2px\" d=\"M70,137.0 C70,47.0 225.0,47.0 225.0,137.0\" fill=\"none\" stroke=\"currentColor\"/>\n",
              "    <text dy=\"1.25em\" style=\"font-size: 0.8em; letter-spacing: 1px\">\n",
              "        <textPath xlink:href=\"#arrow-cb1299035cc847c2bb0bf8d646232a0b-0-0\" class=\"displacy-label\" startOffset=\"50%\" side=\"left\" fill=\"currentColor\" text-anchor=\"middle\">nsubj</textPath>\n",
              "    </text>\n",
              "    <path class=\"displacy-arrowhead\" d=\"M70,139.0 L62,127.0 78,127.0\" fill=\"currentColor\"/>\n",
              "</g>\n",
              "\n",
              "<g class=\"displacy-arrow\">\n",
              "    <path class=\"displacy-arc\" id=\"arrow-cb1299035cc847c2bb0bf8d646232a0b-0-1\" stroke-width=\"2px\" d=\"M160,137.0 C160,92.0 220.0,92.0 220.0,137.0\" fill=\"none\" stroke=\"currentColor\"/>\n",
              "    <text dy=\"1.25em\" style=\"font-size: 0.8em; letter-spacing: 1px\">\n",
              "        <textPath xlink:href=\"#arrow-cb1299035cc847c2bb0bf8d646232a0b-0-1\" class=\"displacy-label\" startOffset=\"50%\" side=\"left\" fill=\"currentColor\" text-anchor=\"middle\">aux</textPath>\n",
              "    </text>\n",
              "    <path class=\"displacy-arrowhead\" d=\"M160,139.0 L152,127.0 168,127.0\" fill=\"currentColor\"/>\n",
              "</g>\n",
              "\n",
              "<g class=\"displacy-arrow\">\n",
              "    <path class=\"displacy-arc\" id=\"arrow-cb1299035cc847c2bb0bf8d646232a0b-0-2\" stroke-width=\"2px\" d=\"M250,137.0 C250,92.0 310.0,92.0 310.0,137.0\" fill=\"none\" stroke=\"currentColor\"/>\n",
              "    <text dy=\"1.25em\" style=\"font-size: 0.8em; letter-spacing: 1px\">\n",
              "        <textPath xlink:href=\"#arrow-cb1299035cc847c2bb0bf8d646232a0b-0-2\" class=\"displacy-label\" startOffset=\"50%\" side=\"left\" fill=\"currentColor\" text-anchor=\"middle\">prep</textPath>\n",
              "    </text>\n",
              "    <path class=\"displacy-arrowhead\" d=\"M310.0,139.0 L318.0,127.0 302.0,127.0\" fill=\"currentColor\"/>\n",
              "</g>\n",
              "\n",
              "<g class=\"displacy-arrow\">\n",
              "    <path class=\"displacy-arc\" id=\"arrow-cb1299035cc847c2bb0bf8d646232a0b-0-3\" stroke-width=\"2px\" d=\"M340,137.0 C340,92.0 400.0,92.0 400.0,137.0\" fill=\"none\" stroke=\"currentColor\"/>\n",
              "    <text dy=\"1.25em\" style=\"font-size: 0.8em; letter-spacing: 1px\">\n",
              "        <textPath xlink:href=\"#arrow-cb1299035cc847c2bb0bf8d646232a0b-0-3\" class=\"displacy-label\" startOffset=\"50%\" side=\"left\" fill=\"currentColor\" text-anchor=\"middle\">pcomp</textPath>\n",
              "    </text>\n",
              "    <path class=\"displacy-arrowhead\" d=\"M400.0,139.0 L408.0,127.0 392.0,127.0\" fill=\"currentColor\"/>\n",
              "</g>\n",
              "\n",
              "<g class=\"displacy-arrow\">\n",
              "    <path class=\"displacy-arc\" id=\"arrow-cb1299035cc847c2bb0bf8d646232a0b-0-4\" stroke-width=\"2px\" d=\"M520,137.0 C520,92.0 580.0,92.0 580.0,137.0\" fill=\"none\" stroke=\"currentColor\"/>\n",
              "    <text dy=\"1.25em\" style=\"font-size: 0.8em; letter-spacing: 1px\">\n",
              "        <textPath xlink:href=\"#arrow-cb1299035cc847c2bb0bf8d646232a0b-0-4\" class=\"displacy-label\" startOffset=\"50%\" side=\"left\" fill=\"currentColor\" text-anchor=\"middle\">compound</textPath>\n",
              "    </text>\n",
              "    <path class=\"displacy-arrowhead\" d=\"M520,139.0 L512,127.0 528,127.0\" fill=\"currentColor\"/>\n",
              "</g>\n",
              "\n",
              "<g class=\"displacy-arrow\">\n",
              "    <path class=\"displacy-arc\" id=\"arrow-cb1299035cc847c2bb0bf8d646232a0b-0-5\" stroke-width=\"2px\" d=\"M430,137.0 C430,47.0 585.0,47.0 585.0,137.0\" fill=\"none\" stroke=\"currentColor\"/>\n",
              "    <text dy=\"1.25em\" style=\"font-size: 0.8em; letter-spacing: 1px\">\n",
              "        <textPath xlink:href=\"#arrow-cb1299035cc847c2bb0bf8d646232a0b-0-5\" class=\"displacy-label\" startOffset=\"50%\" side=\"left\" fill=\"currentColor\" text-anchor=\"middle\">dobj</textPath>\n",
              "    </text>\n",
              "    <path class=\"displacy-arrowhead\" d=\"M585.0,139.0 L593.0,127.0 577.0,127.0\" fill=\"currentColor\"/>\n",
              "</g>\n",
              "\n",
              "<g class=\"displacy-arrow\">\n",
              "    <path class=\"displacy-arc\" id=\"arrow-cb1299035cc847c2bb0bf8d646232a0b-0-6\" stroke-width=\"2px\" d=\"M430,137.0 C430,2.0 680.0,2.0 680.0,137.0\" fill=\"none\" stroke=\"currentColor\"/>\n",
              "    <text dy=\"1.25em\" style=\"font-size: 0.8em; letter-spacing: 1px\">\n",
              "        <textPath xlink:href=\"#arrow-cb1299035cc847c2bb0bf8d646232a0b-0-6\" class=\"displacy-label\" startOffset=\"50%\" side=\"left\" fill=\"currentColor\" text-anchor=\"middle\">prep</textPath>\n",
              "    </text>\n",
              "    <path class=\"displacy-arrowhead\" d=\"M680.0,139.0 L688.0,127.0 672.0,127.0\" fill=\"currentColor\"/>\n",
              "</g>\n",
              "\n",
              "<g class=\"displacy-arrow\">\n",
              "    <path class=\"displacy-arc\" id=\"arrow-cb1299035cc847c2bb0bf8d646232a0b-0-7\" stroke-width=\"2px\" d=\"M790,137.0 C790,47.0 945.0,47.0 945.0,137.0\" fill=\"none\" stroke=\"currentColor\"/>\n",
              "    <text dy=\"1.25em\" style=\"font-size: 0.8em; letter-spacing: 1px\">\n",
              "        <textPath xlink:href=\"#arrow-cb1299035cc847c2bb0bf8d646232a0b-0-7\" class=\"displacy-label\" startOffset=\"50%\" side=\"left\" fill=\"currentColor\" text-anchor=\"middle\">quantmod</textPath>\n",
              "    </text>\n",
              "    <path class=\"displacy-arrowhead\" d=\"M790,139.0 L782,127.0 798,127.0\" fill=\"currentColor\"/>\n",
              "</g>\n",
              "\n",
              "<g class=\"displacy-arrow\">\n",
              "    <path class=\"displacy-arc\" id=\"arrow-cb1299035cc847c2bb0bf8d646232a0b-0-8\" stroke-width=\"2px\" d=\"M880,137.0 C880,92.0 940.0,92.0 940.0,137.0\" fill=\"none\" stroke=\"currentColor\"/>\n",
              "    <text dy=\"1.25em\" style=\"font-size: 0.8em; letter-spacing: 1px\">\n",
              "        <textPath xlink:href=\"#arrow-cb1299035cc847c2bb0bf8d646232a0b-0-8\" class=\"displacy-label\" startOffset=\"50%\" side=\"left\" fill=\"currentColor\" text-anchor=\"middle\">compound</textPath>\n",
              "    </text>\n",
              "    <path class=\"displacy-arrowhead\" d=\"M880,139.0 L872,127.0 888,127.0\" fill=\"currentColor\"/>\n",
              "</g>\n",
              "\n",
              "<g class=\"displacy-arrow\">\n",
              "    <path class=\"displacy-arc\" id=\"arrow-cb1299035cc847c2bb0bf8d646232a0b-0-9\" stroke-width=\"2px\" d=\"M700,137.0 C700,2.0 950.0,2.0 950.0,137.0\" fill=\"none\" stroke=\"currentColor\"/>\n",
              "    <text dy=\"1.25em\" style=\"font-size: 0.8em; letter-spacing: 1px\">\n",
              "        <textPath xlink:href=\"#arrow-cb1299035cc847c2bb0bf8d646232a0b-0-9\" class=\"displacy-label\" startOffset=\"50%\" side=\"left\" fill=\"currentColor\" text-anchor=\"middle\">pobj</textPath>\n",
              "    </text>\n",
              "    <path class=\"displacy-arrowhead\" d=\"M950.0,139.0 L958.0,127.0 942.0,127.0\" fill=\"currentColor\"/>\n",
              "</g>\n",
              "</svg></span>"
            ]
          },
          "metadata": {}
        }
      ]
    },
    {
      "cell_type": "markdown",
      "source": [
        "You can also use the POS tagger to clean a text of any unrecognized words like \"etc\" and \"i.e.\" since those labeled with the POS tag \"X.\" Below, all words tagged as \"X\" are identified and then removed."
      ],
      "metadata": {
        "id": "mOGiyEUpTCkX"
      }
    },
    {
      "cell_type": "code",
      "source": [
        "# Raw text document\n",
        "raw_text=\"\"\"Apple, an American multinational technology company that specializes in consumer electronics, software, online services, etc. is looking at buying U.K. startup for $1 billion i.e. a very good indicator of the company's value\"\"\"\n",
        "\n",
        "# Creating a spacy object\n",
        "raw_doc=nlp(raw_text)\n",
        "\n",
        "# Checking if POS tag is X and printing them\n",
        "print('The junk values are..')\n",
        "for token in raw_doc:\n",
        "  if token.pos_=='X':\n",
        "    print(token.text)\n",
        "\n",
        "print('After removing junk')\n",
        "# Removing the tokens whose POS tag is junk.\n",
        "clean_doc=[token for token in raw_doc if not token.pos_=='X']\n",
        "print(clean_doc)"
      ],
      "metadata": {
        "colab": {
          "base_uri": "https://localhost:8080/"
        },
        "id": "NX_kfCVGTBq3",
        "outputId": "7aa7be54-ab72-4d29-8d18-8d3714deb83c"
      },
      "execution_count": null,
      "outputs": [
        {
          "output_type": "stream",
          "name": "stdout",
          "text": [
            "The junk values are..\n",
            "etc\n",
            "i.e.\n",
            "After removing junk\n",
            "[Apple, ,, an, American, multinational, technology, company, that, specializes, in, consumer, electronics, ,, software, ,, online, services, ,, ., is, looking, at, buying, U.K., startup, for, $, 1, billion, a, very, good, indicator, of, the, company, 's, value]\n"
          ]
        }
      ]
    },
    {
      "cell_type": "markdown",
      "source": [
        "You can also look for instances of specific POS tags or patterns of tags (along with other linguistic attributes) using the Matcher."
      ],
      "metadata": {
        "id": "z5c0SE8bVNWX"
      }
    },
    {
      "cell_type": "code",
      "source": [
        "# Initialize the Matcher with the shared vocabulary\n",
        "matcher = Matcher(nlp.vocab)\n",
        "\n",
        "# Write a pattern that matches a form of \"buy\" plus proper noun\n",
        "pattern = [{\"LEMMA\": 'buy'}, {\"POS\": 'PROPN'}]\n",
        "\n",
        "# Add the pattern to the matcher and apply the matcher to the doc\n",
        "matcher.add(\"NEW_PATTERN\", [pattern])\n",
        "matches = matcher(doc)\n",
        "print(\"Total matches found:\", len(matches))\n",
        "\n",
        "# Iterate over the matches and print the span text\n",
        "for match_id, start, end in matches:\n",
        "    print(\"Match found:\", doc[start:end].text)\n"
      ],
      "metadata": {
        "colab": {
          "base_uri": "https://localhost:8080/"
        },
        "id": "Wtq5f86XVjca",
        "outputId": "3193c4a3-91d1-49da-ad9c-51b60331c853"
      },
      "execution_count": null,
      "outputs": [
        {
          "output_type": "stream",
          "name": "stdout",
          "text": [
            "Total matches found: 1\n",
            "Match found: buying U.K.\n"
          ]
        }
      ]
    },
    {
      "cell_type": "markdown",
      "source": [
        "##Part of Speech Tagging and Visualization with PosTagVisualizer\n",
        "\n",
        "The POS visualizer creates a bar chart to visualize the relative proportions of different parts-of-speech in a corpus. It works with corpora tagged by either via NLTK or spaCy. [Learn more here. ](https://www.scikit-yb.org/en/latest/api/text/postag.html)"
      ],
      "metadata": {
        "id": "2XVIPW1jWwYx"
      }
    },
    {
      "cell_type": "markdown",
      "source": [
        "First, let's visualize the condensed news text from the Brown corpus defined above. The PosTagVisualizer can be used with untagged text by using the \"parse\" keyword and specifying NLTK as the dictionary of use."
      ],
      "metadata": {
        "id": "u_5nbIxhdqco"
      }
    },
    {
      "cell_type": "code",
      "source": [
        "# Create the visualizer, fit, score, and show it\n",
        "viz = PosTagVisualizer(parser='nltk')\n",
        "viz.fit(news_text_condensed)\n",
        "viz.show()"
      ],
      "metadata": {
        "colab": {
          "base_uri": "https://localhost:8080/",
          "height": 419
        },
        "id": "nH0vnYPZbO7o",
        "outputId": "4dfe62e9-f371-40cc-df17-9ed79364fecf"
      },
      "execution_count": null,
      "outputs": [
        {
          "output_type": "display_data",
          "data": {
            "text/plain": [
              "<Figure size 576x396 with 1 Axes>"
            ],
            "image/png": "[encoded data removed]"
          },
          "metadata": {}
        },
        {
          "output_type": "execute_result",
          "data": {
            "text/plain": [
              "<matplotlib.axes._subplots.AxesSubplot at 0x7f6eae0e7790>"
            ]
          },
          "metadata": {},
          "execution_count": 83
        }
      ]
    },
    {
      "cell_type": "markdown",
      "source": [
        "We can also tag and visualize text using the universal dependency tsgs from spaCy by specifying spaCy as the parsing dictionary. "
      ],
      "metadata": {
        "id": "yiGEesW_cT1q"
      }
    },
    {
      "cell_type": "code",
      "source": [
        "untagged_speech = \"Apple, an American multinational technology company that specializes in consumer electronics, software, online services, etc. is looking at buying U.K. startup for $1 billion i.e. a very good indicator of the company's value\"\n",
        "\n",
        "viz = PosTagVisualizer(parser='spacy')\n",
        "viz.fit(untagged_speech)\n",
        "viz.show()"
      ],
      "metadata": {
        "colab": {
          "base_uri": "https://localhost:8080/",
          "height": 419
        },
        "id": "RTwne95Wcne_",
        "outputId": "e7dbde8e-a91d-4641-c2da-49c561e38ddc"
      },
      "execution_count": null,
      "outputs": [
        {
          "output_type": "display_data",
          "data": {
            "text/plain": [
              "<Figure size 576x396 with 1 Axes>"
            ],
            "image/png": "[encoded data removed]"
          },
          "metadata": {}
        },
        {
          "output_type": "execute_result",
          "data": {
            "text/plain": [
              "<matplotlib.axes._subplots.AxesSubplot at 0x7f6e97702dd0>"
            ]
          },
          "metadata": {},
          "execution_count": 86
        }
      ]
    },
    {
      "cell_type": "markdown",
      "source": [
        "PosTagVisualizer also works with texts already tagged by NLTK or spaCy. Here's an example of text tagged via NLTK."
      ],
      "metadata": {
        "id": "ny8_bw_adMKp"
      }
    },
    {
      "cell_type": "code",
      "source": [
        "#Load text for visualization (already tagged through NLTK)\n",
        "tagged_stanzas = [\n",
        "    [\n",
        "        [\n",
        "            ('Whose', 'JJ'),('woods', 'NNS'),('these', 'DT'),\n",
        "            ('are', 'VBP'),('I', 'PRP'),('think', 'VBP'),('I', 'PRP'),\n",
        "            ('know', 'VBP'),('.', '.')\n",
        "            ],\n",
        "        [\n",
        "            ('His', 'PRP$'),('house', 'NN'),('is', 'VBZ'),('in', 'IN'),\n",
        "            ('the', 'DT'),('village', 'NN'),('though', 'IN'),(';', ':'),\n",
        "            ('He', 'PRP'),('will', 'MD'),('not', 'RB'),('see', 'VB'),\n",
        "            ('me', 'PRP'),('stopping', 'VBG'), ('here', 'RB'),('To', 'TO'),\n",
        "            ('watch', 'VB'),('his', 'PRP$'),('woods', 'NNS'),('fill', 'VB'),\n",
        "            ('up', 'RP'),('with', 'IN'),('snow', 'NNS'),('.', '.')\n",
        "            ]\n",
        "        ],\n",
        "    [\n",
        "        [\n",
        "            ('My', 'PRP$'),('little', 'JJ'),('horse', 'NN'),('must', 'MD'),\n",
        "            ('think', 'VB'),('it', 'PRP'),('queer', 'JJR'),('To', 'TO'),\n",
        "            ('stop', 'VB'),('without', 'IN'),('a', 'DT'),('farmhouse', 'NN'),\n",
        "            ('near', 'IN'),('Between', 'NNP'),('the', 'DT'),('woods', 'NNS'),\n",
        "            ('and', 'CC'),('frozen', 'JJ'),('lake', 'VB'),('The', 'DT'),\n",
        "            ('darkest', 'JJS'),('evening', 'NN'),('of', 'IN'),('the', 'DT'),\n",
        "            ('year', 'NN'),('.', '.')\n",
        "            ]\n",
        "        ],\n",
        "    [\n",
        "        [\n",
        "            ('He', 'PRP'),('gives', 'VBZ'),('his', 'PRP$'),('harness', 'NN'),\n",
        "            ('bells', 'VBZ'),('a', 'DT'),('shake', 'NN'),('To', 'TO'),\n",
        "            ('ask', 'VB'),('if', 'IN'),('there', 'EX'),('is', 'VBZ'),\n",
        "            ('some', 'DT'),('mistake', 'NN'),('.', '.')\n",
        "            ],\n",
        "        [\n",
        "            ('The', 'DT'),('only', 'JJ'),('other', 'JJ'),('sound', 'NN'),\n",
        "            ('’', 'NNP'),('s', 'VBZ'),('the', 'DT'),('sweep', 'NN'),\n",
        "            ('Of', 'IN'),('easy', 'JJ'),('wind', 'NN'),('and', 'CC'),\n",
        "            ('downy', 'JJ'),('flake', 'NN'),('.', '.')\n",
        "            ]\n",
        "        ],\n",
        "    [\n",
        "        [\n",
        "            ('The', 'DT'),('woods', 'NNS'),('are', 'VBP'),('lovely', 'RB'),\n",
        "            (',', ','),('dark', 'JJ'),('and', 'CC'),('deep', 'JJ'),(',', ','),\n",
        "            ('But', 'CC'),('I', 'PRP'),('have', 'VBP'),('promises', 'NNS'),\n",
        "            ('to', 'TO'),('keep', 'VB'),(',', ','),('And', 'CC'),('miles', 'NNS'),\n",
        "            ('to', 'TO'),('go', 'VB'),('before', 'IN'),('I', 'PRP'),\n",
        "            ('sleep', 'VBP'),(',', ','),('And', 'CC'),('miles', 'NNS'),\n",
        "            ('to', 'TO'),('go', 'VB'),('before', 'IN'),('I', 'PRP'),\n",
        "            ('sleep', 'VBP'),('.', '.')\n",
        "            ]\n",
        "    ]\n",
        "]\n",
        "\n",
        "# Create the visualizer, fit, score, and show it\n",
        "viz = PosTagVisualizer()\n",
        "viz.fit(tagged_stanzas)\n",
        "viz.show()"
      ],
      "metadata": {
        "colab": {
          "base_uri": "https://localhost:8080/",
          "height": 419
        },
        "id": "kARleVPtXcwk",
        "outputId": "fe54470e-405e-4715-8cd2-65467a995ac4"
      },
      "execution_count": null,
      "outputs": [
        {
          "output_type": "display_data",
          "data": {
            "text/plain": [
              "<Figure size 576x396 with 1 Axes>"
            ],
            "image/png": "[encoded data removed]"
          },
          "metadata": {}
        },
        {
          "output_type": "execute_result",
          "data": {
            "text/plain": [
              "<matplotlib.axes._subplots.AxesSubplot at 0x7f6e98174950>"
            ]
          },
          "metadata": {},
          "execution_count": 65
        }
      ]
    },
    {
      "cell_type": "code",
      "source": [
        "##DOES NOT WORK\n",
        "#Get news text from Brown corpus\n",
        "news_text = brown.words(categories='news')\n",
        "brown_pos = nltk.pos_tag(news_text)\n",
        "print(brown_pos[:10])\n"
      ],
      "metadata": {
        "colab": {
          "base_uri": "https://localhost:8080/"
        },
        "id": "dOfZYPYMYreK",
        "outputId": "1b42ee0f-b750-4ffe-d895-c50bfba56ed4"
      },
      "execution_count": null,
      "outputs": [
        {
          "output_type": "stream",
          "name": "stdout",
          "text": [
            "[('The', 'DT'), ('Fulton', 'NNP'), ('County', 'NNP'), ('Grand', 'NNP'), ('Jury', 'NNP'), ('said', 'VBD'), ('Friday', 'NNP'), ('an', 'DT'), ('investigation', 'NN'), ('of', 'IN')]\n"
          ]
        }
      ]
    },
    {
      "cell_type": "code",
      "source": [
        "type(tagged_corpus)"
      ],
      "metadata": {
        "id": "W9FOMu-GP1Vf",
        "outputId": "a00ff092-e228-4adb-ccbd-abc77a908351",
        "colab": {
          "base_uri": "https://localhost:8080/",
          "height": 168
        }
      },
      "execution_count": null,
      "outputs": [
        {
          "output_type": "error",
          "ename": "NameError",
          "evalue": "ignored",
          "traceback": [
            "\u001b[0;31m---------------------------------------------------------------------------\u001b[0m",
            "\u001b[0;31mNameError\u001b[0m                                 Traceback (most recent call last)",
            "\u001b[0;32m<ipython-input-10-afd4a0666bde>\u001b[0m in \u001b[0;36m<module>\u001b[0;34m()\u001b[0m\n\u001b[0;32m----> 1\u001b[0;31m \u001b[0mtype\u001b[0m\u001b[0;34m(\u001b[0m\u001b[0mtagged_corpus\u001b[0m\u001b[0;34m)\u001b[0m\u001b[0;34m\u001b[0m\u001b[0;34m\u001b[0m\u001b[0m\n\u001b[0m",
            "\u001b[0;31mNameError\u001b[0m: name 'tagged_corpus' is not defined"
          ]
        }
      ]
    },
    {
      "cell_type": "code",
      "source": [
        "# Create the visualizer, fit, score, and show it\n",
        "viz = PosTagVisualizer()\n",
        "viz.fit(brown_pos)\n",
        "viz.show()"
      ],
      "metadata": {
        "colab": {
          "base_uri": "https://localhost:8080/",
          "height": 371
        },
        "id": "glDUT-i8aV35",
        "outputId": "48ede9db-ccd8-48a9-a780-d0c585610780"
      },
      "execution_count": null,
      "outputs": [
        {
          "output_type": "error",
          "ename": "ValueError",
          "evalue": "ignored",
          "traceback": [
            "\u001b[0;31m---------------------------------------------------------------------------\u001b[0m",
            "\u001b[0;31mValueError\u001b[0m                                Traceback (most recent call last)",
            "\u001b[0;32m<ipython-input-9-b9118b146186>\u001b[0m in \u001b[0;36m<module>\u001b[0;34m()\u001b[0m\n\u001b[1;32m      1\u001b[0m \u001b[0;31m# Create the visualizer, fit, score, and show it\u001b[0m\u001b[0;34m\u001b[0m\u001b[0;34m\u001b[0m\u001b[0;34m\u001b[0m\u001b[0m\n\u001b[1;32m      2\u001b[0m \u001b[0mviz\u001b[0m \u001b[0;34m=\u001b[0m \u001b[0mPosTagVisualizer\u001b[0m\u001b[0;34m(\u001b[0m\u001b[0;34m)\u001b[0m\u001b[0;34m\u001b[0m\u001b[0;34m\u001b[0m\u001b[0m\n\u001b[0;32m----> 3\u001b[0;31m \u001b[0mviz\u001b[0m\u001b[0;34m.\u001b[0m\u001b[0mfit\u001b[0m\u001b[0;34m(\u001b[0m\u001b[0mbrown_pos\u001b[0m\u001b[0;34m)\u001b[0m\u001b[0;34m\u001b[0m\u001b[0;34m\u001b[0m\u001b[0m\n\u001b[0m\u001b[1;32m      4\u001b[0m \u001b[0mviz\u001b[0m\u001b[0;34m.\u001b[0m\u001b[0mshow\u001b[0m\u001b[0;34m(\u001b[0m\u001b[0;34m)\u001b[0m\u001b[0;34m\u001b[0m\u001b[0;34m\u001b[0m\u001b[0m\n",
            "\u001b[0;32m/usr/local/lib/python3.7/dist-packages/yellowbrick/text/postag.py\u001b[0m in \u001b[0;36mfit\u001b[0;34m(self, X, y, **kwargs)\u001b[0m\n\u001b[1;32m    290\u001b[0m         \u001b[0;32mif\u001b[0m \u001b[0mself\u001b[0m\u001b[0;34m.\u001b[0m\u001b[0mtagset\u001b[0m \u001b[0;34m==\u001b[0m \u001b[0;34m\"penn_treebank\"\u001b[0m\u001b[0;34m:\u001b[0m\u001b[0;34m\u001b[0m\u001b[0;34m\u001b[0m\u001b[0m\n\u001b[1;32m    291\u001b[0m             \u001b[0mself\u001b[0m\u001b[0;34m.\u001b[0m\u001b[0mpos_tag_counts_\u001b[0m \u001b[0;34m=\u001b[0m \u001b[0mself\u001b[0m\u001b[0;34m.\u001b[0m\u001b[0m_penn_tag_map\u001b[0m\u001b[0;34m(\u001b[0m\u001b[0;34m)\u001b[0m\u001b[0;34m\u001b[0m\u001b[0;34m\u001b[0m\u001b[0m\n\u001b[0;32m--> 292\u001b[0;31m             \u001b[0mself\u001b[0m\u001b[0;34m.\u001b[0m\u001b[0m_handle_treebank\u001b[0m\u001b[0;34m(\u001b[0m\u001b[0mX\u001b[0m\u001b[0;34m,\u001b[0m \u001b[0my\u001b[0m\u001b[0;34m)\u001b[0m\u001b[0;34m\u001b[0m\u001b[0;34m\u001b[0m\u001b[0m\n\u001b[0m\u001b[1;32m    293\u001b[0m \u001b[0;34m\u001b[0m\u001b[0m\n\u001b[1;32m    294\u001b[0m         \u001b[0;32melif\u001b[0m \u001b[0mself\u001b[0m\u001b[0;34m.\u001b[0m\u001b[0mtagset\u001b[0m \u001b[0;34m==\u001b[0m \u001b[0;34m\"universal\"\u001b[0m\u001b[0;34m:\u001b[0m\u001b[0;34m\u001b[0m\u001b[0;34m\u001b[0m\u001b[0m\n",
            "\u001b[0;32m/usr/local/lib/python3.7/dist-packages/yellowbrick/text/postag.py\u001b[0m in \u001b[0;36m_handle_treebank\u001b[0;34m(self, X, y)\u001b[0m\n\u001b[1;32m    436\u001b[0m         \u001b[0;32mfor\u001b[0m \u001b[0midx\u001b[0m\u001b[0;34m,\u001b[0m \u001b[0mtagged_doc\u001b[0m \u001b[0;32min\u001b[0m \u001b[0menumerate\u001b[0m\u001b[0;34m(\u001b[0m\u001b[0mX\u001b[0m\u001b[0;34m)\u001b[0m\u001b[0;34m:\u001b[0m\u001b[0;34m\u001b[0m\u001b[0;34m\u001b[0m\u001b[0m\n\u001b[1;32m    437\u001b[0m             \u001b[0;32mfor\u001b[0m \u001b[0mtagged_sent\u001b[0m \u001b[0;32min\u001b[0m \u001b[0mtagged_doc\u001b[0m\u001b[0;34m:\u001b[0m\u001b[0;34m\u001b[0m\u001b[0;34m\u001b[0m\u001b[0m\n\u001b[0;32m--> 438\u001b[0;31m                 \u001b[0;32mfor\u001b[0m \u001b[0m_\u001b[0m\u001b[0;34m,\u001b[0m \u001b[0mtag\u001b[0m \u001b[0;32min\u001b[0m \u001b[0mtagged_sent\u001b[0m\u001b[0;34m:\u001b[0m\u001b[0;34m\u001b[0m\u001b[0;34m\u001b[0m\u001b[0m\n\u001b[0m\u001b[1;32m    439\u001b[0m                     \u001b[0;32mif\u001b[0m \u001b[0mself\u001b[0m\u001b[0;34m.\u001b[0m\u001b[0mstack\u001b[0m\u001b[0;34m:\u001b[0m\u001b[0;34m\u001b[0m\u001b[0;34m\u001b[0m\u001b[0m\n\u001b[1;32m    440\u001b[0m                         \u001b[0mcounter\u001b[0m \u001b[0;34m=\u001b[0m \u001b[0mself\u001b[0m\u001b[0;34m.\u001b[0m\u001b[0mpos_tag_counts_\u001b[0m\u001b[0;34m[\u001b[0m\u001b[0my\u001b[0m\u001b[0;34m[\u001b[0m\u001b[0midx\u001b[0m\u001b[0;34m]\u001b[0m\u001b[0;34m]\u001b[0m\u001b[0;34m\u001b[0m\u001b[0;34m\u001b[0m\u001b[0m\n",
            "\u001b[0;31mValueError\u001b[0m: not enough values to unpack (expected 2, got 1)"
          ]
        }
      ]
    },
    {
      "cell_type": "markdown",
      "source": [
        "The PosTagVisualizer can also be used with text tagged using spaCy's universal dependency framework by specifying the tagset keyword as “universal.”"
      ],
      "metadata": {
        "id": "WxNtpTd_X5Tl"
      }
    },
    {
      "cell_type": "code",
      "source": [
        "tagged_speech = [\n",
        "    [\n",
        "        [\n",
        "            ('In', 'ADP'),('all', 'DET'),('honesty', 'NOUN'),(',', 'PUNCT'),\n",
        "            ('I', 'PRON'),('said', 'VERB'),('yes', 'INTJ'),('to', 'ADP'),\n",
        "            ('the', 'DET'),('fear', 'NOUN'),('of', 'ADP'),('being', 'VERB'),\n",
        "            ('on', 'ADP'),('this', 'DET'),('stage', 'NOUN'),('tonight', 'NOUN'),\n",
        "            ('because', 'ADP'),('I', 'PRON'),('wanted', 'VERB'),('to', 'PART'),\n",
        "            ('be', 'VERB'),('here', 'ADV'),(',', 'PUNCT'),('to', 'PART'),\n",
        "            ('look', 'VERB'),('out', 'PART'),('into', 'ADP'),('this', 'DET'),\n",
        "            ('audience', 'NOUN'),(',', 'PUNCT'),('and', 'CCONJ'),\n",
        "            ('witness', 'VERB'),('this', 'DET'),('moment', 'NOUN'),('of', 'ADP'),\n",
        "            ('change', 'NOUN')\n",
        "            ],\n",
        "        [\n",
        "            ('and', 'CCONJ'),('I', 'PRON'),(\"'m\", 'VERB'),('not', 'ADV'),\n",
        "            ('fooling', 'VERB'),('myself', 'PRON'),('.', 'PUNCT')\n",
        "            ],\n",
        "        [\n",
        "            ('I', 'PRON'),(\"'m\", 'VERB'),('not', 'ADV'),('fooling', 'VERB'),\n",
        "            ('myself', 'PRON'),('.', 'PUNCT')\n",
        "            ],\n",
        "        [\n",
        "            ('Next', 'ADJ'),('year', 'NOUN'),('could', 'VERB'),('be', 'VERB'),\n",
        "            ('different', 'ADJ'),('.', 'PUNCT')\n",
        "            ],\n",
        "        [\n",
        "            ('It', 'PRON'),('probably', 'ADV'),('will', 'VERB'),('be', 'VERB'),\n",
        "            (',', 'PUNCT'),('but', 'CCONJ'),('right', 'ADV'),('now', 'ADV'),\n",
        "            ('this', 'DET'),('moment', 'NOUN'),('is', 'VERB'),('real', 'ADJ'),\n",
        "            ('.', 'PUNCT')\n",
        "            ],\n",
        "        [\n",
        "            ('Trust', 'VERB'),('me', 'PRON'),(',', 'PUNCT'),('it', 'PRON'),\n",
        "            ('is', 'VERB'),('real', 'ADJ'),('because', 'ADP'),('I', 'PRON'),\n",
        "            ('see', 'VERB'),('you', 'PRON')\n",
        "            ],\n",
        "        [\n",
        "            ('and', 'CCONJ'), ('I', 'PRON'), ('see', 'VERB'), ('you', 'PRON')\n",
        "            ],\n",
        "        [\n",
        "            ('—', 'PUNCT')\n",
        "            ],\n",
        "        [\n",
        "            ('all', 'ADJ'),('these', 'DET'),('faces', 'NOUN'),('of', 'ADP'),\n",
        "            ('change', 'NOUN')\n",
        "            ],\n",
        "        [\n",
        "            ('—', 'PUNCT'),('and', 'CCONJ'),('now', 'ADV'),('so', 'ADV'),\n",
        "            ('will', 'VERB'),('everyone', 'NOUN'),('else', 'ADV'), ('.', 'PUNCT')\n",
        "            ]\n",
        "    ]\n",
        "]\n",
        "\n",
        "# Create the visualizer, fit, score, and show it\n",
        "viz = PosTagVisualizer(tagset=\"universal\")\n",
        "viz.fit(tagged_speech)\n",
        "viz.show()"
      ],
      "metadata": {
        "colab": {
          "base_uri": "https://localhost:8080/",
          "height": 419
        },
        "id": "9x-_3awza8E4",
        "outputId": "14a2e957-e17c-43ec-e9a7-f5d4b1e12de4"
      },
      "execution_count": null,
      "outputs": [
        {
          "output_type": "display_data",
          "data": {
            "text/plain": [
              "<Figure size 576x396 with 1 Axes>"
            ],
            "image/png": "[encoded data removed]"
          },
          "metadata": {}
        },
        {
          "output_type": "execute_result",
          "data": {
            "text/plain": [
              "<matplotlib.axes._subplots.AxesSubplot at 0x7f6e97857c50>"
            ]
          },
          "metadata": {},
          "execution_count": 75
        }
      ]
    },
    {
      "cell_type": "markdown",
      "source": [
        ""
      ],
      "metadata": {
        "id": "gFjvK6TwX5Wb"
      }
    },
    {
      "cell_type": "code",
      "source": [
        "nlp = spacy.load(\"en_core_web_sm\")\n",
        "doc = nlp(\"Apple is looking at buying U.K. startup for $1 billion\")\n",
        "\n",
        "for token in doc:\n",
        "    print(token.text, token.lemma_, token.pos_, token.tag_, token.dep_,\n",
        "            token.shape_, token.is_alpha, token.is_stop)"
      ],
      "metadata": {
        "id": "e9kmGwFLyCtC"
      },
      "execution_count": null,
      "outputs": []
    },
    {
      "cell_type": "code",
      "source": [
        ""
      ],
      "metadata": {
        "id": "21CjS2A0yCzO"
      },
      "execution_count": null,
      "outputs": []
    }
  ]
}
