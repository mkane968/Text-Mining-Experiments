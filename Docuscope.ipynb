{
  "nbformat": 4,
  "nbformat_minor": 0,
  "metadata": {
    "colab": {
      "name": "Docuscope.ipynb",
      "provenance": [],
      "collapsed_sections": [],
      "authorship_tag": "ABX9TyN4eG+0oVPCjnGKNntbYgo3",
      "include_colab_link": true
    },
    "kernelspec": {
      "name": "python3",
      "display_name": "Python 3"
    },
    "language_info": {
      "name": "python"
    }
  },
  "cells": [
    {
      "cell_type": "markdown",
      "metadata": {
        "id": "view-in-github",
        "colab_type": "text"
      },
      "source": [
        "<a href=\"https://colab.research.google.com/github/mkane968/Text-Mining-Experiments/blob/main/Docuscope.ipynb\" target=\"_parent\"><img src=\"https://colab.research.google.com/assets/colab-badge.svg\" alt=\"Open In Colab\"/></a>"
      ]
    },
    {
      "cell_type": "markdown",
      "metadata": {
        "id": "QcwO-RZJspiY"
      },
      "source": [
        "This script is a sketch to adapt Docuscope dictionaries and Ubiqu-Ity Python tagging scripts to Jupyter Notebooks in Google Colab\n",
        "\n",
        "Docuscope Dictionaries: https://github.com/docuscope/DocuScope-Dictionary-June-26-2012\n",
        "\n",
        "Ubiqu-Ity scripts: https://github.com/uwgraphics/Ubiqu-Ity\n",
        "\n",
        "Note: Ubiqu-Ity requires Python 2.7 at this time.\n",
        "We'll explore in this notebook how to port their Python 2 code to Python 3.\n",
        "See here for details: https://docs.python.org/3/howto/pyporting.html"
      ]
    },
    {
      "cell_type": "markdown",
      "metadata": {
        "id": "DrCL-wm7up7J"
      },
      "source": [
        "This seems like a crucial script to try to adapt: https://github.com/uwgraphics/Ubiqu-Ity/blob/master/Ubiqu/tagCorpus.py\n",
        "\n",
        "https://github.com/uwgraphics/Ubiqu-Ity/blob/master/Ubiqu/ngramCorpus.py"
      ]
    },
    {
      "cell_type": "markdown",
      "metadata": {
        "id": "7nS8LhrywGRH"
      },
      "source": [
        "# Set up Colab Notebook for Importing .py Scripts (First Step)\n",
        "\n",
        "https://stackoverflow.com/questions/48905127/importing-py-files-in-google-colab"
      ]
    },
    {
      "cell_type": "markdown",
      "metadata": {
        "id": "wC8jmD0yvaJ3"
      },
      "source": [
        "# Tsting NGramcorpus.py"
      ]
    },
    {
      "cell_type": "code",
      "metadata": {
        "colab": {
          "base_uri": "https://localhost:8080/",
          "height": 393
        },
        "id": "F_sk3PrAseiI",
        "outputId": "45e98e8e-a910-45f3-beb0-dc41fc07dedc"
      },
      "source": [
        "import argparse\n",
        "import os\n",
        "import ubiq_internal_tasks as tasks\n",
        "from Ity.Tokenizers import RegexTokenizer\n",
        "from collections import defaultdict\n",
        "import sys\n",
        "import csv\n",
        "import math\n",
        "from operator import itemgetter"
      ],
      "execution_count": 1,
      "outputs": [
        {
          "output_type": "error",
          "ename": "ModuleNotFoundError",
          "evalue": "ignored",
          "traceback": [
            "\u001b[0;31m---------------------------------------------------------------------------\u001b[0m",
            "\u001b[0;31mModuleNotFoundError\u001b[0m                       Traceback (most recent call last)",
            "\u001b[0;32m<ipython-input-1-5aba9a21300b>\u001b[0m in \u001b[0;36m<module>\u001b[0;34m()\u001b[0m\n\u001b[1;32m      1\u001b[0m \u001b[0;32mimport\u001b[0m \u001b[0margparse\u001b[0m\u001b[0;34m\u001b[0m\u001b[0;34m\u001b[0m\u001b[0m\n\u001b[1;32m      2\u001b[0m \u001b[0;32mimport\u001b[0m \u001b[0mos\u001b[0m\u001b[0;34m\u001b[0m\u001b[0;34m\u001b[0m\u001b[0m\n\u001b[0;32m----> 3\u001b[0;31m \u001b[0;32mimport\u001b[0m \u001b[0mubiq_internal_tasks\u001b[0m \u001b[0;32mas\u001b[0m \u001b[0mtasks\u001b[0m\u001b[0;34m\u001b[0m\u001b[0;34m\u001b[0m\u001b[0m\n\u001b[0m\u001b[1;32m      4\u001b[0m \u001b[0;32mfrom\u001b[0m \u001b[0mIty\u001b[0m\u001b[0;34m.\u001b[0m\u001b[0mTokenizers\u001b[0m \u001b[0;32mimport\u001b[0m \u001b[0mRegexTokenizer\u001b[0m\u001b[0;34m\u001b[0m\u001b[0;34m\u001b[0m\u001b[0m\n\u001b[1;32m      5\u001b[0m \u001b[0;32mfrom\u001b[0m \u001b[0mcollections\u001b[0m \u001b[0;32mimport\u001b[0m \u001b[0mdefaultdict\u001b[0m\u001b[0;34m\u001b[0m\u001b[0;34m\u001b[0m\u001b[0m\n",
            "\u001b[0;31mModuleNotFoundError\u001b[0m: No module named 'ubiq_internal_tasks'",
            "",
            "\u001b[0;31m---------------------------------------------------------------------------\u001b[0;32m\nNOTE: If your import is failing due to a missing package, you can\nmanually install dependencies using either !pip or !apt.\n\nTo view examples of installing some common dependencies, click the\n\"Open Examples\" button below.\n\u001b[0;31m---------------------------------------------------------------------------\u001b[0m\n"
          ],
          "errorDetails": {
            "actions": [
              {
                "action": "open_url",
                "actionText": "Open Examples",
                "url": "/notebooks/snippets/importing_libraries.ipynb"
              }
            ]
          }
        }
      ]
    }
  ]
}