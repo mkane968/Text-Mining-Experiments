{
  "nbformat": 4,
  "nbformat_minor": 0,
  "metadata": {
    "kernelspec": {
      "display_name": "Python 3",
      "language": "python",
      "name": "python3"
    },
    "language_info": {
      "codemirror_mode": {
        "name": "ipython",
        "version": 3
      },
      "file_extension": ".py",
      "mimetype": "text/x-python",
      "name": "python",
      "nbconvert_exporter": "python",
      "pygments_lexer": "ipython3",
      "version": "3.6.4"
    },
    "colab": {
      "name": "1-1-Downloading-Libs-and-Testing-That-They-Are-Working.ipynb",
      "provenance": [],
      "include_colab_link": true
    }
  },
  "cells": [
    {
      "cell_type": "markdown",
      "metadata": {
        "id": "view-in-github",
        "colab_type": "text"
      },
      "source": [
        "<a href=\"https://colab.research.google.com/github/mkane968/Text-Mining-Experiments/blob/main/Intro%20to%20NLTK.ipynb\" target=\"_parent\"><img src=\"https://colab.research.google.com/assets/colab-badge.svg\" alt=\"Open In Colab\"/></a>"
      ]
    },
    {
      "cell_type": "markdown",
      "metadata": {
        "id": "3QifwE19od2b"
      },
      "source": [
        "# Installing Packages"
      ]
    },
    {
      "cell_type": "markdown",
      "metadata": {
        "id": "wUOQzbATod2f"
      },
      "source": [
        "Make sure you can successfully import all packages below without errors:"
      ]
    },
    {
      "cell_type": "code",
      "metadata": {
        "id": "5_K8nC1Eod2g",
        "outputId": "86c285ca-173c-4752-de78-316890f167e4"
      },
      "source": [
        "import nltk # https://www.nltk.org/install.html\n",
        "import numpy # https://www.scipy.org/install.html\n",
        "import matplotlib.pyplot # https://matplotlib.org/downloads.html\n",
        "import tweepy # https://github.com/tweepy/tweepy\n",
        "import TwitterSearch # https://github.com/ckoepp/TwitterSearch\n",
        "import unidecode # https://pypi.python.org/pypi/Unidecode\n",
        "import langdetect # https://pypi.python.org/pypi/langdetect\n",
        "import langid # https://github.com/saffsd/langid.py\n",
        "import gensim # https://radimrehurek.com/gensim/install.html"
      ],
      "execution_count": null,
      "outputs": [
        {
          "name": "stderr",
          "output_type": "stream",
          "text": [
            "c:\\users\\hzsab\\appdata\\local\\programs\\python\\python36-32\\lib\\site-packages\\gensim\\utils.py:1197: UserWarning: detected Windows; aliasing chunkize to chunkize_serial\n",
            "  warnings.warn(\"detected Windows; aliasing chunkize to chunkize_serial\")\n"
          ]
        }
      ]
    },
    {
      "cell_type": "markdown",
      "metadata": {
        "id": "103Exmv9od2i"
      },
      "source": [
        "You also need to run `nltk.download()` in order to download NLTK before proceeding:"
      ]
    },
    {
      "cell_type": "code",
      "metadata": {
        "id": "yw2NMxLSod2i"
      },
      "source": [
        "# nltk.download()"
      ],
      "execution_count": null,
      "outputs": []
    },
    {
      "cell_type": "markdown",
      "metadata": {
        "id": "TV9YfY9HpA5r"
      },
      "source": [
        "Following set of code from this notebook: https://github.com/hb20007/hands-on-nltk-tutorial/blob/master/1-2-Text-Analysis-Using-nltk.text.ipynb"
      ]
    },
    {
      "cell_type": "markdown",
      "metadata": {
        "id": "eOJH26wipGEm"
      },
      "source": [
        "# Basic Tokenization"
      ]
    },
    {
      "cell_type": "code",
      "metadata": {
        "id": "ojhwdolXoj94"
      },
      "source": [
        "from nltk.tokenize import word_tokenize\n",
        "from nltk.text import Text"
      ],
      "execution_count": null,
      "outputs": []
    },
    {
      "cell_type": "code",
      "metadata": {
        "id": "kcfL6y_jovLM"
      },
      "source": [
        "my_string = \"Two plus two is four, minus one that's three — quick maths. Every day man's on the block. Smoke trees. See your girl in the park, that girl is an uckers. When the thing went quack quack quack, your men were ducking! Hold tight Asznee, my brother. He's got a pumpy. Hold tight my man, my guy. He's got a frisbee. I trap, trap, trap on the phone. Moving that cornflakes, rice crispies. Hold tight my girl Whitney.\"\n",
        "tokens = word_tokenize(my_string)\n",
        "tokens = [word.lower() for word in tokens]\n",
        "tokens[:5]"
      ],
      "execution_count": null,
      "outputs": []
    },
    {
      "cell_type": "code",
      "metadata": {
        "id": "swGRe9Jwo84W"
      },
      "source": [
        "t = Text(tokens)\n",
        "t"
      ],
      "execution_count": null,
      "outputs": []
    }
  ]
}