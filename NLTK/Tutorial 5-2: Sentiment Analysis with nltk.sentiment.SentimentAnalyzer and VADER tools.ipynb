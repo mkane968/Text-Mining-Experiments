{
  "nbformat": 4,
  "nbformat_minor": 0,
  "metadata": {
    "colab": {
      "name": "Tutorial 5-2: Sentiment Analysis with nltk.sentiment.SentimentAnalyzer and VADER tools.ipynb",
      "provenance": [],
      "authorship_tag": "ABX9TyNxJJYILgMo+TRubGu76A71",
      "include_colab_link": true
    },
    "kernelspec": {
      "name": "python3",
      "display_name": "Python 3"
    },
    "language_info": {
      "name": "python"
    }
  },
  "cells": [
    {
      "cell_type": "markdown",
      "metadata": {
        "id": "view-in-github",
        "colab_type": "text"
      },
      "source": [
        "<a href=\"https://colab.research.google.com/github/mkane968/Text-Mining-Experiments/blob/main/NLTK/Tutorial%205-2%3A%20Sentiment%20Analysis%20with%20nltk.sentiment.SentimentAnalyzer%20and%20VADER%20tools.ipynb\" target=\"_parent\"><img src=\"https://colab.research.google.com/assets/colab-badge.svg\" alt=\"Open In Colab\"/></a>"
      ]
    },
    {
      "cell_type": "markdown",
      "source": [
        "##Tutorial 5-2: Sentiment Analysis with `nltk.sentiment.SentimentAnalyzer` and VADER tools"
      ],
      "metadata": {
        "id": "COYEfQzej8-h"
      }
    },
    {
      "cell_type": "markdown",
      "source": [
        "### ***Step 1: Exploring the `subjectivity` corpus***\n",
        "\n",
        "The Subjectivity Dataset contains 5000 subjective and 5000 objective processed sentences. Learn more about the subjectivity corpus [here](https://www.nltk.org/howto/corpus.html).\n",
        "\n",
        "Import subjectivity corpus and get the file ids."
      ],
      "metadata": {
        "id": "HHAKVRRnlGxq"
      }
    },
    {
      "cell_type": "code",
      "execution_count": 4,
      "metadata": {
        "colab": {
          "base_uri": "https://localhost:8080/"
        },
        "id": "dQ6vs51Tj8F_",
        "outputId": "9a2abfad-1523-49c0-964e-eb4180811f28"
      },
      "outputs": [
        {
          "output_type": "stream",
          "name": "stdout",
          "text": [
            "[nltk_data] Downloading package subjectivity to /root/nltk_data...\n",
            "[nltk_data]   Package subjectivity is already up-to-date!\n"
          ]
        },
        {
          "output_type": "execute_result",
          "data": {
            "text/plain": [
              "['plot.tok.gt9.5000', 'quote.tok.gt9.5000']"
            ]
          },
          "metadata": {},
          "execution_count": 4
        }
      ],
      "source": [
        "import nltk\n",
        "nltk.download('subjectivity')\n",
        "from nltk.corpus import subjectivity\n",
        "\n",
        "subjectivity.fileids()"
      ]
    },
    {
      "cell_type": "markdown",
      "source": [
        "Get tokens in plot.tok file"
      ],
      "metadata": {
        "id": "bbPO1cNqmD_5"
      }
    },
    {
      "cell_type": "code",
      "source": [
        "subjectivity.sents('plot.tok.gt9.5000')"
      ],
      "metadata": {
        "colab": {
          "base_uri": "https://localhost:8080/"
        },
        "id": "-OvcGQBpmE5T",
        "outputId": "2f834b9f-8554-4155-8ee4-2dd638de68a2"
      },
      "execution_count": 5,
      "outputs": [
        {
          "output_type": "execute_result",
          "data": {
            "text/plain": [
              "[['the', 'movie', 'begins', 'in', 'the', 'past', 'where', 'a', 'young', 'boy', 'named', 'sam', 'attempts', 'to', 'save', 'celebi', 'from', 'a', 'hunter', '.'], ['emerging', 'from', 'the', 'human', 'psyche', 'and', 'showing', 'characteristics', 'of', 'abstract', 'expressionism', ',', 'minimalism', 'and', 'russian', 'constructivism', ',', 'graffiti', 'removal', 'has', 'secured', 'its', 'place', 'in', 'the', 'history', 'of', 'modern', 'art', 'while', 'being', 'created', 'by', 'artists', 'who', 'are', 'unconscious', 'of', 'their', 'artistic', 'achievements', '.'], ...]"
            ]
          },
          "metadata": {},
          "execution_count": 5
        }
      ]
    },
    {
      "cell_type": "markdown",
      "source": [
        "Get tokens in quote.tok file"
      ],
      "metadata": {
        "id": "BspFeKyCmomm"
      }
    },
    {
      "cell_type": "code",
      "source": [
        "subjectivity.sents('quote.tok.gt9.5000')"
      ],
      "metadata": {
        "colab": {
          "base_uri": "https://localhost:8080/"
        },
        "id": "kSZ_rKt8mvzk",
        "outputId": "ea6ef43d-0951-448d-b64d-757f82f4ec66"
      },
      "execution_count": 6,
      "outputs": [
        {
          "output_type": "execute_result",
          "data": {
            "text/plain": [
              "[['smart', 'and', 'alert', ',', 'thirteen', 'conversations', 'about', 'one', 'thing', 'is', 'a', 'small', 'gem', '.'], ['color', ',', 'musical', 'bounce', 'and', 'warm', 'seas', 'lapping', 'on', 'island', 'shores', '.', 'and', 'just', 'enough', 'science', 'to', 'send', 'you', 'home', 'thinking', '.'], ...]"
            ]
          },
          "metadata": {},
          "execution_count": 6
        }
      ]
    },
    {
      "cell_type": "markdown",
      "source": [
        "Retrieve the categories in subjectivity corpus (objective and subjective sentences)."
      ],
      "metadata": {
        "id": "MUq_FHPgmzcH"
      }
    },
    {
      "cell_type": "code",
      "source": [
        "subjectivity.categories() # The mapping between documents and categories does not depend on the file structure."
      ],
      "metadata": {
        "id": "iFSv2oNqmy5c"
      },
      "execution_count": null,
      "outputs": []
    },
    {
      "cell_type": "markdown",
      "source": [
        "Get tokens in subjectivity that are categorized as \"objective\""
      ],
      "metadata": {
        "id": "CcnY55Pjnhsz"
      }
    },
    {
      "cell_type": "code",
      "source": [
        "subjectivity.sents(categories='obj')"
      ],
      "metadata": {
        "colab": {
          "base_uri": "https://localhost:8080/"
        },
        "id": "IOTtbpLjnh2p",
        "outputId": "259bd8e4-15a4-44d2-9c6a-8d014c1098f7"
      },
      "execution_count": 7,
      "outputs": [
        {
          "output_type": "execute_result",
          "data": {
            "text/plain": [
              "[['the', 'movie', 'begins', 'in', 'the', 'past', 'where', 'a', 'young', 'boy', 'named', 'sam', 'attempts', 'to', 'save', 'celebi', 'from', 'a', 'hunter', '.'], ['emerging', 'from', 'the', 'human', 'psyche', 'and', 'showing', 'characteristics', 'of', 'abstract', 'expressionism', ',', 'minimalism', 'and', 'russian', 'constructivism', ',', 'graffiti', 'removal', 'has', 'secured', 'its', 'place', 'in', 'the', 'history', 'of', 'modern', 'art', 'while', 'being', 'created', 'by', 'artists', 'who', 'are', 'unconscious', 'of', 'their', 'artistic', 'achievements', '.'], ...]"
            ]
          },
          "metadata": {},
          "execution_count": 7
        }
      ]
    },
    {
      "cell_type": "markdown",
      "source": [
        "Get tokens in subjectivity that are categorized as \"subjective\""
      ],
      "metadata": {
        "id": "S-aYzaRQoOw3"
      }
    },
    {
      "cell_type": "code",
      "source": [
        "subjectivity.sents(categories='subj')"
      ],
      "metadata": {
        "colab": {
          "base_uri": "https://localhost:8080/"
        },
        "id": "J36LTi4PoO4b",
        "outputId": "726794aa-cdd0-4aaa-e42b-633de367852a"
      },
      "execution_count": 8,
      "outputs": [
        {
          "output_type": "execute_result",
          "data": {
            "text/plain": [
              "[['smart', 'and', 'alert', ',', 'thirteen', 'conversations', 'about', 'one', 'thing', 'is', 'a', 'small', 'gem', '.'], ['color', ',', 'musical', 'bounce', 'and', 'warm', 'seas', 'lapping', 'on', 'island', 'shores', '.', 'and', 'just', 'enough', 'science', 'to', 'send', 'you', 'home', 'thinking', '.'], ...]"
            ]
          },
          "metadata": {},
          "execution_count": 8
        }
      ]
    },
    {
      "cell_type": "markdown",
      "source": [
        "###***Step 2: Building and testing a classifier with `SentimentAnalyzer`***"
      ],
      "metadata": {
        "id": "-kh_y5Sloiln"
      }
    },
    {
      "cell_type": "markdown",
      "source": [
        "Import necessary classifiers and modules. "
      ],
      "metadata": {
        "id": "Df9CQPoVoqgo"
      }
    },
    {
      "cell_type": "code",
      "source": [
        "from nltk.classify import NaiveBayesClassifier\n",
        "from nltk.sentiment import SentimentAnalyzer # SentimentAnalyzer is a tool to implement and facilitate Sentiment Analysis.\n",
        "from nltk.sentiment.util import (mark_negation, extract_unigram_feats) # mark_negation(): Append _NEG suffix to words that appear in the scope between a negation and a punctuation mark. extract_unigram_feats(): Populate a dictionary of unigram features, reflecting the presence/absence in the document of each of the tokens in unigrams.\n"
      ],
      "metadata": {
        "id": "uW1gngyPoqpS"
      },
      "execution_count": null,
      "outputs": []
    }
  ]
}