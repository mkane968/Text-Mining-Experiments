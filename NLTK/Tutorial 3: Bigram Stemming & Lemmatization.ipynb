{
  "nbformat": 4,
  "nbformat_minor": 0,
  "metadata": {
    "colab": {
      "name": "Tutorial 3: Bigram Stemming & Lemmatization.ipynb",
      "provenance": [],
      "authorship_tag": "ABX9TyMrEuzGdyoWz+5beC1fVDKw",
      "include_colab_link": true
    },
    "kernelspec": {
      "name": "python3",
      "display_name": "Python 3"
    },
    "language_info": {
      "name": "python"
    }
  },
  "cells": [
    {
      "cell_type": "markdown",
      "metadata": {
        "id": "view-in-github",
        "colab_type": "text"
      },
      "source": [
        "<a href=\"https://colab.research.google.com/github/mkane968/Text-Mining-Experiments/blob/main/NLTK/Tutorial%203%3A%20Bigram%20Stemming%20%26%20Lemmatization.ipynb\" target=\"_parent\"><img src=\"https://colab.research.google.com/assets/colab-badge.svg\" alt=\"Open In Colab\"/></a>"
      ]
    },
    {
      "cell_type": "markdown",
      "source": [
        "#Tutorial 3: Bigram Stemming and Lemmatization"
      ],
      "metadata": {
        "id": "J_j8KgoL9Ewv"
      }
    },
    {
      "cell_type": "markdown",
      "source": [
        "Begin by exploring reuters corpus by retrieving file ids and categories. Reuters is a corpus of news documents. More specifically, reuters is a corpus reader for the Reuters corpus which provides us with methods to access the corpus:"
      ],
      "metadata": {
        "id": "IMX1ry0n-Oh-"
      }
    },
    {
      "cell_type": "markdown",
      "source": [
        "Importing and replace \\n with spaces in reuters corpus"
      ],
      "metadata": {
        "id": "ilZbXKygZQov"
      }
    },
    {
      "cell_type": "code",
      "execution_count": 1,
      "metadata": {
        "colab": {
          "base_uri": "https://localhost:8080/",
          "height": 218
        },
        "id": "Sf1WY-d_80wj",
        "outputId": "a38fd45d-085c-4daa-f772-34f8d3110268"
      },
      "outputs": [
        {
          "output_type": "error",
          "ename": "NameError",
          "evalue": "ignored",
          "traceback": [
            "\u001b[0;31m---------------------------------------------------------------------------\u001b[0m",
            "\u001b[0;31mNameError\u001b[0m                                 Traceback (most recent call last)",
            "\u001b[0;32m<ipython-input-1-396dbc14499c>\u001b[0m in \u001b[0;36m<module>\u001b[0;34m()\u001b[0m\n\u001b[1;32m      1\u001b[0m \u001b[0;32mfrom\u001b[0m \u001b[0mnltk\u001b[0m\u001b[0;34m.\u001b[0m\u001b[0mcorpus\u001b[0m \u001b[0;32mimport\u001b[0m \u001b[0mreuters\u001b[0m\u001b[0;34m\u001b[0m\u001b[0;34m\u001b[0m\u001b[0m\n\u001b[0;32m----> 2\u001b[0;31m \u001b[0mnltk\u001b[0m\u001b[0;34m.\u001b[0m\u001b[0mdownload\u001b[0m\u001b[0;34m(\u001b[0m\u001b[0;34m'reuters'\u001b[0m\u001b[0;34m)\u001b[0m\u001b[0;34m\u001b[0m\u001b[0;34m\u001b[0m\u001b[0m\n\u001b[0m\u001b[1;32m      3\u001b[0m \u001b[0;34m\u001b[0m\u001b[0m\n\u001b[1;32m      4\u001b[0m \u001b[0mreuters\u001b[0m\u001b[0;34m.\u001b[0m\u001b[0mreadme\u001b[0m\u001b[0;34m(\u001b[0m\u001b[0;34m)\u001b[0m\u001b[0;34m.\u001b[0m\u001b[0mreplace\u001b[0m\u001b[0;34m(\u001b[0m\u001b[0;34m'\\n'\u001b[0m\u001b[0;34m,\u001b[0m \u001b[0;34m' '\u001b[0m\u001b[0;34m)\u001b[0m\u001b[0;34m\u001b[0m\u001b[0;34m\u001b[0m\u001b[0m\n",
            "\u001b[0;31mNameError\u001b[0m: name 'nltk' is not defined"
          ]
        }
      ],
      "source": [
        "from nltk.corpus import reuters\n",
        "nltk.download('reuters')\n",
        "\n",
        "reuters.readme().replace('\\n', ' ')"
      ]
    },
    {
      "cell_type": "markdown",
      "source": [
        "Retrieve file ids in reuter's corpus"
      ],
      "metadata": {
        "id": "ru3rCBW0ZT1r"
      }
    },
    {
      "cell_type": "code",
      "source": [
        "reuters.fileids()"
      ],
      "metadata": {
        "id": "ZStmIYoe-SuZ"
      },
      "execution_count": null,
      "outputs": []
    },
    {
      "cell_type": "markdown",
      "source": [
        "Retrieve file id in specific position in reuters corpus"
      ],
      "metadata": {
        "id": "yU9L6izPZWgg"
      }
    },
    {
      "cell_type": "code",
      "source": [
        "reuters.fileids()[-1]"
      ],
      "metadata": {
        "colab": {
          "base_uri": "https://localhost:8080/",
          "height": 35
        },
        "id": "GhVXa_4p-XaO",
        "outputId": "e3551c54-a11c-499b-dbf8-65812cec33cf"
      },
      "execution_count": null,
      "outputs": [
        {
          "output_type": "execute_result",
          "data": {
            "application/vnd.google.colaboratory.intrinsic+json": {
              "type": "string"
            },
            "text/plain": [
              "'training/9995'"
            ]
          },
          "metadata": {},
          "execution_count": 13
        }
      ]
    },
    {
      "cell_type": "markdown",
      "source": [
        "Get length of files ids (number of files) in reuters corpus\n"
      ],
      "metadata": {
        "id": "YGHnnaU8ZZph"
      }
    },
    {
      "cell_type": "code",
      "source": [
        "len(reuters.fileids())"
      ],
      "metadata": {
        "colab": {
          "base_uri": "https://localhost:8080/"
        },
        "id": "otaOaV9n-YK0",
        "outputId": "c582b450-2e5b-45bf-87a7-2b21733cc4d2"
      },
      "execution_count": null,
      "outputs": [
        {
          "output_type": "execute_result",
          "data": {
            "text/plain": [
              "10788"
            ]
          },
          "metadata": {},
          "execution_count": 14
        }
      ]
    },
    {
      "cell_type": "markdown",
      "source": [
        "Retrieve reuters categories"
      ],
      "metadata": {
        "id": "mUhmysDQZb8b"
      }
    },
    {
      "cell_type": "code",
      "source": [
        "reuters.categories()"
      ],
      "metadata": {
        "colab": {
          "base_uri": "https://localhost:8080/"
        },
        "id": "7ANjRxx6-7b6",
        "outputId": "804cc6e6-2142-4d67-b7fa-cea804ab4254"
      },
      "execution_count": null,
      "outputs": [
        {
          "output_type": "execute_result",
          "data": {
            "text/plain": [
              "['acq',\n",
              " 'alum',\n",
              " 'barley',\n",
              " 'bop',\n",
              " 'carcass',\n",
              " 'castor-oil',\n",
              " 'cocoa',\n",
              " 'coconut',\n",
              " 'coconut-oil',\n",
              " 'coffee',\n",
              " 'copper',\n",
              " 'copra-cake',\n",
              " 'corn',\n",
              " 'cotton',\n",
              " 'cotton-oil',\n",
              " 'cpi',\n",
              " 'cpu',\n",
              " 'crude',\n",
              " 'dfl',\n",
              " 'dlr',\n",
              " 'dmk',\n",
              " 'earn',\n",
              " 'fuel',\n",
              " 'gas',\n",
              " 'gnp',\n",
              " 'gold',\n",
              " 'grain',\n",
              " 'groundnut',\n",
              " 'groundnut-oil',\n",
              " 'heat',\n",
              " 'hog',\n",
              " 'housing',\n",
              " 'income',\n",
              " 'instal-debt',\n",
              " 'interest',\n",
              " 'ipi',\n",
              " 'iron-steel',\n",
              " 'jet',\n",
              " 'jobs',\n",
              " 'l-cattle',\n",
              " 'lead',\n",
              " 'lei',\n",
              " 'lin-oil',\n",
              " 'livestock',\n",
              " 'lumber',\n",
              " 'meal-feed',\n",
              " 'money-fx',\n",
              " 'money-supply',\n",
              " 'naphtha',\n",
              " 'nat-gas',\n",
              " 'nickel',\n",
              " 'nkr',\n",
              " 'nzdlr',\n",
              " 'oat',\n",
              " 'oilseed',\n",
              " 'orange',\n",
              " 'palladium',\n",
              " 'palm-oil',\n",
              " 'palmkernel',\n",
              " 'pet-chem',\n",
              " 'platinum',\n",
              " 'potato',\n",
              " 'propane',\n",
              " 'rand',\n",
              " 'rape-oil',\n",
              " 'rapeseed',\n",
              " 'reserves',\n",
              " 'retail',\n",
              " 'rice',\n",
              " 'rubber',\n",
              " 'rye',\n",
              " 'ship',\n",
              " 'silver',\n",
              " 'sorghum',\n",
              " 'soy-meal',\n",
              " 'soy-oil',\n",
              " 'soybean',\n",
              " 'strategic-metal',\n",
              " 'sugar',\n",
              " 'sun-meal',\n",
              " 'sun-oil',\n",
              " 'sunseed',\n",
              " 'tea',\n",
              " 'tin',\n",
              " 'trade',\n",
              " 'veg-oil',\n",
              " 'wheat',\n",
              " 'wpi',\n",
              " 'yen',\n",
              " 'zinc']"
            ]
          },
          "metadata": {},
          "execution_count": 15
        }
      ]
    },
    {
      "cell_type": "markdown",
      "source": [
        "Retrieve sentences in specific file in reuters corpus"
      ],
      "metadata": {
        "id": "xFRA1zfTZeIB"
      }
    },
    {
      "cell_type": "code",
      "source": [
        "nltk.download('punkt')\n",
        "reuters.sents('test/14826')"
      ],
      "metadata": {
        "colab": {
          "base_uri": "https://localhost:8080/"
        },
        "id": "34dV_5P-_wuC",
        "outputId": "3ec6d4da-af28-4b2a-8476-877cbc30499d"
      },
      "execution_count": null,
      "outputs": [
        {
          "output_type": "stream",
          "name": "stdout",
          "text": [
            "[nltk_data] Downloading package punkt to /root/nltk_data...\n",
            "[nltk_data]   Unzipping tokenizers/punkt.zip.\n"
          ]
        },
        {
          "output_type": "execute_result",
          "data": {
            "text/plain": [
              "[['ASIAN', 'EXPORTERS', 'FEAR', 'DAMAGE', 'FROM', 'U', '.', 'S', '.-', 'JAPAN', 'RIFT', 'Mounting', 'trade', 'friction', 'between', 'the', 'U', '.', 'S', '.', 'And', 'Japan', 'has', 'raised', 'fears', 'among', 'many', 'of', 'Asia', \"'\", 's', 'exporting', 'nations', 'that', 'the', 'row', 'could', 'inflict', 'far', '-', 'reaching', 'economic', 'damage', ',', 'businessmen', 'and', 'officials', 'said', '.'], ['They', 'told', 'Reuter', 'correspondents', 'in', 'Asian', 'capitals', 'a', 'U', '.', 'S', '.', 'Move', 'against', 'Japan', 'might', 'boost', 'protectionist', 'sentiment', 'in', 'the', 'U', '.', 'S', '.', 'And', 'lead', 'to', 'curbs', 'on', 'American', 'imports', 'of', 'their', 'products', '.'], ...]"
            ]
          },
          "metadata": {},
          "execution_count": 19
        }
      ]
    },
    {
      "cell_type": "markdown",
      "source": [
        "Retrieving bigrams from files in Reuters corpus\n",
        "\n",
        "Load words in files under \"trade\" category into new variable and get length"
      ],
      "metadata": {
        "id": "mBskuQeI-dzg"
      }
    },
    {
      "cell_type": "code",
      "source": [
        "trade_words = reuters.words(categories='trade')\n",
        "len(trade_words)"
      ],
      "metadata": {
        "colab": {
          "base_uri": "https://localhost:8080/"
        },
        "id": "2peV1kswAOf4",
        "outputId": "bd9e3dcd-a92b-4392-c893-b58629152291"
      },
      "execution_count": null,
      "outputs": [
        {
          "output_type": "execute_result",
          "data": {
            "text/plain": [
              "142723"
            ]
          },
          "metadata": {},
          "execution_count": 20
        }
      ]
    },
    {
      "cell_type": "markdown",
      "source": [
        "Put first 100 trade words in new variable"
      ],
      "metadata": {
        "id": "5SDRpX6HZj5z"
      }
    },
    {
      "cell_type": "code",
      "source": [
        "trade_words_condensed = trade_words[:100]\n",
        "trade_words_condensed"
      ],
      "metadata": {
        "colab": {
          "base_uri": "https://localhost:8080/"
        },
        "id": "Xxgd0e3jAec8",
        "outputId": "5f2967f1-21fe-42a8-d2b3-513380b73590"
      },
      "execution_count": null,
      "outputs": [
        {
          "output_type": "execute_result",
          "data": {
            "text/plain": [
              "['ASIAN', 'EXPORTERS', 'FEAR', 'DAMAGE', 'FROM', 'U', ...]"
            ]
          },
          "metadata": {},
          "execution_count": 21
        }
      ]
    },
    {
      "cell_type": "markdown",
      "source": [
        "Download and import stopwords from nltk\n",
        "\n",
        "Remove stopwords from trade_words_condensed and lower case it"
      ],
      "metadata": {
        "id": "vKBsgd3OZrse"
      }
    },
    {
      "cell_type": "code",
      "source": [
        "nltk.download('stopwords')\n",
        "from nltk.corpus import stopwords\n",
        "\n",
        "trade_words_condensed = [w.lower() for w in trade_words_condensed if w.lower() not in stopwords.words('english')]\n",
        "trade_words_condensed[:10]"
      ],
      "metadata": {
        "colab": {
          "base_uri": "https://localhost:8080/"
        },
        "id": "LIRwerRrAl7V",
        "outputId": "2faed043-3328-4de4-a83f-7754d26289c1"
      },
      "execution_count": null,
      "outputs": [
        {
          "output_type": "stream",
          "name": "stdout",
          "text": [
            "[nltk_data] Downloading package stopwords to /root/nltk_data...\n",
            "[nltk_data]   Unzipping corpora/stopwords.zip.\n"
          ]
        },
        {
          "output_type": "execute_result",
          "data": {
            "text/plain": [
              "['asian',\n",
              " 'exporters',\n",
              " 'fear',\n",
              " 'damage',\n",
              " 'u',\n",
              " '.',\n",
              " '.-',\n",
              " 'japan',\n",
              " 'rift',\n",
              " 'mounting']"
            ]
          },
          "metadata": {},
          "execution_count": 23
        }
      ]
    },
    {
      "cell_type": "markdown",
      "source": [
        "Remove punctuation"
      ],
      "metadata": {
        "id": "FHhRk5vtZxZT"
      }
    },
    {
      "cell_type": "code",
      "source": [
        "import string \n",
        "# Contains string constants eg. ascii_lowercase which is 'a...z', string formatting functions, other string functions like .capwords() and .translate().\n",
        "\n",
        "# trade_words_condensed = [w for w in trade_words_condensed if w not in string.punctuation]\n",
        "punct_combo = [c + \"\\\"\" for c in string.punctuation ] + [\"\\\"\" + c for c in string.punctuation] + [\".-\", \":-\", \"..\", \"...\"]\n",
        "trade_words_condensed = [w for w in trade_words_condensed if w not in string.punctuation and w not in punct_combo]\n",
        "trade_words_condensed\n"
      ],
      "metadata": {
        "colab": {
          "base_uri": "https://localhost:8080/"
        },
        "id": "3HOYcJ3UA1IU",
        "outputId": "16b50f18-675e-4be9-a96d-ecec439d754a"
      },
      "execution_count": null,
      "outputs": [
        {
          "output_type": "execute_result",
          "data": {
            "text/plain": [
              "['asian',\n",
              " 'exporters',\n",
              " 'fear',\n",
              " 'damage',\n",
              " 'u',\n",
              " 'japan',\n",
              " 'rift',\n",
              " 'mounting',\n",
              " 'trade',\n",
              " 'friction',\n",
              " 'u',\n",
              " 'japan',\n",
              " 'raised',\n",
              " 'fears',\n",
              " 'among',\n",
              " 'many',\n",
              " 'asia',\n",
              " 'exporting',\n",
              " 'nations',\n",
              " 'row',\n",
              " 'could',\n",
              " 'inflict',\n",
              " 'far',\n",
              " 'reaching',\n",
              " 'economic',\n",
              " 'damage',\n",
              " 'businessmen',\n",
              " 'officials',\n",
              " 'said',\n",
              " 'told',\n",
              " 'reuter',\n",
              " 'correspondents',\n",
              " 'asian',\n",
              " 'capitals',\n",
              " 'u',\n",
              " 'move',\n",
              " 'japan',\n",
              " 'might',\n",
              " 'boost',\n",
              " 'protectionist',\n",
              " 'sentiment',\n",
              " 'u',\n",
              " 'lead',\n",
              " 'curbs',\n",
              " 'american',\n",
              " 'imports',\n",
              " 'products',\n",
              " 'exporters',\n",
              " 'said',\n",
              " 'conflict',\n",
              " 'would',\n",
              " 'hurt',\n",
              " 'long']"
            ]
          },
          "metadata": {},
          "execution_count": 24
        }
      ]
    },
    {
      "cell_type": "markdown",
      "source": [
        "Get bigrams for words in cleaned trade word list"
      ],
      "metadata": {
        "id": "4xILoihvZz9X"
      }
    },
    {
      "cell_type": "code",
      "source": [
        "from nltk import bigrams\n",
        "\n",
        "bi_trade_words_condensed = list(bigrams(trade_words_condensed))\n",
        "bi_trade_words_condensed[:5]"
      ],
      "metadata": {
        "colab": {
          "base_uri": "https://localhost:8080/"
        },
        "id": "-qL-UjECA8g8",
        "outputId": "191446de-497d-4597-9f80-abbda226c701"
      },
      "execution_count": null,
      "outputs": [
        {
          "output_type": "execute_result",
          "data": {
            "text/plain": [
              "[('asian', 'exporters'),\n",
              " ('exporters', 'fear'),\n",
              " ('fear', 'damage'),\n",
              " ('damage', 'u'),\n",
              " ('u', 'japan')]"
            ]
          },
          "metadata": {},
          "execution_count": 25
        }
      ]
    },
    {
      "cell_type": "markdown",
      "source": [
        "Create frequency distribution for bigrams in trade word list\n",
        "\n",
        "Print frequency of each word bigram"
      ],
      "metadata": {
        "id": "_5lXC4dgBMUa"
      }
    },
    {
      "cell_type": "code",
      "source": [
        "from nltk import FreqDist\n",
        "\n",
        "bi_fdist = FreqDist(bi_trade_words_condensed)\n",
        "\n",
        "for word, frequency in bi_fdist.most_common(3):\n",
        "    print(word, frequency)"
      ],
      "metadata": {
        "colab": {
          "base_uri": "https://localhost:8080/"
        },
        "id": "CUInWWtrBPun",
        "outputId": "57821105-5399-4822-eb88-b3b3e17f30e6"
      },
      "execution_count": null,
      "outputs": [
        {
          "output_type": "stream",
          "name": "stdout",
          "text": [
            "('u', 'japan') 2\n",
            "('asian', 'exporters') 1\n",
            "('exporters', 'fear') 1\n"
          ]
        }
      ]
    },
    {
      "cell_type": "markdown",
      "source": [
        "Plot frequency distribution of word bigrams"
      ],
      "metadata": {
        "id": "AfUn5bY5Z4qJ"
      }
    },
    {
      "cell_type": "code",
      "source": [
        "bi_fdist.plot(3, cumulative=False)"
      ],
      "metadata": {
        "colab": {
          "base_uri": "https://localhost:8080/",
          "height": 369
        },
        "id": "Hq1yxG8ICRf2",
        "outputId": "b90388bd-6abd-46a0-dcaa-c9080be28d9b"
      },
      "execution_count": null,
      "outputs": [
        {
          "output_type": "display_data",
          "data": {
            "image/png": "[encoded data removed]",
            "text/plain": [
              "<Figure size 432x288 with 1 Axes>"
            ]
          },
          "metadata": {
            "needs_background": "light"
          }
        }
      ]
    },
    {
      "cell_type": "markdown",
      "source": [
        "***Stemming:*** Reducing inflected words to their stem, based on root form \n",
        "\n",
        "Load each stemmer as variable and specify language\n",
        "\n",
        "Test how each imported stemmer stems sample text"
      ],
      "metadata": {
        "id": "BpDW257HCnPL"
      }
    },
    {
      "cell_type": "code",
      "source": [
        "from nltk.stem import (PorterStemmer, LancasterStemmer)\n",
        "from nltk.stem.snowball import SnowballStemmer # This is \"Porter 2\" and is considered the optimal stemmer.\n",
        "\n",
        "porter = PorterStemmer()\n",
        "lancaster = LancasterStemmer()\n",
        "snowball = SnowballStemmer(\"english\")\n",
        "\n",
        "print(porter.stem('Re-testing'), lancaster.stem('Re-testing'), snowball.stem('Re-testing'))"
      ],
      "metadata": {
        "colab": {
          "base_uri": "https://localhost:8080/"
        },
        "id": "NCZx2vf1CuJ3",
        "outputId": "e979ca15-5f54-4020-b5c9-e02a2d6a7019"
      },
      "execution_count": null,
      "outputs": [
        {
          "output_type": "stream",
          "name": "stdout",
          "text": [
            "re-test re-testing re-test\n"
          ]
        }
      ]
    },
    {
      "cell_type": "markdown",
      "source": [
        "Fun fact: SnowballStemmer can stem several other languages beside English.\n",
        "\n",
        "To make, for instance, a French stemmer, we can do the following: french_stemmer = SnowballStemmer('french')"
      ],
      "metadata": {
        "id": "Wu4ss5fzaDjz"
      }
    },
    {
      "cell_type": "code",
      "source": [
        "SnowballStemmer.languages"
      ],
      "metadata": {
        "colab": {
          "base_uri": "https://localhost:8080/"
        },
        "id": "Rr2SjWOFDU_k",
        "outputId": "fbd954ce-4ced-4150-b010-17ab71f8dd5b"
      },
      "execution_count": null,
      "outputs": [
        {
          "output_type": "execute_result",
          "data": {
            "text/plain": [
              "('arabic',\n",
              " 'danish',\n",
              " 'dutch',\n",
              " 'english',\n",
              " 'finnish',\n",
              " 'french',\n",
              " 'german',\n",
              " 'hungarian',\n",
              " 'italian',\n",
              " 'norwegian',\n",
              " 'porter',\n",
              " 'portuguese',\n",
              " 'romanian',\n",
              " 'russian',\n",
              " 'spanish',\n",
              " 'swedish')"
            ]
          },
          "metadata": {},
          "execution_count": 29
        }
      ]
    },
    {
      "cell_type": "markdown",
      "source": [
        "This is an alternative that creates a dictionary mapping of every character from string.punctuation to None (this will also work but creates a whole dictionary so is slower)\n",
        "\n",
        "This uses the 3-argument version of str.maketrans with arguments (x, y, z) where 'x' and 'y' must be equal-length strings and characters in 'x' are replaced by characters in 'y'. 'z' is a string (string.punctuation here) where each character in the string is mapped to None"
      ],
      "metadata": {
        "id": "R_PFrLVfaH-G"
      }
    },
    {
      "cell_type": "code",
      "source": [
        "#translator = str.maketrans(dict.fromkeys(string.punctuation)\n",
        "from nltk import word_tokenize\n",
        "\n",
        "sentence = \"So, we'll go no more a-roving. So late into the night, Though the heart be still as loving, And the moon be still as bright.\"\n",
        "\n",
        "translator = str.maketrans('', '', string.punctuation)\n",
        "translator"
      ],
      "metadata": {
        "colab": {
          "base_uri": "https://localhost:8080/"
        },
        "id": "YYcPq_9WDYf0",
        "outputId": "88065ea3-febb-499b-dc79-a27af8d4b204"
      },
      "execution_count": null,
      "outputs": [
        {
          "output_type": "execute_result",
          "data": {
            "text/plain": [
              "{33: None,\n",
              " 34: None,\n",
              " 35: None,\n",
              " 36: None,\n",
              " 37: None,\n",
              " 38: None,\n",
              " 39: None,\n",
              " 40: None,\n",
              " 41: None,\n",
              " 42: None,\n",
              " 43: None,\n",
              " 44: None,\n",
              " 45: None,\n",
              " 46: None,\n",
              " 47: None,\n",
              " 58: None,\n",
              " 59: None,\n",
              " 60: None,\n",
              " 61: None,\n",
              " 62: None,\n",
              " 63: None,\n",
              " 64: None,\n",
              " 91: None,\n",
              " 92: None,\n",
              " 93: None,\n",
              " 94: None,\n",
              " 95: None,\n",
              " 96: None,\n",
              " 123: None,\n",
              " 124: None,\n",
              " 125: None,\n",
              " 126: None}"
            ]
          },
          "metadata": {},
          "execution_count": 31
        }
      ]
    },
    {
      "cell_type": "code",
      "source": [
        "tokens = word_tokenize(sentence.translate(translator))\n",
        "tokens[:3]"
      ],
      "metadata": {
        "colab": {
          "base_uri": "https://localhost:8080/"
        },
        "id": "Ke4-zZ4NDviB",
        "outputId": "a37bdd14-6cd1-4404-d466-85a4f9cc6016"
      },
      "execution_count": null,
      "outputs": [
        {
          "output_type": "execute_result",
          "data": {
            "text/plain": [
              "['So', 'well', 'go']"
            ]
          },
          "metadata": {},
          "execution_count": 32
        }
      ]
    },
    {
      "cell_type": "code",
      "source": [
        "for stemmer in [porter, lancaster, snowball]:\n",
        "    print([stemmer.stem(t) for t in tokens])"
      ],
      "metadata": {
        "colab": {
          "base_uri": "https://localhost:8080/"
        },
        "id": "ni08n2GdDzEV",
        "outputId": "71bc2a55-f021-4f7b-e72b-038fd6c89cb2"
      },
      "execution_count": null,
      "outputs": [
        {
          "output_type": "stream",
          "name": "stdout",
          "text": [
            "['So', 'well', 'go', 'no', 'more', 'arov', 'So', 'late', 'into', 'the', 'night', 'though', 'the', 'heart', 'be', 'still', 'as', 'love', 'and', 'the', 'moon', 'be', 'still', 'as', 'bright']\n",
            "['so', 'wel', 'go', 'no', 'mor', 'arov', 'so', 'lat', 'into', 'the', 'night', 'though', 'the', 'heart', 'be', 'stil', 'as', 'lov', 'and', 'the', 'moon', 'be', 'stil', 'as', 'bright']\n",
            "['so', 'well', 'go', 'no', 'more', 'arov', 'so', 'late', 'into', 'the', 'night', 'though', 'the', 'heart', 'be', 'still', 'as', 'love', 'and', 'the', 'moon', 'be', 'still', 'as', 'bright']\n"
          ]
        }
      ]
    },
    {
      "cell_type": "markdown",
      "source": [
        "***Lemmatization:*** Aims to achieve a similar base \"stem\" for a word, but aims to derive the genuine dictionary root word, not just a truncated version of the word."
      ],
      "metadata": {
        "id": "ogFONe2bD3-H"
      }
    },
    {
      "cell_type": "markdown",
      "source": [
        "The default lemmatization method with the Python NLTK is the WordNet lemmatizer.\n"
      ],
      "metadata": {
        "id": "PkEcBVv2aO0V"
      }
    },
    {
      "cell_type": "code",
      "source": [
        "nltk.download('wordnet')\n",
        "from nltk import WordNetLemmatizer\n",
        "\n",
        "wnl = WordNetLemmatizer()\n",
        "\n",
        "print(wnl.lemmatize('brightening'), wnl.lemmatize('boxes'))"
      ],
      "metadata": {
        "colab": {
          "base_uri": "https://localhost:8080/"
        },
        "id": "dEGjqDUBEIVQ",
        "outputId": "aed6011c-0172-4ba2-a6f3-1f3368732a7b"
      },
      "execution_count": null,
      "outputs": [
        {
          "output_type": "stream",
          "name": "stdout",
          "text": [
            "[nltk_data] Downloading package wordnet to /root/nltk_data...\n",
            "[nltk_data]   Unzipping corpora/wordnet.zip.\n",
            "brightening box\n"
          ]
        }
      ]
    },
    {
      "cell_type": "markdown",
      "source": [
        "As we saw above, sometimes, if we try to lemmatize a word, it will end up with the same word. This is because the default part of speech is nouns.\n"
      ],
      "metadata": {
        "id": "tTT6WwHDaQvy"
      }
    },
    {
      "cell_type": "code",
      "source": [
        "wnl.lemmatize('brightening', pos='v')"
      ],
      "metadata": {
        "colab": {
          "base_uri": "https://localhost:8080/",
          "height": 35
        },
        "id": "fkBbTEAUEO0X",
        "outputId": "887d431f-4a3a-42fb-c159-fd1b36daa3c9"
      },
      "execution_count": null,
      "outputs": [
        {
          "output_type": "execute_result",
          "data": {
            "application/vnd.google.colaboratory.intrinsic+json": {
              "type": "string"
            },
            "text/plain": [
              "'brighten'"
            ]
          },
          "metadata": {},
          "execution_count": 36
        }
      ]
    }
  ]
}