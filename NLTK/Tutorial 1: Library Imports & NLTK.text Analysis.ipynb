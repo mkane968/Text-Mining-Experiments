{
  "nbformat": 4,
  "nbformat_minor": 0,
  "metadata": {
    "colab": {
      "name": "NLTK Tutorial 1: Library Imports and NLTK.text Analysis.ipynb",
      "provenance": [],
      "authorship_tag": "ABX9TyPdZ71np6qT5ZLwhsGynfgb",
      "include_colab_link": true
    },
    "kernelspec": {
      "name": "python3",
      "display_name": "Python 3"
    },
    "language_info": {
      "name": "python"
    }
  },
  "cells": [
    {
      "cell_type": "markdown",
      "metadata": {
        "id": "view-in-github",
        "colab_type": "text"
      },
      "source": [
        "<a href=\"https://colab.research.google.com/github/mkane968/Text-Mining-Experiments/blob/main/NLTK/Tutorial%201%3A%20Library%20Imports%20%26%20NLTK.text%20Analysis.ipynb\" target=\"_parent\"><img src=\"https://colab.research.google.com/assets/colab-badge.svg\" alt=\"Open In Colab\"/></a>"
      ]
    },
    {
      "cell_type": "markdown",
      "metadata": {
        "id": "RxO-w8foNimC"
      },
      "source": [
        "# Tutorial 1: Library Imports and NLTK.text Analysis"
      ]
    },
    {
      "cell_type": "markdown",
      "metadata": {
        "id": "8P9as4d4O1SR"
      },
      "source": [
        "**Tutorial 1.1: Downloading Libs and Testing That They Are Working**\n",
        "\n",
        "Install and import necessary libraries to prepare for text analysis (need to run ! pip install for those not in Colab by default)"
      ]
    },
    {
      "cell_type": "code",
      "metadata": {
        "colab": {
          "base_uri": "https://localhost:8080/"
        },
        "id": "WUjQB9_ZNeTS",
        "outputId": "89124498-0d28-415e-86d6-03a15cc6c389"
      },
      "source": [
        "import nltk # https://www.nltk.org/install.html\n",
        "import numpy # https://www.scipy.org/install.html\n",
        "import matplotlib.pyplot # https://matplotlib.org/downloads.html\n",
        "import tweepy # https://github.com/tweepy/tweepy\n",
        "!pip install TwitterSearch\n",
        "import TwitterSearch # https://github.com/ckoepp/TwitterSearch\n",
        "!pip install unidecode\n",
        "import unidecode # https://pypi.python.org/pypi/Unidecode\n",
        "!pip install langdetect\n",
        "import langdetect # https://pypi.python.org/pypi/langdetect\n",
        "!pip install langid\n",
        "import langid # https://github.com/saffsd/langid.py\n",
        "import gensim # https://radimrehurek.com/gensim/install.html"
      ],
      "execution_count": null,
      "outputs": [
        {
          "output_type": "stream",
          "name": "stdout",
          "text": [
            "Requirement already satisfied: TwitterSearch in /usr/local/lib/python3.7/dist-packages (1.0.2)\n",
            "Requirement already satisfied: requests-oauthlib>=0.3.0 in /usr/local/lib/python3.7/dist-packages (from TwitterSearch) (1.3.0)\n",
            "Requirement already satisfied: requests>=1.0.0 in /usr/local/lib/python3.7/dist-packages (from TwitterSearch) (2.23.0)\n",
            "Requirement already satisfied: chardet<4,>=3.0.2 in /usr/local/lib/python3.7/dist-packages (from requests>=1.0.0->TwitterSearch) (3.0.4)\n",
            "Requirement already satisfied: urllib3!=1.25.0,!=1.25.1,<1.26,>=1.21.1 in /usr/local/lib/python3.7/dist-packages (from requests>=1.0.0->TwitterSearch) (1.24.3)\n",
            "Requirement already satisfied: idna<3,>=2.5 in /usr/local/lib/python3.7/dist-packages (from requests>=1.0.0->TwitterSearch) (2.10)\n",
            "Requirement already satisfied: certifi>=2017.4.17 in /usr/local/lib/python3.7/dist-packages (from requests>=1.0.0->TwitterSearch) (2021.10.8)\n",
            "Requirement already satisfied: oauthlib>=3.0.0 in /usr/local/lib/python3.7/dist-packages (from requests-oauthlib>=0.3.0->TwitterSearch) (3.1.1)\n",
            "Requirement already satisfied: unidecode in /usr/local/lib/python3.7/dist-packages (1.3.2)\n",
            "Requirement already satisfied: langdetect in /usr/local/lib/python3.7/dist-packages (1.0.9)\n",
            "Requirement already satisfied: six in /usr/local/lib/python3.7/dist-packages (from langdetect) (1.15.0)\n",
            "Collecting langid\n",
            "  Downloading langid-1.1.6.tar.gz (1.9 MB)\n",
            "\u001b[K     |████████████████████████████████| 1.9 MB 5.4 MB/s \n",
            "\u001b[?25hRequirement already satisfied: numpy in /usr/local/lib/python3.7/dist-packages (from langid) (1.19.5)\n",
            "Building wheels for collected packages: langid\n",
            "  Building wheel for langid (setup.py) ... \u001b[?25l\u001b[?25hdone\n",
            "  Created wheel for langid: filename=langid-1.1.6-py3-none-any.whl size=1941187 sha256=19fe02a2b2c1f90643444c783a94e9d950a618a705dd30019f26c78ba89a9491\n",
            "  Stored in directory: /root/.cache/pip/wheels/2b/bb/7f/11e4db39477278161e882eadc46fb558949a28b13470fc74b8\n",
            "Successfully built langid\n",
            "Installing collected packages: langid\n",
            "Successfully installed langid-1.1.6\n"
          ]
        }
      ]
    },
    {
      "cell_type": "markdown",
      "metadata": {
        "id": "YMVw3A92Pe2H"
      },
      "source": [
        "**Tutorial 1.2: Text Analysis Using NLTK.text**\n",
        "\n",
        "Conduct basic tokenization and text analysis using NLTK.text module (concordancing, collocations, counting and indexing, distributional similarity, dispersion plot, plot, vocab, common contexts)"
      ]
    },
    {
      "cell_type": "code",
      "metadata": {
        "colab": {
          "base_uri": "https://localhost:8080/"
        },
        "id": "leDVe7p_ONPg",
        "outputId": "ec061327-41c9-4c10-adc6-687947849387"
      },
      "source": [
        "#Download NLTK packages including punkt and stopwords (not in original Jupyter notebook)\n",
        "from nltk.tokenize import word_tokenize\n",
        "from nltk.text import Text\n",
        "nltk.download('punkt')\n",
        "nltk.download('stopwords')\n",
        "nltk.download('reuters')"
      ],
      "execution_count": null,
      "outputs": [
        {
          "output_type": "stream",
          "name": "stdout",
          "text": [
            "[nltk_data] Downloading package punkt to /root/nltk_data...\n",
            "[nltk_data]   Package punkt is already up-to-date!\n",
            "[nltk_data] Downloading package stopwords to /root/nltk_data...\n",
            "[nltk_data]   Package stopwords is already up-to-date!\n",
            "[nltk_data] Downloading package reuters to /root/nltk_data...\n",
            "[nltk_data]   Package reuters is already up-to-date!\n"
          ]
        },
        {
          "output_type": "execute_result",
          "data": {
            "text/plain": [
              "True"
            ]
          },
          "metadata": {},
          "execution_count": 33
        }
      ]
    },
    {
      "cell_type": "code",
      "metadata": {
        "colab": {
          "base_uri": "https://localhost:8080/"
        },
        "id": "guuFNSF8Pt1k",
        "outputId": "5809dd49-b223-462c-d186-e3fd4875fea1"
      },
      "source": [
        "#Split string into tokens and lowercase tokens, then print first five tokens\n",
        "my_string = \"Two plus two is four, minus one that's three — quick maths. Every day man's on the block. Smoke trees. See your girl in the park, that girl is an uckers. When the thing went quack quack quack, your men were ducking! Hold tight Asznee, my brother. He's got a pumpy. Hold tight my man, my guy. He's got a frisbee. I trap, trap, trap on the phone. Moving that cornflakes, rice crispies. Hold tight my girl Whitney.\"\n",
        "tokens = word_tokenize(my_string)\n",
        "tokens = [word.lower() for word in tokens]\n",
        "tokens[:5]"
      ],
      "execution_count": null,
      "outputs": [
        {
          "output_type": "execute_result",
          "data": {
            "text/plain": [
              "['two', 'plus', 'two', 'is', 'four']"
            ]
          },
          "metadata": {},
          "execution_count": 10
        }
      ]
    },
    {
      "cell_type": "code",
      "metadata": {
        "colab": {
          "base_uri": "https://localhost:8080/"
        },
        "id": "ItLI4yBZQJ4G",
        "outputId": "b3ec8573-6257-4147-c455-b4f120edd275"
      },
      "source": [
        "#Assign text of tokens to variable t\n",
        "t = Text(tokens)\n",
        "t"
      ],
      "execution_count": null,
      "outputs": [
        {
          "output_type": "execute_result",
          "data": {
            "text/plain": [
              "<Text: two plus two is four , minus one...>"
            ]
          },
          "metadata": {},
          "execution_count": 11
        }
      ]
    },
    {
      "cell_type": "markdown",
      "metadata": {
        "id": "SOQ9TwmCQQ4y"
      },
      "source": [
        "This method of converting raw strings to NLTK Text instances can be used when reading text from a file. For instance: f = open('my-file.txt','rU') \n",
        "\n",
        "Opening a file with the mode 'U' or 'rU' will open a file for reading in universal newline mode. All three line ending conventions will be translated to a \"\\n\"\n",
        "\n",
        "raw = f.read()"
      ]
    },
    {
      "cell_type": "markdown",
      "metadata": {
        "id": "7jgKl9qmSjon"
      },
      "source": [
        "***Concordances*:** Find every occurence of specified word in context"
      ]
    },
    {
      "cell_type": "code",
      "metadata": {
        "colab": {
          "base_uri": "https://localhost:8080/"
        },
        "id": "6lE23TQbQOuP",
        "outputId": "ba82823a-5b61-4f83-a6e4-1f884783fd7d"
      },
      "source": [
        "# concordance() is a method of the Text class of NLTK. It finds words and displays a context window. Word matching is not case-sensitive.\n",
        "# concordance() is defined as follows: concordance(self, word, width=79, lines=25). Note default values for optional params.\n",
        "t.concordance('uckers')"
      ],
      "execution_count": null,
      "outputs": [
        {
          "output_type": "stream",
          "name": "stdout",
          "text": [
            "Displaying 1 of 1 matches:\n",
            " girl in the park , that girl is an uckers . when the thing went quack quack q\n"
          ]
        }
      ]
    },
    {
      "cell_type": "markdown",
      "metadata": {
        "id": "RYtLx_RpTAVW"
      },
      "source": [
        "***Collocations:*** Find multiple words which commonly co-occur"
      ]
    },
    {
      "cell_type": "code",
      "metadata": {
        "colab": {
          "base_uri": "https://localhost:8080/"
        },
        "id": "QO1vS3I5RhYt",
        "outputId": "44d1eb3b-56bb-4ea5-8847-62bcf2cfb114"
      },
      "source": [
        "# def collocations(self, num=20, window_size=2). num is the max no. of collocations to print.\n",
        "t.collocations()"
      ],
      "execution_count": null,
      "outputs": [
        {
          "output_type": "stream",
          "name": "stdout",
          "text": [
            "hold tight; quack quack\n"
          ]
        }
      ]
    },
    {
      "cell_type": "markdown",
      "metadata": {
        "id": "qNB-d6iiU0nT"
      },
      "source": [
        "***Count and Index:*** Find frequency of word appearance, position of word in text"
      ]
    },
    {
      "cell_type": "code",
      "metadata": {
        "colab": {
          "base_uri": "https://localhost:8080/"
        },
        "id": "CYWbp36ZTqWJ",
        "outputId": "ddbff1b6-15b4-4972-fe2f-6ebc0d83d1d2"
      },
      "source": [
        "#Count number of time word appears in text\n",
        "t.count('quack')"
      ],
      "execution_count": null,
      "outputs": [
        {
          "output_type": "execute_result",
          "data": {
            "text/plain": [
              "0"
            ]
          },
          "metadata": {},
          "execution_count": 25
        }
      ]
    },
    {
      "cell_type": "code",
      "metadata": {
        "id": "3px_kHdUVEmd"
      },
      "source": [
        "\n",
        "#Count position of word in text\n",
        "t.index('two')"
      ],
      "execution_count": null,
      "outputs": []
    },
    {
      "cell_type": "markdown",
      "metadata": {
        "id": "mHFfz7UfTmRM"
      },
      "source": [
        "***Distributional Similarity:*** Find other words which appear in the same contexts as the specified word; list most similar words first.\n"
      ]
    },
    {
      "cell_type": "code",
      "metadata": {
        "colab": {
          "base_uri": "https://localhost:8080/"
        },
        "id": "NhGnuWmvTlY8",
        "outputId": "d9cbc1d8-a310-4d2a-89fe-dc8e6829d816"
      },
      "source": [
        "#similar(self, word, num=20).\n",
        "t.similar('brother') "
      ],
      "execution_count": null,
      "outputs": [
        {
          "output_type": "stream",
          "name": "stdout",
          "text": [
            "guy\n"
          ]
        }
      ]
    },
    {
      "cell_type": "code",
      "metadata": {
        "id": "a0x_OrgnWT1j"
      },
      "source": [
        ""
      ],
      "execution_count": null,
      "outputs": []
    },
    {
      "cell_type": "markdown",
      "metadata": {
        "id": "drw2k8x0VXkV"
      },
      "source": [
        "***Dispersion Plot:*** Find and plot instances of word(s) as distributed across text"
      ]
    },
    {
      "cell_type": "code",
      "metadata": {
        "colab": {
          "base_uri": "https://localhost:8080/",
          "height": 295
        },
        "id": "Sx3zdwgfVwCI",
        "outputId": "70063483-4116-4f44-bff7-4a8df6bd242f"
      },
      "source": [
        "# Reveals patterns in word positions. Each stripe represents an instance of a word, and each row represents the entire text.\n",
        "t.dispersion_plot(['man', 'thing', 'quack']) "
      ],
      "execution_count": null,
      "outputs": [
        {
          "output_type": "display_data",
          "data": {
            "image/png": "[encoded data removed]",
            "text/plain": [
              "<Figure size 432x288 with 1 Axes>"
            ]
          },
          "metadata": {
            "needs_background": "light"
          }
        }
      ]
    },
    {
      "cell_type": "markdown",
      "metadata": {
        "id": "WBOtNw-1WMQY"
      },
      "source": [
        "***Plot:*** Find and plot specified number of most common tokens"
      ]
    },
    {
      "cell_type": "code",
      "metadata": {
        "colab": {
          "base_uri": "https://localhost:8080/",
          "height": 299
        },
        "id": "4SInmqqkWJ7s",
        "outputId": "bb7fd1d0-2522-42ee-a53e-7560dfdcc7d8"
      },
      "source": [
        "t.plot(20) # plots 20 most common tokens"
      ],
      "execution_count": null,
      "outputs": [
        {
          "output_type": "display_data",
          "data": {
            "image/png": "[encoded data removed]",
            "text/plain": [
              "<Figure size 432x288 with 1 Axes>"
            ]
          },
          "metadata": {
            "needs_background": "light"
          }
        }
      ]
    },
    {
      "cell_type": "markdown",
      "metadata": {
        "id": "vQRXrFITWqTX"
      },
      "source": [
        "***Vocab:*** Find frequency of each token in text"
      ]
    },
    {
      "cell_type": "code",
      "metadata": {
        "colab": {
          "base_uri": "https://localhost:8080/"
        },
        "id": "pSg-mOdaWmLw",
        "outputId": "f7646bf8-7ab3-4e0f-ab01-27208ceac3b0"
      },
      "source": [
        "t.vocab()"
      ],
      "execution_count": null,
      "outputs": [
        {
          "output_type": "execute_result",
          "data": {
            "text/plain": [
              "FreqDist({'!': 1,\n",
              "          \"'s\": 4,\n",
              "          ',': 8,\n",
              "          '.': 11,\n",
              "          'a': 2,\n",
              "          'an': 1,\n",
              "          'asznee': 1,\n",
              "          'block': 1,\n",
              "          'brother': 1,\n",
              "          'cornflakes': 1,\n",
              "          'crispies': 1,\n",
              "          'day': 1,\n",
              "          'ducking': 1,\n",
              "          'every': 1,\n",
              "          'four': 1,\n",
              "          'frisbee': 1,\n",
              "          'girl': 3,\n",
              "          'got': 2,\n",
              "          'guy': 1,\n",
              "          'he': 2,\n",
              "          'hold': 3,\n",
              "          'i': 1,\n",
              "          'in': 1,\n",
              "          'is': 2,\n",
              "          'man': 2,\n",
              "          'maths': 1,\n",
              "          'men': 1,\n",
              "          'minus': 1,\n",
              "          'moving': 1,\n",
              "          'my': 4,\n",
              "          'on': 2,\n",
              "          'one': 1,\n",
              "          'park': 1,\n",
              "          'phone': 1,\n",
              "          'plus': 1,\n",
              "          'pumpy': 1,\n",
              "          'quack': 3,\n",
              "          'quick': 1,\n",
              "          'rice': 1,\n",
              "          'see': 1,\n",
              "          'smoke': 1,\n",
              "          'that': 3,\n",
              "          'the': 4,\n",
              "          'thing': 1,\n",
              "          'three': 1,\n",
              "          'tight': 3,\n",
              "          'trap': 3,\n",
              "          'trees': 1,\n",
              "          'two': 2,\n",
              "          'uckers': 1,\n",
              "          'went': 1,\n",
              "          'were': 1,\n",
              "          'when': 1,\n",
              "          'whitney': 1,\n",
              "          'your': 2,\n",
              "          '—': 1})"
            ]
          },
          "metadata": {},
          "execution_count": 28
        }
      ]
    },
    {
      "cell_type": "markdown",
      "metadata": {
        "id": "P7a9ksRqW8ts"
      },
      "source": [
        "***Common Contexts:*** Given two words used similarly, displays where in the text they were used similarly"
      ]
    },
    {
      "cell_type": "markdown",
      "metadata": {
        "id": "aXRsbd08YbEJ"
      },
      "source": [
        "Another thing that might be useful in analysis is finding common contexts. Our text is too small so we will use a bigger one.\n",
        "\n",
        "NLTK comes with several interesting corpora, which are large collections of text. You can check out what kinds of corpora are found in nltk.corpus in Section 1 here.\n",
        "\n",
        "reuters is a corpus of news documents. More specifically, reuters is a corpus reader for the Reuters corpus which provides us with methods to access the corpus:"
      ]
    },
    {
      "cell_type": "code",
      "metadata": {
        "id": "lm_RBA14X2VK"
      },
      "source": [
        "#Import and unzip Reuters corpus\n",
        "from nltk.corpus import reuters\n",
        "nltk.download('reuters')\n",
        "!unzip /root/nltk_data/corpora/reuters.zip -d /root/nltk_data/corpora/."
      ],
      "execution_count": null,
      "outputs": []
    },
    {
      "cell_type": "code",
      "metadata": {
        "colab": {
          "base_uri": "https://localhost:8080/"
        },
        "id": "1iyxa6vLW1Oh",
        "outputId": "76359cde-dfa9-4562-8606-028675bd6c26"
      },
      "source": [
        "from nltk.corpus import reuters\n",
        "# .words() is one method corpus readers provide for reading data from a corpus. We will learn more about these methods in Chapter 2.\n",
        "text = Text(reuters.words()) \n",
        "# It seems that .common_contexts() takes 2 words which are used similarly and displays where they are used similarly. It also seems that '_' indicates where the words would be in the text.\n",
        "text.common_contexts(['August', 'June']) "
      ],
      "execution_count": null,
      "outputs": [
        {
          "output_type": "stream",
          "name": "stdout",
          "text": [
            "in_1986 and_and by_. begins_1 paid_1986 in_, early_. or_, /_shipment\n",
            "of_. last_. for_shipment for_to on_3 on_12 on_19 last_when in_.\n",
            "in_1987 -_.\n"
          ]
        }
      ]
    }
  ]
}