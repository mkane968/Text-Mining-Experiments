{
 "cells": [
  {
   "cell_type": "markdown",
   "metadata": {
    "id": "DvUDzDlniodd"
   },
   "source": [
    "# Intro to NLTK Tutorial"
   ]
  },
  {
   "cell_type": "markdown",
   "metadata": {
    "id": "8P9as4d4O1SR"
   },
   "source": [
    "## Download  Libraries, Packages and Corpora  \n",
    "Install and import necessary libraries, packages and corpora to prepare for text analysis (need to run ! pip install for those not in Colab by default)"
   ]
  },
  {
   "cell_type": "markdown",
   "metadata": {
    "id": "COu_MvlZB_JI"
   },
   "source": [
    "Import all libraries"
   ]
  },
  {
   "cell_type": "code",
   "execution_count": 1,
   "metadata": {
    "id": "WUjQB9_ZNeTS"
   },
   "outputs": [
    {
     "name": "stdout",
     "output_type": "stream",
     "text": [
      "Requirement already satisfied: unidecode in /Users/megankane/opt/anaconda3/lib/python3.8/site-packages (1.3.2)\n",
      "Requirement already satisfied: langdetect in /Users/megankane/opt/anaconda3/lib/python3.8/site-packages (1.0.9)\n",
      "Requirement already satisfied: six in /Users/megankane/opt/anaconda3/lib/python3.8/site-packages (from langdetect) (1.15.0)\n",
      "Requirement already satisfied: langid in /Users/megankane/opt/anaconda3/lib/python3.8/site-packages (1.1.6)\n",
      "Requirement already satisfied: numpy in /Users/megankane/opt/anaconda3/lib/python3.8/site-packages (from langid) (1.21.2)\n"
     ]
    }
   ],
   "source": [
    "import nltk # https://www.nltk.org/install.html\n",
    "import numpy # https://www.scipy.org/install.html\n",
    "import matplotlib.pyplot as plt # https://matplotlib.org/downloads.html #Need to standardize this\n",
    "!pip install unidecode\n",
    "import unidecode # https://pypi.python.org/pypi/Unidecode\n",
    "!pip install langdetect\n",
    "import langdetect # https://pypi.python.org/pypi/langdetect\n",
    "!pip install langid\n",
    "import langid # https://github.com/saffsd/langid.py\n",
    "import gensim # https://radimrehurek.com/gensim/install.html\n",
    "import sys\n",
    "import operator\n",
    "import pickle\n",
    "import string \n",
    "# Contains string constants eg. ascii_lowercase which is 'a...z', string formatting functions, other string functions like .capwords() and .translate().\n",
    "import os\n",
    "import nltk.help\n",
    "import random\n",
    "import collections\n",
    "%matplotlib inline\n",
    "import itertools\n"
   ]
  },
  {
   "cell_type": "markdown",
   "metadata": {
    "id": "QgpYFCv0lqw9"
   },
   "source": [
    "Import all packages"
   ]
  },
  {
   "cell_type": "code",
   "execution_count": 2,
   "metadata": {
    "id": "aY5Bm7YflpAf"
   },
   "outputs": [],
   "source": [
    "from gensim.models import word2vec\n",
    "from nltk.chunk import RegexpParser, ne_chunk # ne = named entity\n",
    "from nltk.classify import accuracy\n",
    "from nltk.corpus import brown, gutenberg, movie_reviews, names, stopwords, subjectivity, words\n",
    "from nltk.metrics.scores import (precision, recall, f_measure)\n",
    "from nltk.metrics import edit_distance\n",
    "from nltk.sentiment.util import (mark_negation, extract_unigram_feats) \n",
    "# mark_negation(): Append _NEG suffix to words that appear in the scope between a negation and a punctuation mark. \n",
    "# extract_unigram_feats(): Populate a dictionary of unigram features, reflecting the presence/absence in the document of each of the tokens in unigrams.\n",
    "from nltk.sentiment.vader import SentimentIntensityAnalyzer\n",
    "from nltk.sentiment import SentimentAnalyzer # SentimentAnalyzer is a tool to implement and facilitate Sentiment Analysis.\n",
    "from nltk.stem.snowball import SnowballStemmer # This is \"Porter 2\" and is considered the optimal stemmer.\n",
    "from nltk.stem import (PorterStemmer, LancasterStemmer)\n",
    "from nltk.text import Text\n",
    "from nltk.tokenize import RegexpTokenizer, word_tokenize\n",
    "from nltk import bigrams, ngrams, DecisionTreeClassifier, everygrams, FreqDist, MaxentClassifier, NaiveBayesClassifier, pos_tag, sent_tokenize, WordNetLemmatizer\n",
    "from numpy import arange\n",
    "from operator import itemgetter\n",
    "from random import shuffle\n",
    "from string import punctuation\n",
    "import nltk.classify.util # Utility functions and classes for classifiers. Contains functions such as accuracy(classifier, gold)"
   ]
  },
  {
   "cell_type": "markdown",
   "metadata": {
    "id": "NL9QYinozkF6"
   },
   "source": [
    "Download NLTK corpora"
   ]
  },
  {
   "cell_type": "code",
   "execution_count": 23,
   "metadata": {
    "id": "Ueih18iMzj6e"
   },
   "outputs": [
    {
     "name": "stderr",
     "output_type": "stream",
     "text": [
      "[nltk_data] Downloading package averaged_perceptron_tagger to\n",
      "[nltk_data]     /Users/megankane/nltk_data...\n",
      "[nltk_data]   Package averaged_perceptron_tagger is already up-to-\n",
      "[nltk_data]       date!\n",
      "[nltk_data] Downloading package brown to /Users/megankane/nltk_data...\n",
      "[nltk_data]   Package brown is already up-to-date!\n",
      "[nltk_data] Downloading package gutenberg to\n",
      "[nltk_data]     /Users/megankane/nltk_data...\n",
      "[nltk_data]   Package gutenberg is already up-to-date!\n",
      "[nltk_data] Downloading package maxent_ne_chunker to\n",
      "[nltk_data]     /Users/megankane/nltk_data...\n",
      "[nltk_data]   Package maxent_ne_chunker is already up-to-date!\n",
      "[nltk_data] Downloading package movie_reviews to\n",
      "[nltk_data]     /Users/megankane/nltk_data...\n",
      "[nltk_data]   Package movie_reviews is already up-to-date!\n",
      "[nltk_data] Downloading package names to /Users/megankane/nltk_data...\n",
      "[nltk_data]   Package names is already up-to-date!\n",
      "[nltk_data] Downloading package punkt to /Users/megankane/nltk_data...\n",
      "[nltk_data]   Package punkt is already up-to-date!\n",
      "[nltk_data] Downloading package reuters to\n",
      "[nltk_data]     /Users/megankane/nltk_data...\n",
      "[nltk_data]   Package reuters is already up-to-date!\n",
      "[nltk_data] Downloading package stopwords to\n",
      "[nltk_data]     /Users/megankane/nltk_data...\n",
      "[nltk_data]   Package stopwords is already up-to-date!\n",
      "[nltk_data] Downloading package subjectivity to\n",
      "[nltk_data]     /Users/megankane/nltk_data...\n",
      "[nltk_data]   Package subjectivity is already up-to-date!\n",
      "[nltk_data] Downloading package vader_lexicon to\n",
      "[nltk_data]     /Users/megankane/nltk_data...\n",
      "[nltk_data]   Package vader_lexicon is already up-to-date!\n",
      "[nltk_data] Downloading package wordnet to\n",
      "[nltk_data]     /Users/megankane/nltk_data...\n",
      "[nltk_data]   Package wordnet is already up-to-date!\n",
      "[nltk_data] Downloading package words to /Users/megankane/nltk_data...\n",
      "[nltk_data]   Package words is already up-to-date!\n"
     ]
    },
    {
     "data": {
      "text/plain": [
       "True"
      ]
     },
     "execution_count": 23,
     "metadata": {},
     "output_type": "execute_result"
    }
   ],
   "source": [
    "nltk.download('averaged_perceptron_tagger')\n",
    "nltk.download('brown')\n",
    "nltk.download('gutenberg')\n",
    "nltk.download('maxent_ne_chunker')\n",
    "nltk.download('movie_reviews')\n",
    "nltk.download('names')\n",
    "nltk.download('punkt')\n",
    "nltk.download('reuters')\n",
    "nltk.download('stopwords')\n",
    "nltk.download('subjectivity')\n",
    "nltk.download('vader_lexicon')\n",
    "nltk.download('wordnet')\n",
    "nltk.download('words')"
   ]
  },
  {
   "cell_type": "markdown",
   "metadata": {
    "id": "YMVw3A92Pe2H"
   },
   "source": [
    "## Plain Text Analysis\n",
    "\n",
    "Conduct basic tokenization and text analysis using NLTK.text module (concordancing, collocations, counting and indexing, distributional similarity, dispersion plot, plot, vocab, common contexts)"
   ]
  },
  {
   "cell_type": "markdown",
   "metadata": {
    "id": "dK8CVFsIlx-b"
   },
   "source": [
    "Split string into tokens"
   ]
  },
  {
   "cell_type": "code",
   "execution_count": 4,
   "metadata": {
    "id": "guuFNSF8Pt1k"
   },
   "outputs": [],
   "source": [
    "my_string = \"Two plus two is four, minus one that's three — quick maths. Every day man's on the block. Smoke trees. See your girl in the park, that girl is an uckers. When the thing went quack quack quack, your men were ducking! Hold tight Asznee, my brother. He's got a pumpy. Hold tight my man, my guy. He's got a frisbee. I trap, trap, trap on the phone. Moving that cornflakes, rice crispies. Hold tight my girl Whitney.\"\n",
    "tokens = word_tokenize(my_string)"
   ]
  },
  {
   "cell_type": "markdown",
   "metadata": {
    "id": "JtIP4-74rEKy"
   },
   "source": [
    "Lowercase tokens, then print first five tokens"
   ]
  },
  {
   "cell_type": "code",
   "execution_count": 5,
   "metadata": {
    "id": "5cpM626lrEYj"
   },
   "outputs": [
    {
     "data": {
      "text/plain": [
       "['two', 'plus', 'two', 'is', 'four']"
      ]
     },
     "execution_count": 5,
     "metadata": {},
     "output_type": "execute_result"
    }
   ],
   "source": [
    "tokens = [word.lower() for word in tokens]\n",
    "tokens[:5]"
   ]
  },
  {
   "cell_type": "markdown",
   "metadata": {
    "id": "f6HOF6pml27G"
   },
   "source": [
    "Assign text of tokens to variable t"
   ]
  },
  {
   "cell_type": "code",
   "execution_count": 6,
   "metadata": {
    "id": "ItLI4yBZQJ4G"
   },
   "outputs": [
    {
     "data": {
      "text/plain": [
       "<Text: two plus two is four , minus one...>"
      ]
     },
     "execution_count": 6,
     "metadata": {},
     "output_type": "execute_result"
    }
   ],
   "source": [
    "t = Text(tokens)\n",
    "t"
   ]
  },
  {
   "cell_type": "markdown",
   "metadata": {
    "id": "SOQ9TwmCQQ4y"
   },
   "source": [
    "This method of converting raw strings to NLTK Text instances can be used when reading text from a file. For instance: f = open('my-file.txt','rU') \n",
    "\n",
    "Opening a file with the mode 'U' or 'rU' will open a file for reading in universal newline mode. All three line ending conventions will be translated to a \"\\n\"\n",
    "\n",
    "raw = f.read()"
   ]
  },
  {
   "cell_type": "markdown",
   "metadata": {
    "id": "7jgKl9qmSjon"
   },
   "source": [
    "###Concordances \n",
    "Concordance() is a method of the Text class of NLTK. It finds words and displays a context window. Word matching is not case-sensitive.\n",
    "\n",
    "`Concordance() `is defined as follows: concordance(self, word, width=79, lines=25). Note default values for optional params."
   ]
  },
  {
   "cell_type": "code",
   "execution_count": 7,
   "metadata": {
    "id": "6lE23TQbQOuP"
   },
   "outputs": [
    {
     "name": "stdout",
     "output_type": "stream",
     "text": [
      "Displaying 1 of 1 matches:\n",
      " girl in the park , that girl is an uckers . when the thing went quack quack q\n"
     ]
    }
   ],
   "source": [
    "t.concordance('uckers')"
   ]
  },
  {
   "cell_type": "markdown",
   "metadata": {
    "id": "RYtLx_RpTAVW"
   },
   "source": [
    "###Collocations\n",
    "Find multiple words which commonly co-occur\n",
    "\n",
    "def collocations(self, num=20, window_size=2). num is the max no. of collocations to print."
   ]
  },
  {
   "cell_type": "code",
   "execution_count": 8,
   "metadata": {
    "id": "QO1vS3I5RhYt"
   },
   "outputs": [
    {
     "name": "stdout",
     "output_type": "stream",
     "text": [
      "hold tight; quack quack\n"
     ]
    }
   ],
   "source": [
    "t.collocations() "
   ]
  },
  {
   "cell_type": "markdown",
   "metadata": {
    "id": "qNB-d6iiU0nT"
   },
   "source": [
    "###Count\n",
    "Find frequency of word appearance"
   ]
  },
  {
   "cell_type": "code",
   "execution_count": 9,
   "metadata": {
    "id": "CYWbp36ZTqWJ"
   },
   "outputs": [
    {
     "data": {
      "text/plain": [
       "3"
      ]
     },
     "execution_count": 9,
     "metadata": {},
     "output_type": "execute_result"
    }
   ],
   "source": [
    "t.count('quack')"
   ]
  },
  {
   "cell_type": "markdown",
   "metadata": {
    "id": "2RFJJJ0xOMJ1"
   },
   "source": [
    "###List\n",
    "\n",
    "Make text a list of words"
   ]
  },
  {
   "cell_type": "code",
   "execution_count": 10,
   "metadata": {
    "id": "EYL3sdE2OZuC"
   },
   "outputs": [],
   "source": [
    "sent1 = ['Call', 'me', 'Ishmael', '.']"
   ]
  },
  {
   "cell_type": "markdown",
   "metadata": {
    "id": "FqAcH3zfOYmt"
   },
   "source": [
    "From here, you can get the length of the list, append a value to the list or add two lists together"
   ]
  },
  {
   "cell_type": "code",
   "execution_count": 11,
   "metadata": {
    "colab": {
     "base_uri": "https://localhost:8080/"
    },
    "id": "GX40ZLVeO7BF",
    "outputId": "dac80042-b7a8-4b71-8083-540e5cd13eaf"
   },
   "outputs": [
    {
     "name": "stdout",
     "output_type": "stream",
     "text": [
      "4\n",
      "None\n"
     ]
    },
    {
     "data": {
      "text/plain": [
       "['Monty', 'Python', 'and', 'the', 'Holy', 'Grail']"
      ]
     },
     "execution_count": 11,
     "metadata": {},
     "output_type": "execute_result"
    }
   ],
   "source": [
    "print(len(sent1))\n",
    "\n",
    "print(sent1.append(\"Some\"))\n",
    "\n",
    "['Monty', 'Python'] + ['and', 'the', 'Holy', 'Grail']"
   ]
  },
  {
   "cell_type": "markdown",
   "metadata": {
    "id": "swMoLQARmXLt"
   },
   "source": [
    "###Index \n",
    "Find position of word in text"
   ]
  },
  {
   "cell_type": "code",
   "execution_count": 12,
   "metadata": {
    "id": "3px_kHdUVEmd"
   },
   "outputs": [
    {
     "data": {
      "text/plain": [
       "0"
      ]
     },
     "execution_count": 12,
     "metadata": {},
     "output_type": "execute_result"
    }
   ],
   "source": [
    "t.index('two')"
   ]
  },
  {
   "cell_type": "markdown",
   "metadata": {
    "id": "mHFfz7UfTmRM"
   },
   "source": [
    "###Distributional Similarity\n",
    "Find other words which appear in the same contexts as the specified word; list most similar words first.\n"
   ]
  },
  {
   "cell_type": "code",
   "execution_count": 13,
   "metadata": {
    "id": "NhGnuWmvTlY8"
   },
   "outputs": [
    {
     "name": "stdout",
     "output_type": "stream",
     "text": [
      "guy\n"
     ]
    }
   ],
   "source": [
    "t.similar('brother') #similar(self, word, num=20)"
   ]
  },
  {
   "cell_type": "markdown",
   "metadata": {
    "id": "drw2k8x0VXkV"
   },
   "source": [
    "###Dispersion Plot\n",
    "Find and plot instances of word(s) as distributed across text. Reveals patterns in word positions. Each stripe represents an instance of a word, and each row represents the entire text."
   ]
  },
  {
   "cell_type": "code",
   "execution_count": 14,
   "metadata": {
    "id": "Sx3zdwgfVwCI"
   },
   "outputs": [
    {
     "data": {
      "image/png": "[encoded data removed]",
      "text/plain": [
       "<Figure size 432x288 with 1 Axes>"
      ]
     },
     "metadata": {
      "needs_background": "light"
     },
     "output_type": "display_data"
    }
   ],
   "source": [
    "t.dispersion_plot(['man', 'thing', 'quack']) "
   ]
  },
  {
   "cell_type": "markdown",
   "metadata": {
    "id": "WBOtNw-1WMQY"
   },
   "source": [
    "###Frequency Plot\n",
    "Find and plot specified number of most common tokens"
   ]
  },
  {
   "cell_type": "code",
   "execution_count": 15,
   "metadata": {
    "id": "4SInmqqkWJ7s"
   },
   "outputs": [
    {
     "data": {
      "image/png": "[encoded data removed]",
      "text/plain": [
       "<Figure size 432x288 with 1 Axes>"
      ]
     },
     "metadata": {
      "needs_background": "light"
     },
     "output_type": "display_data"
    }
   ],
   "source": [
    "t.plot(20) # plots 20 most common tokens"
   ]
  },
  {
   "cell_type": "markdown",
   "metadata": {
    "id": "vQRXrFITWqTX"
   },
   "source": [
    "###Most Frequent Vocab\n",
    "Find frequency of each token in text"
   ]
  },
  {
   "cell_type": "code",
   "execution_count": 16,
   "metadata": {
    "id": "pSg-mOdaWmLw"
   },
   "outputs": [
    {
     "data": {
      "text/plain": [
       "FreqDist({'.': 11, ',': 8, \"'s\": 4, 'the': 4, 'my': 4, 'that': 3, 'girl': 3, 'quack': 3, 'hold': 3, 'tight': 3, ...})"
      ]
     },
     "execution_count": 16,
     "metadata": {},
     "output_type": "execute_result"
    }
   ],
   "source": [
    "t.vocab()"
   ]
  },
  {
   "cell_type": "markdown",
   "metadata": {
    "id": "aXRsbd08YbEJ"
   },
   "source": [
    "###Common Contexts\n",
    "Given two words used similarly, displays where in the text they were used similarly\n",
    "\n",
    "Our text is too small, so we will use a bigger one.\n",
    "\n",
    "NLTK comes with several interesting corpora, which are large collections of text. You can check out what kinds of corpora are found at http://www.nltk.org/nltk_data/ \n",
    "\n",
    "reuters is a corpus of news documents. More specifically, reuters is a corpus reader for the Reuters corpus which provides us with methods to access the corpus:"
   ]
  },
  {
   "cell_type": "code",
   "execution_count": 26,
   "metadata": {
    "id": "1iyxa6vLW1Oh"
   },
   "outputs": [],
   "source": [
    "text = Text(brown.words()) "
   ]
  },
  {
   "cell_type": "markdown",
   "metadata": {
    "id": "6bQXcSrsm5X8"
   },
   "source": [
    "It seems that .common_contexts() takes 2 words which are used similarly and displays where they are used similarly. It also seems that '_' indicates where the words would be in the text.\n"
   ]
  },
  {
   "cell_type": "code",
   "execution_count": 27,
   "metadata": {
    "id": "-D24KAPRm5et"
   },
   "outputs": [
    {
     "name": "stdout",
     "output_type": "stream",
     "text": [
      "in_, in_of of_, in_. in_and on_14 on_24 on_26 in_1960\n"
     ]
    }
   ],
   "source": [
    "text.common_contexts(['August', 'June']) "
   ]
  },
  {
   "cell_type": "markdown",
   "metadata": {
    "id": "YJxCT_K3GOoh"
   },
   "source": [
    "##Text Processing and Wrangling"
   ]
  },
  {
   "cell_type": "markdown",
   "metadata": {
    "id": "J_j8KgoL9Ewv"
   },
   "source": [
    "### Bigram Stemming and Lemmatization"
   ]
  },
  {
   "cell_type": "markdown",
   "metadata": {
    "id": "IMX1ry0n-Oh-"
   },
   "source": [
    "Begin by exploring reuters corpus by retrieving file ids and categories. Reuters is a corpus of news documents. More specifically, reuters is a corpus reader for the Reuters corpus which provides us with methods to access the corpus:"
   ]
  },
  {
   "cell_type": "markdown",
   "metadata": {
    "id": "ilZbXKygZQov"
   },
   "source": [
    "Replace \\n with spaces in reuters corpus"
   ]
  },
  {
   "cell_type": "code",
   "execution_count": 29,
   "metadata": {
    "colab": {
     "base_uri": "https://localhost:8080/",
     "height": 218
    },
    "id": "Sf1WY-d_80wj",
    "outputId": "a38fd45d-085c-4daa-f772-34f8d3110268"
   },
   "outputs": [
    {
     "data": {
      "text/plain": [
       "'BROWN CORPUS  A Standard Corpus of Present-Day Edited American English, for use with Digital Computers.  by W. N. Francis and H. Kucera (1964) Department of Linguistics, Brown University Providence, Rhode Island, USA  Revised 1971, Revised and Amplified 1979  http://www.hit.uib.no/icame/brown/bcm.html  Distributed with the permission of the copyright holder, redistribution permitted. '"
      ]
     },
     "execution_count": 29,
     "metadata": {},
     "output_type": "execute_result"
    }
   ],
   "source": [
    "brown.readme().replace('\\n', ' ')"
   ]
  },
  {
   "cell_type": "markdown",
   "metadata": {
    "id": "ru3rCBW0ZT1r"
   },
   "source": [
    "Retrieve file ids in reuter's corpus"
   ]
  },
  {
   "cell_type": "code",
   "execution_count": 31,
   "metadata": {
    "id": "ZStmIYoe-SuZ"
   },
   "outputs": [],
   "source": [
    "#brown.fileids()"
   ]
  },
  {
   "cell_type": "markdown",
   "metadata": {
    "id": "yU9L6izPZWgg"
   },
   "source": [
    "Retrieve file id in specific position in reuters corpus"
   ]
  },
  {
   "cell_type": "code",
   "execution_count": 32,
   "metadata": {
    "colab": {
     "base_uri": "https://localhost:8080/",
     "height": 35
    },
    "id": "GhVXa_4p-XaO",
    "outputId": "e3551c54-a11c-499b-dbf8-65812cec33cf"
   },
   "outputs": [
    {
     "data": {
      "text/plain": [
       "'cr09'"
      ]
     },
     "execution_count": 32,
     "metadata": {},
     "output_type": "execute_result"
    }
   ],
   "source": [
    "brown.fileids()[-1]"
   ]
  },
  {
   "cell_type": "markdown",
   "metadata": {
    "id": "YGHnnaU8ZZph"
   },
   "source": [
    "Get length of files ids (number of files) in reuters corpus\n"
   ]
  },
  {
   "cell_type": "code",
   "execution_count": 33,
   "metadata": {
    "colab": {
     "base_uri": "https://localhost:8080/"
    },
    "id": "otaOaV9n-YK0",
    "outputId": "c582b450-2e5b-45bf-87a7-2b21733cc4d2"
   },
   "outputs": [
    {
     "data": {
      "text/plain": [
       "500"
      ]
     },
     "execution_count": 33,
     "metadata": {},
     "output_type": "execute_result"
    }
   ],
   "source": [
    "len(brown.fileids())"
   ]
  },
  {
   "cell_type": "markdown",
   "metadata": {
    "id": "mUhmysDQZb8b"
   },
   "source": [
    "Retrieve brown categories"
   ]
  },
  {
   "cell_type": "code",
   "execution_count": 36,
   "metadata": {
    "id": "7ANjRxx6-7b6"
   },
   "outputs": [
    {
     "data": {
      "text/plain": [
       "['adventure',\n",
       " 'belles_lettres',\n",
       " 'editorial',\n",
       " 'fiction',\n",
       " 'government',\n",
       " 'hobbies',\n",
       " 'humor',\n",
       " 'learned',\n",
       " 'lore',\n",
       " 'mystery',\n",
       " 'news',\n",
       " 'religion',\n",
       " 'reviews',\n",
       " 'romance',\n",
       " 'science_fiction']"
      ]
     },
     "execution_count": 36,
     "metadata": {},
     "output_type": "execute_result"
    }
   ],
   "source": [
    "brown.categories()"
   ]
  },
  {
   "cell_type": "markdown",
   "metadata": {
    "id": "xFRA1zfTZeIB"
   },
   "source": [
    "Retrieve sentences in specific file in brown corpus"
   ]
  },
  {
   "cell_type": "code",
   "execution_count": 35,
   "metadata": {
    "colab": {
     "base_uri": "https://localhost:8080/"
    },
    "id": "34dV_5P-_wuC",
    "outputId": "3ec6d4da-af28-4b2a-8476-877cbc30499d"
   },
   "outputs": [
    {
     "data": {
      "text/plain": [
       "[['The', 'Fulton', 'County', 'Grand', 'Jury', 'said', 'Friday', 'an', 'investigation', 'of', \"Atlanta's\", 'recent', 'primary', 'election', 'produced', '``', 'no', 'evidence', \"''\", 'that', 'any', 'irregularities', 'took', 'place', '.'], ['The', 'jury', 'further', 'said', 'in', 'term-end', 'presentments', 'that', 'the', 'City', 'Executive', 'Committee', ',', 'which', 'had', 'over-all', 'charge', 'of', 'the', 'election', ',', '``', 'deserves', 'the', 'praise', 'and', 'thanks', 'of', 'the', 'City', 'of', 'Atlanta', \"''\", 'for', 'the', 'manner', 'in', 'which', 'the', 'election', 'was', 'conducted', '.'], ...]"
      ]
     },
     "execution_count": 35,
     "metadata": {},
     "output_type": "execute_result"
    }
   ],
   "source": [
    "brown.sents()"
   ]
  },
  {
   "cell_type": "markdown",
   "metadata": {
    "id": "mBskuQeI-dzg"
   },
   "source": [
    "Retrieving bigrams from files in Reuters corpus\n",
    "\n",
    "Load words in files under \"trade\" category into new variable and get length"
   ]
  },
  {
   "cell_type": "code",
   "execution_count": 37,
   "metadata": {
    "colab": {
     "base_uri": "https://localhost:8080/"
    },
    "id": "2peV1kswAOf4",
    "outputId": "bd9e3dcd-a92b-4392-c893-b58629152291"
   },
   "outputs": [
    {
     "data": {
      "text/plain": [
       "69342"
      ]
     },
     "execution_count": 37,
     "metadata": {},
     "output_type": "execute_result"
    }
   ],
   "source": [
    "adventure_words = brown.words(categories='adventure')\n",
    "len(adventure_words)"
   ]
  },
  {
   "cell_type": "markdown",
   "metadata": {
    "id": "5SDRpX6HZj5z"
   },
   "source": [
    "Put first 100 trade words in new variable"
   ]
  },
  {
   "cell_type": "code",
   "execution_count": 38,
   "metadata": {
    "colab": {
     "base_uri": "https://localhost:8080/"
    },
    "id": "Xxgd0e3jAec8",
    "outputId": "5f2967f1-21fe-42a8-d2b3-513380b73590"
   },
   "outputs": [
    {
     "data": {
      "text/plain": [
       "['Dan', 'Morgan', 'told', 'himself', 'he', 'would', ...]"
      ]
     },
     "execution_count": 38,
     "metadata": {},
     "output_type": "execute_result"
    }
   ],
   "source": [
    "adventure_words_condensed = adventure_words[:100]\n",
    "adventure_words_condensed"
   ]
  },
  {
   "cell_type": "markdown",
   "metadata": {
    "id": "vKBsgd3OZrse"
   },
   "source": [
    "Remove stopwords from trade_words_condensed and lower case it"
   ]
  },
  {
   "cell_type": "code",
   "execution_count": 39,
   "metadata": {
    "colab": {
     "base_uri": "https://localhost:8080/"
    },
    "id": "LIRwerRrAl7V",
    "outputId": "2faed043-3328-4de4-a83f-7754d26289c1"
   },
   "outputs": [
    {
     "data": {
      "text/plain": [
       "['dan',\n",
       " 'morgan',\n",
       " 'told',\n",
       " 'would',\n",
       " 'forget',\n",
       " 'ann',\n",
       " 'turner',\n",
       " '.',\n",
       " 'well',\n",
       " 'rid']"
      ]
     },
     "execution_count": 39,
     "metadata": {},
     "output_type": "execute_result"
    }
   ],
   "source": [
    "adventure_words_condensed = [w.lower() for w in adventure_words_condensed if w.lower() not in stopwords.words('english')]\n",
    "adventure_words_condensed[:10]"
   ]
  },
  {
   "cell_type": "markdown",
   "metadata": {
    "id": "FHhRk5vtZxZT"
   },
   "source": [
    "Remove punctuation"
   ]
  },
  {
   "cell_type": "code",
   "execution_count": 40,
   "metadata": {
    "id": "3HOYcJ3UA1IU"
   },
   "outputs": [
    {
     "data": {
      "text/plain": [
       "['dan',\n",
       " 'morgan',\n",
       " 'told',\n",
       " 'would',\n",
       " 'forget',\n",
       " 'ann',\n",
       " 'turner',\n",
       " 'well',\n",
       " 'rid',\n",
       " 'certainly',\n",
       " 'want',\n",
       " 'wife',\n",
       " 'fickle',\n",
       " 'ann',\n",
       " 'married',\n",
       " \"he'd\",\n",
       " 'asking',\n",
       " 'trouble',\n",
       " 'rationalization',\n",
       " 'sometimes',\n",
       " 'woke',\n",
       " 'middle',\n",
       " 'night',\n",
       " 'thinking',\n",
       " 'ann',\n",
       " 'could',\n",
       " 'get',\n",
       " 'back',\n",
       " 'sleep',\n",
       " 'plans',\n",
       " 'dreams',\n",
       " 'revolved',\n",
       " 'around',\n",
       " 'much',\n",
       " 'long',\n",
       " 'felt',\n",
       " 'nothing',\n",
       " 'easiest',\n",
       " 'thing',\n",
       " 'would']"
      ]
     },
     "execution_count": 40,
     "metadata": {},
     "output_type": "execute_result"
    }
   ],
   "source": [
    "# adventure_words_condensed = [w for w in adventure_words_condensed if w not in string.punctuation]\n",
    "punct_combo = [c + \"\\\"\" for c in string.punctuation ] + [\"\\\"\" + c for c in string.punctuation] + [\".-\", \":-\", \"..\", \"...\"]\n",
    "adventure_words_condensed = [w for w in adventure_words_condensed if w not in string.punctuation and w not in punct_combo]\n",
    "#adventure_words_condensed"
   ]
  },
  {
   "cell_type": "markdown",
   "metadata": {
    "id": "4xILoihvZz9X"
   },
   "source": [
    "Get bigrams for words in cleaned trade word list"
   ]
  },
  {
   "cell_type": "code",
   "execution_count": 41,
   "metadata": {
    "colab": {
     "base_uri": "https://localhost:8080/"
    },
    "id": "-qL-UjECA8g8",
    "outputId": "191446de-497d-4597-9f80-abbda226c701"
   },
   "outputs": [
    {
     "data": {
      "text/plain": [
       "[('dan', 'morgan'),\n",
       " ('morgan', 'told'),\n",
       " ('told', 'would'),\n",
       " ('would', 'forget'),\n",
       " ('forget', 'ann')]"
      ]
     },
     "execution_count": 41,
     "metadata": {},
     "output_type": "execute_result"
    }
   ],
   "source": [
    "bi_adventure_words_condensed = list(bigrams(adventure_words_condensed))\n",
    "bi_adventure_words_condensed[:5]"
   ]
  },
  {
   "cell_type": "markdown",
   "metadata": {
    "id": "_5lXC4dgBMUa"
   },
   "source": [
    "Create frequency distribution for bigrams in trade word list\n",
    "\n",
    "Print frequency of each word bigram"
   ]
  },
  {
   "cell_type": "code",
   "execution_count": 42,
   "metadata": {
    "colab": {
     "base_uri": "https://localhost:8080/"
    },
    "id": "CUInWWtrBPun",
    "outputId": "57821105-5399-4822-eb88-b3b3e17f30e6"
   },
   "outputs": [
    {
     "name": "stdout",
     "output_type": "stream",
     "text": [
      "('dan', 'morgan') 1\n",
      "('morgan', 'told') 1\n",
      "('told', 'would') 1\n"
     ]
    }
   ],
   "source": [
    "bi_fdist = FreqDist(bi_adventure_words_condensed)\n",
    "\n",
    "for word, frequency in bi_fdist.most_common(3):\n",
    "    print(word, frequency)"
   ]
  },
  {
   "cell_type": "markdown",
   "metadata": {
    "id": "AfUn5bY5Z4qJ"
   },
   "source": [
    "Plot frequency distribution of word bigrams"
   ]
  },
  {
   "cell_type": "code",
   "execution_count": null,
   "metadata": {
    "colab": {
     "base_uri": "https://localhost:8080/",
     "height": 369
    },
    "id": "Hq1yxG8ICRf2",
    "outputId": "b90388bd-6abd-46a0-dcaa-c9080be28d9b"
   },
   "outputs": [
    {
     "data": {
      "image/png": "[encoded data removed]",
      "text/plain": [
       "<Figure size 432x288 with 1 Axes>"
      ]
     },
     "metadata": {
      "needs_background": "light"
     },
     "output_type": "display_data"
    }
   ],
   "source": [
    "bi_fdist.plot(3, cumulative=False)"
   ]
  },
  {
   "cell_type": "markdown",
   "metadata": {
    "id": "BpDW257HCnPL"
   },
   "source": [
    "***Stemming:*** Reducing inflected words to their stem, based on root form \n",
    "\n",
    "Load each stemmer as variable and specify language\n",
    "\n",
    "Test how each imported stemmer stems sample text"
   ]
  },
  {
   "cell_type": "code",
   "execution_count": 43,
   "metadata": {
    "colab": {
     "base_uri": "https://localhost:8080/"
    },
    "id": "NCZx2vf1CuJ3",
    "outputId": "e979ca15-5f54-4020-b5c9-e02a2d6a7019"
   },
   "outputs": [
    {
     "name": "stdout",
     "output_type": "stream",
     "text": [
      "re-test re-testing re-test\n"
     ]
    }
   ],
   "source": [
    "porter = PorterStemmer()\n",
    "lancaster = LancasterStemmer()\n",
    "snowball = SnowballStemmer(\"english\")\n",
    "\n",
    "print(porter.stem('Re-testing'), lancaster.stem('Re-testing'), snowball.stem('Re-testing'))"
   ]
  },
  {
   "cell_type": "markdown",
   "metadata": {
    "id": "Wu4ss5fzaDjz"
   },
   "source": [
    "Fun fact: SnowballStemmer can stem several other languages beside English.\n",
    "\n",
    "To make, for instance, a French stemmer, we can do the following: french_stemmer = SnowballStemmer('french')"
   ]
  },
  {
   "cell_type": "code",
   "execution_count": 44,
   "metadata": {
    "colab": {
     "base_uri": "https://localhost:8080/"
    },
    "id": "Rr2SjWOFDU_k",
    "outputId": "fbd954ce-4ced-4150-b010-17ab71f8dd5b"
   },
   "outputs": [
    {
     "data": {
      "text/plain": [
       "('arabic',\n",
       " 'danish',\n",
       " 'dutch',\n",
       " 'english',\n",
       " 'finnish',\n",
       " 'french',\n",
       " 'german',\n",
       " 'hungarian',\n",
       " 'italian',\n",
       " 'norwegian',\n",
       " 'porter',\n",
       " 'portuguese',\n",
       " 'romanian',\n",
       " 'russian',\n",
       " 'spanish',\n",
       " 'swedish')"
      ]
     },
     "execution_count": 44,
     "metadata": {},
     "output_type": "execute_result"
    }
   ],
   "source": [
    "SnowballStemmer.languages"
   ]
  },
  {
   "cell_type": "markdown",
   "metadata": {
    "id": "R_PFrLVfaH-G"
   },
   "source": [
    "This is an alternative that creates a dictionary mapping of every character from string.punctuation to None (this will also work but creates a whole dictionary so is slower)\n",
    "\n",
    "This uses the 3-argument version of str.maketrans with arguments (x, y, z) where 'x' and 'y' must be equal-length strings and characters in 'x' are replaced by characters in 'y'. 'z' is a string (string.punctuation here) where each character in the string is mapped to None"
   ]
  },
  {
   "cell_type": "code",
   "execution_count": 45,
   "metadata": {
    "colab": {
     "base_uri": "https://localhost:8080/"
    },
    "id": "YYcPq_9WDYf0",
    "outputId": "88065ea3-febb-499b-dc79-a27af8d4b204"
   },
   "outputs": [
    {
     "data": {
      "text/plain": [
       "{33: None,\n",
       " 34: None,\n",
       " 35: None,\n",
       " 36: None,\n",
       " 37: None,\n",
       " 38: None,\n",
       " 39: None,\n",
       " 40: None,\n",
       " 41: None,\n",
       " 42: None,\n",
       " 43: None,\n",
       " 44: None,\n",
       " 45: None,\n",
       " 46: None,\n",
       " 47: None,\n",
       " 58: None,\n",
       " 59: None,\n",
       " 60: None,\n",
       " 61: None,\n",
       " 62: None,\n",
       " 63: None,\n",
       " 64: None,\n",
       " 91: None,\n",
       " 92: None,\n",
       " 93: None,\n",
       " 94: None,\n",
       " 95: None,\n",
       " 96: None,\n",
       " 123: None,\n",
       " 124: None,\n",
       " 125: None,\n",
       " 126: None}"
      ]
     },
     "execution_count": 45,
     "metadata": {},
     "output_type": "execute_result"
    }
   ],
   "source": [
    "#translator = str.maketrans(dict.fromkeys(string.punctuation)\n",
    "\n",
    "sentence = \"So, we'll go no more a-roving. So late into the night, Though the heart be still as loving, And the moon be still as bright.\"\n",
    "\n",
    "translator = str.maketrans('', '', string.punctuation)\n",
    "translator"
   ]
  },
  {
   "cell_type": "code",
   "execution_count": 46,
   "metadata": {
    "colab": {
     "base_uri": "https://localhost:8080/"
    },
    "id": "Ke4-zZ4NDviB",
    "outputId": "a37bdd14-6cd1-4404-d466-85a4f9cc6016"
   },
   "outputs": [
    {
     "data": {
      "text/plain": [
       "['So', 'well', 'go']"
      ]
     },
     "execution_count": 46,
     "metadata": {},
     "output_type": "execute_result"
    }
   ],
   "source": [
    "tokens = word_tokenize(sentence.translate(translator))\n",
    "tokens[:3]"
   ]
  },
  {
   "cell_type": "code",
   "execution_count": 47,
   "metadata": {
    "colab": {
     "base_uri": "https://localhost:8080/"
    },
    "id": "ni08n2GdDzEV",
    "outputId": "71bc2a55-f021-4f7b-e72b-038fd6c89cb2"
   },
   "outputs": [
    {
     "name": "stdout",
     "output_type": "stream",
     "text": [
      "['So', 'well', 'go', 'no', 'more', 'arov', 'So', 'late', 'into', 'the', 'night', 'though', 'the', 'heart', 'be', 'still', 'as', 'love', 'and', 'the', 'moon', 'be', 'still', 'as', 'bright']\n",
      "['so', 'wel', 'go', 'no', 'mor', 'arov', 'so', 'lat', 'into', 'the', 'night', 'though', 'the', 'heart', 'be', 'stil', 'as', 'lov', 'and', 'the', 'moon', 'be', 'stil', 'as', 'bright']\n",
      "['so', 'well', 'go', 'no', 'more', 'arov', 'so', 'late', 'into', 'the', 'night', 'though', 'the', 'heart', 'be', 'still', 'as', 'love', 'and', 'the', 'moon', 'be', 'still', 'as', 'bright']\n"
     ]
    }
   ],
   "source": [
    "for stemmer in [porter, lancaster, snowball]:\n",
    "    print([stemmer.stem(t) for t in tokens])"
   ]
  },
  {
   "cell_type": "markdown",
   "metadata": {
    "id": "ogFONe2bD3-H"
   },
   "source": [
    "***Lemmatization:*** Aims to achieve a similar base \"stem\" for a word, but aims to derive the genuine dictionary root word, not just a truncated version of the word."
   ]
  },
  {
   "cell_type": "markdown",
   "metadata": {
    "id": "PkEcBVv2aO0V"
   },
   "source": [
    "The default lemmatization method with the Python NLTK is the WordNet lemmatizer.\n"
   ]
  },
  {
   "cell_type": "code",
   "execution_count": 48,
   "metadata": {
    "colab": {
     "base_uri": "https://localhost:8080/"
    },
    "id": "dEGjqDUBEIVQ",
    "outputId": "aed6011c-0172-4ba2-a6f3-1f3368732a7b"
   },
   "outputs": [
    {
     "name": "stdout",
     "output_type": "stream",
     "text": [
      "brightening box\n"
     ]
    }
   ],
   "source": [
    "wnl = WordNetLemmatizer()\n",
    "\n",
    "print(wnl.lemmatize('brightening'), wnl.lemmatize('boxes'))"
   ]
  },
  {
   "cell_type": "markdown",
   "metadata": {
    "id": "tTT6WwHDaQvy"
   },
   "source": [
    "As we saw above, sometimes, if we try to lemmatize a word, it will end up with the same word. This is because the default part of speech is nouns.\n"
   ]
  },
  {
   "cell_type": "code",
   "execution_count": 49,
   "metadata": {
    "colab": {
     "base_uri": "https://localhost:8080/",
     "height": 35
    },
    "id": "fkBbTEAUEO0X",
    "outputId": "887d431f-4a3a-42fb-c159-fd1b36daa3c9"
   },
   "outputs": [
    {
     "data": {
      "text/plain": [
       "'brighten'"
      ]
     },
     "execution_count": 49,
     "metadata": {},
     "output_type": "execute_result"
    }
   ],
   "source": [
    "wnl.lemmatize('brightening', pos='v')"
   ]
  },
  {
   "cell_type": "markdown",
   "metadata": {
    "id": "GTJI2-ALU05f"
   },
   "source": [
    "###Derive N-Grams from Text\n",
    "\n",
    "Based on [N-Gram-Based Text Categorization: Categorizing Text With Python by Alejandro Nolla](http://blog.alejandronolla.com/2013/05/20/n-gram-based-text-categorization-categorizing-text-with-python/)\n",
    "\n",
    "What are n-grams? See [here](https://cloudmark.github.io/Language-Detection/)."
   ]
  },
  {
   "cell_type": "markdown",
   "metadata": {
    "id": "RjaYkNAEVDOJ"
   },
   "source": [
    "**Tokenization** divides strings of text into substrings of letters and apostrophes ONLY to prepare for n-gram analysis.\n",
    "\n",
    "First, lowercase text in string."
   ]
  },
  {
   "cell_type": "code",
   "execution_count": 50,
   "metadata": {
    "id": "cLZvk_4ZUu1H"
   },
   "outputs": [],
   "source": [
    "s = \"Le temps est un grand maître, dit-on, le malheur est qu'il tue ses élèves.\"\n",
    "s = s.lower()"
   ]
  },
  {
   "cell_type": "markdown",
   "metadata": {
    "id": "LMHInJLOoQDj"
   },
   "source": [
    "Use RegEx tokenizer to tokenize string."
   ]
  },
  {
   "cell_type": "code",
   "execution_count": 51,
   "metadata": {
    "colab": {
     "base_uri": "https://localhost:8080/"
    },
    "id": "JVBiQkhpVdzt",
    "outputId": "ad660060-b35e-43b9-c7f7-27d546ef1d5c"
   },
   "outputs": [
    {
     "data": {
      "text/plain": [
       "['le',\n",
       " 'temps',\n",
       " 'est',\n",
       " 'un',\n",
       " 'grand',\n",
       " 'maître',\n",
       " 'dit',\n",
       " 'on',\n",
       " 'le',\n",
       " 'malheur',\n",
       " 'est',\n",
       " \"qu'il\",\n",
       " 'tue',\n",
       " 'ses',\n",
       " 'élèves']"
      ]
     },
     "execution_count": 51,
     "metadata": {},
     "output_type": "execute_result"
    }
   ],
   "source": [
    "tokenizer = RegexpTokenizer(\"[a-zA-Z'`éèî]+\")\n",
    "s_tokenized = tokenizer.tokenize(s)\n",
    "s_tokenized"
   ]
  },
  {
   "cell_type": "markdown",
   "metadata": {
    "id": "wkuxxJDxVwuF"
   },
   "source": [
    "Next, **generating n-Grams**: find n-length slices of a longer string, typically overlapping/in sequence; can be used for language detection"
   ]
  },
  {
   "cell_type": "markdown",
   "metadata": {
    "id": "88NcW0AfVKlO"
   },
   "source": [
    "Create a list for generated ngrams"
   ]
  },
  {
   "cell_type": "code",
   "execution_count": 52,
   "metadata": {
    "id": "8MozGI4aV3LF"
   },
   "outputs": [],
   "source": [
    "generated_4grams = []\n",
    "\n"
   ]
  },
  {
   "cell_type": "markdown",
   "metadata": {
    "id": "ydXRLBwXVU_E"
   },
   "source": [
    "Generate ngram for each word in tokenized string"
   ]
  },
  {
   "cell_type": "code",
   "execution_count": 53,
   "metadata": {
    "id": "8QgaST1fVVgK"
   },
   "outputs": [],
   "source": [
    "for word in s_tokenized:\n",
    "    generated_4grams.append(list(ngrams(word, 4, pad_left=True, pad_right=True, left_pad_symbol='_', right_pad_symbol='_'))) # n = 4.\n",
    "#generated_4grams"
   ]
  },
  {
   "cell_type": "markdown",
   "metadata": {
    "id": "YfeR9ZBqV2l3"
   },
   "source": [
    "It seems that generated_4grams needs flattening since it's supposed to be a list of 4-grams:"
   ]
  },
  {
   "cell_type": "code",
   "execution_count": 54,
   "metadata": {
    "id": "DTqLwYALY84E"
   },
   "outputs": [],
   "source": [
    "generated_4grams = [word for sublist in generated_4grams for word in sublist]\n",
    "#generated_4grams[:10]"
   ]
  },
  {
   "cell_type": "markdown",
   "metadata": {
    "id": "-8lnKPwzaOGC"
   },
   "source": [
    "Obtaining n-grams (n = 4)\n",
    "Join 4grams into list of strings"
   ]
  },
  {
   "cell_type": "code",
   "execution_count": 55,
   "metadata": {
    "id": "N3540KisaNMQ"
   },
   "outputs": [],
   "source": [
    "ng_list_4grams = generated_4grams\n",
    "for idx, val in enumerate(generated_4grams):\n",
    "    ng_list_4grams[idx] = ''.join(val)\n",
    "#ng_list_4grams"
   ]
  },
  {
   "cell_type": "markdown",
   "metadata": {
    "id": "--vvU1CZavQc"
   },
   "source": [
    "Sort n-grams by **how frequently** they appear within the text. \n",
    "\n",
    "First, create list for n-grams sorted by frequency, iterate through ngrams and add to freq_4grams list as many times as appearing in list of strings"
   ]
  },
  {
   "cell_type": "code",
   "execution_count": 56,
   "metadata": {
    "id": "FIvRnUepavYh"
   },
   "outputs": [],
   "source": [
    "freq_4grams = {}\n",
    "\n",
    "for ngram in ng_list_4grams:\n",
    "    if ngram not in freq_4grams:\n",
    "        freq_4grams.update({ngram: 1})\n",
    "    else:\n",
    "        ngram_occurrences = freq_4grams[ngram]\n",
    "        freq_4grams.update({ngram: ngram_occurrences + 1})\n",
    "      "
   ]
  },
  {
   "cell_type": "markdown",
   "metadata": {
    "id": "nF5zfRXzVrFZ"
   },
   "source": [
    "The operator module (downloaded above) exports a set of efficient functions corresponding to the intrinsic operators of Python. For example, operator.add(x, y) is equivalent to the expression x + y.\n"
   ]
  },
  {
   "cell_type": "markdown",
   "metadata": {
    "id": "jytGIHefVve2"
   },
   "source": [
    "We only keep the 300 most popular n-grams. This was suggested in the original paper written about n-grams."
   ]
  },
  {
   "cell_type": "code",
   "execution_count": 57,
   "metadata": {
    "id": "hZWLI1QAVvl3"
   },
   "outputs": [],
   "source": [
    "freq_4grams_sorted = sorted(freq_4grams.items(), key=itemgetter(1), reverse=True)[0:300] \n",
    "#freq_4grams_sorted"
   ]
  },
  {
   "cell_type": "markdown",
   "metadata": {
    "id": "dPt3vftZbO3p"
   },
   "source": [
    "Obtain n-grams for multiple values of n (n = 1, 2, 3, 4)\n",
    "For the code below we need the raw sentence as opposed to the tokens."
   ]
  },
  {
   "cell_type": "code",
   "execution_count": 58,
   "metadata": {
    "colab": {
     "base_uri": "https://localhost:8080/",
     "height": 35
    },
    "id": "PcvlXoFtbWk2",
    "outputId": "dba35f82-1848-41b7-b916-932677ab5feb"
   },
   "outputs": [
    {
     "data": {
      "text/plain": [
       "\"le temps est un grand maître dit on le malheur est qu'il tue ses élèves\""
      ]
     },
     "execution_count": 58,
     "metadata": {},
     "output_type": "execute_result"
    }
   ],
   "source": [
    "s_clean = ' '.join(s_tokenized) \n",
    "s_clean"
   ]
  },
  {
   "cell_type": "markdown",
   "metadata": {
    "id": "oRg1ND0AV2Q-"
   },
   "source": [
    "Define ngram extractor generating uni-grams, bigrams, trigrams and 4-grams of string (range set to 1-4)"
   ]
  },
  {
   "cell_type": "code",
   "execution_count": 59,
   "metadata": {
    "id": "imOf0UoEbrEC"
   },
   "outputs": [],
   "source": [
    "def ngram_extractor(sent):\n",
    "    return [''.join(ng) for ng in everygrams(sent.replace(' ', '_ _'), 1, 4) \n",
    "            if ' ' not in ng and '\\n' not in ng and ng != ('_',)]\n",
    "\n",
    "#ngram_extractor(s_clean)"
   ]
  },
  {
   "cell_type": "markdown",
   "metadata": {
    "id": "Wb-djpkr37F_"
   },
   "source": [
    "###Finding Unusual Words in a Given Language"
   ]
  },
  {
   "cell_type": "markdown",
   "metadata": {
    "id": "_J33FZWyawaE"
   },
   "source": [
    "Create string and tokenize and lowercase string"
   ]
  },
  {
   "cell_type": "code",
   "execution_count": 60,
   "metadata": {
    "colab": {
     "base_uri": "https://localhost:8080/"
    },
    "id": "8kjsh10X3zHm",
    "outputId": "a1cd04cd-9b9d-4509-e909-76c36aeae5dc"
   },
   "outputs": [
    {
     "data": {
      "text/plain": [
       "['truly',\n",
       " 'kryptic',\n",
       " 'is',\n",
       " 'the',\n",
       " 'best',\n",
       " 'puzzle',\n",
       " 'game',\n",
       " '.',\n",
       " 'it',\n",
       " \"'s\",\n",
       " 'browser-based',\n",
       " 'and',\n",
       " 'free',\n",
       " '.',\n",
       " 'google',\n",
       " 'it',\n",
       " '.']"
      ]
     },
     "execution_count": 60,
     "metadata": {},
     "output_type": "execute_result"
    }
   ],
   "source": [
    "text = \"Truly Kryptic is the best puzzle game. It's browser-based and free. Google it.\"\n",
    "\n",
    "text_tokenized = word_tokenize(text.lower())\n",
    "text_tokenized"
   ]
  },
  {
   "cell_type": "markdown",
   "metadata": {
    "id": "DHEeEcbta2JR"
   },
   "source": [
    "Explore the words corpus"
   ]
  },
  {
   "cell_type": "code",
   "execution_count": 61,
   "metadata": {
    "colab": {
     "base_uri": "https://localhost:8080/",
     "height": 70
    },
    "id": "3ovxQeUE4sLF",
    "outputId": "32ad8576-501a-4faf-fe69-85c9e3b94669"
   },
   "outputs": [
    {
     "data": {
      "text/plain": [
       "'Wordlists  en: English, http://en.wikipedia.org/wiki/Words_(Unix) en-basic: 850 English words: C.K. Ogden in The ABC of Basic English (1932) '"
      ]
     },
     "execution_count": 61,
     "metadata": {},
     "output_type": "execute_result"
    }
   ],
   "source": [
    "words.readme().replace('\\n', ' ')"
   ]
  },
  {
   "cell_type": "markdown",
   "metadata": {
    "id": "tiuXCayGa4NE"
   },
   "source": [
    "List path name of words corpus"
   ]
  },
  {
   "cell_type": "code",
   "execution_count": 62,
   "metadata": {
    "colab": {
     "base_uri": "https://localhost:8080/"
    },
    "id": "MNd1E4YR41lZ",
    "outputId": "c7c88833-94db-410b-d01e-965c33171ab7"
   },
   "outputs": [
    {
     "data": {
      "text/plain": [
       "<WordListCorpusReader in '/Users/megankane/nltk_data/corpora/words'>"
      ]
     },
     "execution_count": 62,
     "metadata": {},
     "output_type": "execute_result"
    }
   ],
   "source": [
    "words"
   ]
  },
  {
   "cell_type": "markdown",
   "metadata": {
    "id": "j3ZarXy9a6dU"
   },
   "source": [
    "Get file ids in words corpus"
   ]
  },
  {
   "cell_type": "code",
   "execution_count": 63,
   "metadata": {
    "colab": {
     "base_uri": "https://localhost:8080/"
    },
    "id": "kowa3VY744Ex",
    "outputId": "cb6470ff-01e8-47dc-db04-950a219dae9b"
   },
   "outputs": [
    {
     "data": {
      "text/plain": [
       "['en', 'en-basic']"
      ]
     },
     "execution_count": 63,
     "metadata": {},
     "output_type": "execute_result"
    }
   ],
   "source": [
    "words.fileids()"
   ]
  },
  {
   "cell_type": "markdown",
   "metadata": {
    "id": "XkoQvHosa8TS"
   },
   "source": [
    "Get first ten words in en corpus"
   ]
  },
  {
   "cell_type": "code",
   "execution_count": 64,
   "metadata": {
    "colab": {
     "base_uri": "https://localhost:8080/"
    },
    "id": "oK6ORciz47pK",
    "outputId": "7edd51cc-eea7-430f-c027-f9c82e6d5c8e"
   },
   "outputs": [
    {
     "data": {
      "text/plain": [
       "['A',\n",
       " 'a',\n",
       " 'aa',\n",
       " 'aal',\n",
       " 'aalii',\n",
       " 'aam',\n",
       " 'Aani',\n",
       " 'aardvark',\n",
       " 'aardwolf',\n",
       " 'Aaron']"
      ]
     },
     "execution_count": 64,
     "metadata": {},
     "output_type": "execute_result"
    }
   ],
   "source": [
    "words.words('en')[:10]"
   ]
  },
  {
   "cell_type": "markdown",
   "metadata": {
    "id": "8YLCuroea-qV"
   },
   "source": [
    "Get first 10 words in en-basic corpus"
   ]
  },
  {
   "cell_type": "code",
   "execution_count": 65,
   "metadata": {
    "colab": {
     "base_uri": "https://localhost:8080/"
    },
    "id": "talSusAt49be",
    "outputId": "db58f809-b152-4d6c-f601-79072a967271"
   },
   "outputs": [
    {
     "data": {
      "text/plain": [
       "['I',\n",
       " 'a',\n",
       " 'able',\n",
       " 'about',\n",
       " 'account',\n",
       " 'acid',\n",
       " 'across',\n",
       " 'act',\n",
       " 'addition',\n",
       " 'adjustment']"
      ]
     },
     "execution_count": 65,
     "metadata": {},
     "output_type": "execute_result"
    }
   ],
   "source": [
    "words.words('en-basic')[:10]"
   ]
  },
  {
   "cell_type": "markdown",
   "metadata": {
    "id": "5CsXy3FlbBC8"
   },
   "source": [
    "Get length of words in en corpus"
   ]
  },
  {
   "cell_type": "code",
   "execution_count": 66,
   "metadata": {
    "colab": {
     "base_uri": "https://localhost:8080/"
    },
    "id": "43ikDlZK5Apd",
    "outputId": "b7f467e4-8f6c-4178-a584-d80bc041fe6d"
   },
   "outputs": [
    {
     "data": {
      "text/plain": [
       "235886"
      ]
     },
     "execution_count": 66,
     "metadata": {},
     "output_type": "execute_result"
    }
   ],
   "source": [
    "len(words.words('en'))"
   ]
  },
  {
   "cell_type": "markdown",
   "metadata": {
    "id": "nghPi4vObDm_"
   },
   "source": [
    "Get length of words in en-basic corpus"
   ]
  },
  {
   "cell_type": "code",
   "execution_count": 67,
   "metadata": {
    "colab": {
     "base_uri": "https://localhost:8080/"
    },
    "id": "47gOM6qn5CdF",
    "outputId": "f2a5431e-b781-42d6-8d69-ae212b3fec24"
   },
   "outputs": [
    {
     "data": {
      "text/plain": [
       "850"
      ]
     },
     "execution_count": 67,
     "metadata": {},
     "output_type": "execute_result"
    }
   ],
   "source": [
    "len(words.words('en-basic'))"
   ]
  },
  {
   "cell_type": "markdown",
   "metadata": {
    "id": "zID177O9bGfn"
   },
   "source": [
    "Find unusual words in given language"
   ]
  },
  {
   "cell_type": "code",
   "execution_count": 68,
   "metadata": {
    "colab": {
     "base_uri": "https://localhost:8080/"
    },
    "id": "XKD3rjHC5EI6",
    "outputId": "0316d6ac-5287-4ef7-8cab-d11dd70c0786"
   },
   "outputs": [
    {
     "data": {
      "text/plain": [
       "{'google'}"
      ]
     },
     "execution_count": 68,
     "metadata": {},
     "output_type": "execute_result"
    }
   ],
   "source": [
    "english_vocab = set(w.lower() for w in words.words())\n",
    "text_vocab = set(w.lower() for w in text_tokenized if w.isalpha()) # Note .isalpha() removes punctuation tokens. However, tokens with a hyphen like 'browser-based' are totally skipped over because .isalpha() would be false.\n",
    "unusual = text_vocab.difference(english_vocab)\n",
    "unusual"
   ]
  },
  {
   "cell_type": "markdown",
   "metadata": {
    "id": "IARqqu4FDq8E"
   },
   "source": [
    "##Text Enrichment"
   ]
  },
  {
   "cell_type": "markdown",
   "metadata": {
    "id": "KMvKHMH378LB"
   },
   "source": [
    "###Creating a POS Tagger:\n",
    "Create a tagger that will identify parts of speech in a given sentence. \n",
    "\n",
    "Train a classifier to work out which suffixes are most informative for POS tagging. \n",
    "\n",
    "We can begin by finding out what the most common suffixes are"
   ]
  },
  {
   "cell_type": "markdown",
   "metadata": {
    "id": "bcI9GhaJbX1S"
   },
   "source": [
    "Determine most frequent suffixes in brown corpus (frequency of last 1, 2, 3 characters in words in brown corpus)\n"
   ]
  },
  {
   "cell_type": "code",
   "execution_count": 69,
   "metadata": {
    "id": "jZsVGg25bX92"
   },
   "outputs": [],
   "source": [
    "suffix_fdist = FreqDist()\n",
    "for word in brown.words():\n",
    "    word = word.lower()\n",
    "    suffix_fdist[word[-1:]] += 1\n",
    "    suffix_fdist[word[-2:]] += 1\n",
    "    suffix_fdist[word[-3:]] += 1\n",
    "    \n",
    "#suffix_fdist"
   ]
  },
  {
   "cell_type": "markdown",
   "metadata": {
    "id": "-RmDnvTgbb7Q"
   },
   "source": [
    "Put 100 most common suffixes into list and print the top 10\n"
   ]
  },
  {
   "cell_type": "code",
   "execution_count": 70,
   "metadata": {
    "colab": {
     "base_uri": "https://localhost:8080/"
    },
    "id": "HxGLoBgc7Fc2",
    "outputId": "e1421228-8c6f-420c-b9fd-75d6c2384159"
   },
   "outputs": [
    {
     "data": {
      "text/plain": [
       "['e', ',', '.', 's', 'd', 't', 'he', 'n', 'a', 'of']"
      ]
     },
     "execution_count": 70,
     "metadata": {},
     "output_type": "execute_result"
    }
   ],
   "source": [
    "common_suffixes = [suffix for (suffix, count) in suffix_fdist.most_common(100)]\n",
    "common_suffixes[:10]"
   ]
  },
  {
   "cell_type": "markdown",
   "metadata": {
    "id": "KlGFqYd3-M0R"
   },
   "source": [
    "Next, we'll define a feature extractor function which checks a given word for these suffixes:"
   ]
  },
  {
   "cell_type": "code",
   "execution_count": 71,
   "metadata": {
    "id": "9o4K50Cm-PfV"
   },
   "outputs": [],
   "source": [
    "def pos_features(word):\n",
    "    features = {}\n",
    "    for suffix in common_suffixes:\n",
    "        features['endswith({})'.format(suffix)] = word.lower().endswith(suffix)\n",
    "    return features\n",
    "\n",
    "#pos_features('test')"
   ]
  },
  {
   "cell_type": "markdown",
   "metadata": {
    "id": "eOnbZVJ5-nuJ"
   },
   "source": [
    "Now that we've defined our feature extractor, we can use it to train a new decision tree classifier:"
   ]
  },
  {
   "cell_type": "code",
   "execution_count": 72,
   "metadata": {
    "id": "1x2mgkFt-ogI"
   },
   "outputs": [],
   "source": [
    "tagged_words = brown.tagged_words(categories='news')\n",
    "featuresets = [(pos_features(n), g) for (n,g) in tagged_words]\n",
    "#featuresets[0]"
   ]
  },
  {
   "cell_type": "markdown",
   "metadata": {
    "id": "u6LCjvE7bpDX"
   },
   "source": [
    "Set cutoff limit for classifier and training and test set variables"
   ]
  },
  {
   "cell_type": "code",
   "execution_count": 73,
   "metadata": {
    "id": "4WPChi4mbpK4"
   },
   "outputs": [],
   "source": [
    "cutoff = int(len(featuresets) * 0.1)\n",
    "train_set, test_set = featuresets[cutoff:], featuresets[:cutoff]"
   ]
  },
  {
   "cell_type": "markdown",
   "metadata": {
    "id": "qQd68DaFbsHM"
   },
   "source": [
    "Run classifer on training set\n",
    "\n",
    "NLTK is a teaching toolkit which is not really optimized for speed.\n",
    "\n",
    "Therefore, this may take forever. For speed, use scikit-learn for the classifiers."
   ]
  },
  {
   "cell_type": "code",
   "execution_count": null,
   "metadata": {
    "id": "7mXC0-ml_U2v"
   },
   "outputs": [],
   "source": [
    "classifier = DecisionTreeClassifier.train(train_set) "
   ]
  },
  {
   "cell_type": "code",
   "execution_count": null,
   "metadata": {
    "id": "rLYIzFZn_wHw"
   },
   "outputs": [],
   "source": [
    "##from sklearn.tree import DecisionTreeClassifier"
   ]
  },
  {
   "cell_type": "code",
   "execution_count": null,
   "metadata": {
    "id": "bhJbLlax_hW-"
   },
   "outputs": [],
   "source": [
    "accuracy(classifier, test_set)"
   ]
  },
  {
   "cell_type": "code",
   "execution_count": null,
   "metadata": {
    "id": "VW9J9lMz_lBH"
   },
   "outputs": [],
   "source": [
    "classifier.classify(pos_features('cats'))"
   ]
  },
  {
   "cell_type": "code",
   "execution_count": null,
   "metadata": {
    "id": "_AEN3dGkAgYl"
   },
   "outputs": [],
   "source": [
    "classifier.pseudocode(depth=4)"
   ]
  },
  {
   "cell_type": "markdown",
   "metadata": {
    "id": "IMtv_V1-AlEj"
   },
   "source": [
    "To improve the classifier, we can add contextual features:\n",
    "\n",
    "def pos_features(sentence, i): [1]\n",
    "    features = {\"suffix(1)\": sentence[i][-1:],\n",
    "                \"suffix(2)\": sentence[i][-2:],\n",
    "                \"suffix(3)\": sentence[i][-3:]}\n",
    "    if i == 0:\n",
    "        features[\"prev-word\"] = \"<START>\"\n",
    "    else:\n",
    "        features[\"prev-word\"] = sentence[i-1]\n",
    "    return features\n",
    "Then, instead of working with tagged words, we work with tagged sentences:\n",
    "\n",
    "tagged_sents = brown.tagged_sents(categories='news')\n",
    "We can then improve this further by adding more features such as prev-tag etc."
   ]
  },
  {
   "cell_type": "markdown",
   "metadata": {
    "id": "W3EF0gKkAuiS"
   },
   "source": [
    "***Parts of Speech and Meaning (English Only)***"
   ]
  },
  {
   "cell_type": "markdown",
   "metadata": {
    "id": "tq5yjRexb0w4"
   },
   "source": [
    "Create string, import word tokenizer, tokenize words in t and print tokens in second sentence"
   ]
  },
  {
   "cell_type": "code",
   "execution_count": null,
   "metadata": {
    "colab": {
     "base_uri": "https://localhost:8080/"
    },
    "id": "OOZRzfGgBC-X",
    "outputId": "7fd0a043-027c-4777-8d17-a233d49578cd"
   },
   "outputs": [],
   "source": [
    "t = \"Cyprus, officially the Republic of Cyprus, is an island country in the Eastern Mediterranean and the third largest and third most populous island in the Mediterranean. Cyprus is located south of Turkey, west of Syria and Lebanon, northwest of Israel, north of Egypt, and southeast of Greece. Cyprus is a major tourist destination in the Mediterranean. With an advanced, high-income economy and a very high Human Development Index, the Republic of Cyprus has been a member of the Commonwealth since 1961 and was a founding member of the Non-Aligned Movement until it joined the European Union on 1 May 2004. On 1 January 2008, the Republic of Cyprus joined the eurozone.\"\n",
    "\n",
    "sentences = sent_tokenize(t.lower())\n",
    "sentences\n",
    "\n",
    "tokens = word_tokenize(sentences[2])\n",
    "tokens"
   ]
  },
  {
   "cell_type": "markdown",
   "metadata": {
    "id": "Ryr_Jvtbb7Pr"
   },
   "source": [
    "Tag tokens in string t using pos tagger"
   ]
  },
  {
   "cell_type": "code",
   "execution_count": null,
   "metadata": {
    "colab": {
     "base_uri": "https://localhost:8080/"
    },
    "id": "sfGq1L7nB5lZ",
    "outputId": "3ba14aa8-0dfa-4759-a979-de3e8c1ea08e"
   },
   "outputs": [],
   "source": [
    "tags = pos_tag(tokens)\n",
    "tags"
   ]
  },
  {
   "cell_type": "markdown",
   "metadata": {
    "id": "NdJQ-w1hb9Og"
   },
   "source": [
    "Access documentation for tags, for example for NN:"
   ]
  },
  {
   "cell_type": "code",
   "execution_count": null,
   "metadata": {
    "colab": {
     "base_uri": "https://localhost:8080/"
    },
    "id": "KhEmLVvQCUQK",
    "outputId": "f8bf6243-ff8c-4dc5-b876-168d31f9e19e"
   },
   "outputs": [],
   "source": [
    "nltk.download('tagsets')\n",
    "nltk.help.upenn_tagset('NN')"
   ]
  },
  {
   "cell_type": "markdown",
   "metadata": {
    "id": "0KvtmtcUHVOu"
   },
   "source": [
    "***Word senses for homonyms***\n",
    "\n",
    "WordNet is a lexical database for the English language in the form of a semantic graph.\n",
    "\n",
    "WordNet groups English words into sets of synonyms called synsets, provides short definitions and usage examples, and records a number of relations among these synonym sets or their members.\n",
    "\n",
    "NLTK provides an interface to the WordNet API."
   ]
  },
  {
   "cell_type": "markdown",
   "metadata": {
    "id": "7epspJ1pb_kw"
   },
   "source": [
    "Download wordnet and list set of synonyms (synset) for \"human\""
   ]
  },
  {
   "cell_type": "code",
   "execution_count": null,
   "metadata": {
    "colab": {
     "base_uri": "https://localhost:8080/"
    },
    "id": "DcL1dW76HUsH",
    "outputId": "e97d8f25-2333-4765-edd8-c9f62353ef61"
   },
   "outputs": [],
   "source": [
    "wordnet.synsets('human')"
   ]
  },
  {
   "cell_type": "markdown",
   "metadata": {
    "id": "9Jd-5F1bcDJ8"
   },
   "source": [
    "Get first definition human from synset"
   ]
  },
  {
   "cell_type": "code",
   "execution_count": null,
   "metadata": {
    "colab": {
     "base_uri": "https://localhost:8080/",
     "height": 35
    },
    "id": "exkSfSrhH3RX",
    "outputId": "06ecb9db-912a-433d-9a7f-988dc0c1011f"
   },
   "outputs": [],
   "source": [
    "wordnet.synsets('human')[0].definition()"
   ]
  },
  {
   "cell_type": "markdown",
   "metadata": {
    "id": "SAXOy5dycHZz"
   },
   "source": [
    "Get second definition human from synset"
   ]
  },
  {
   "cell_type": "code",
   "execution_count": null,
   "metadata": {
    "colab": {
     "base_uri": "https://localhost:8080/",
     "height": 35
    },
    "id": "AaQEs8rRH6Ot",
    "outputId": "96ccc1ba-fea9-4be7-dc7a-7e9e71bac23f"
   },
   "outputs": [],
   "source": [
    "wordnet.synsets('human')[1].definition()"
   ]
  },
  {
   "cell_type": "markdown",
   "metadata": {
    "id": "tIMtWLndcKFa"
   },
   "source": [
    "Define variable \"human\" as \"human\" in synset"
   ]
  },
  {
   "cell_type": "code",
   "execution_count": null,
   "metadata": {
    "colab": {
     "base_uri": "https://localhost:8080/"
    },
    "id": "SqYmIyitIJ_j",
    "outputId": "b5e1b951-29bb-4e1a-90d9-68b5305f4858"
   },
   "outputs": [],
   "source": [
    "human = wordnet.synsets('Human', pos=wn.NOUN)[0]\n",
    "human"
   ]
  },
  {
   "cell_type": "markdown",
   "metadata": {
    "id": "Uh7DqNYXcPtV"
   },
   "source": [
    "A hypernym is a word with a broad meaning constituting a category into which words with more specific meanings fall a superordinate. \n"
   ]
  },
  {
   "cell_type": "code",
   "execution_count": null,
   "metadata": {
    "colab": {
     "base_uri": "https://localhost:8080/"
    },
    "id": "DFs0JpDnIe04",
    "outputId": "aad37ba5-e0c2-4398-9764-1eab1c35992a"
   },
   "outputs": [],
   "source": [
    "# For example, colour is a hypernym of red.\n",
    "human.hypernyms() "
   ]
  },
  {
   "cell_type": "code",
   "execution_count": null,
   "metadata": {
    "colab": {
     "base_uri": "https://localhost:8080/"
    },
    "id": "c4qvPPzKImG_",
    "outputId": "db30bf24-797e-4587-d66c-d73cdeaafb48"
   },
   "outputs": [],
   "source": [
    "human.hyponyms()"
   ]
  },
  {
   "cell_type": "code",
   "execution_count": null,
   "metadata": {
    "colab": {
     "base_uri": "https://localhost:8080/"
    },
    "id": "7Wt79NhtIonc",
    "outputId": "f3591326-5e20-4a0b-a825-0a7fef92be5c"
   },
   "outputs": [],
   "source": [
    "bike = wordnet.synsets('bicycle')[0]\n",
    "bike"
   ]
  },
  {
   "cell_type": "code",
   "execution_count": null,
   "metadata": {
    "colab": {
     "base_uri": "https://localhost:8080/"
    },
    "id": "n9wnUKrvIqWG",
    "outputId": "8e5f2eff-c0d5-4ef2-f8eb-e256921832cb"
   },
   "outputs": [],
   "source": [
    "girl = wordnet.synsets('girl')[1]\n",
    "girl"
   ]
  },
  {
   "cell_type": "markdown",
   "metadata": {
    "id": "gog72RtIcVYV"
   },
   "source": [
    "The Wu-Palmer metric (WUP) is a measure of similarity based on distance in the graph. There are many other metrics too.\n",
    "\n",
    "Get similarity between bike and human"
   ]
  },
  {
   "cell_type": "code",
   "execution_count": null,
   "metadata": {
    "colab": {
     "base_uri": "https://localhost:8080/"
    },
    "id": "k-d3aVqvIrCY",
    "outputId": "8ebe1005-f01d-46d0-9fd7-bcaf8a685569"
   },
   "outputs": [
    {
     "data": {
      "text/plain": [
       "0.34782608695652173"
      ]
     },
     "execution_count": 34,
     "metadata": {},
     "output_type": "execute_result"
    }
   ],
   "source": [
    "bike.wup_similarity(human) "
   ]
  },
  {
   "cell_type": "markdown",
   "metadata": {
    "id": "NvCG8oYjcbNA"
   },
   "source": [
    "Get similarity between girl and human"
   ]
  },
  {
   "cell_type": "code",
   "execution_count": null,
   "metadata": {
    "colab": {
     "base_uri": "https://localhost:8080/"
    },
    "id": "kZzN1zVHIwI8",
    "outputId": "19925ac5-a3e2-4de0-bbbc-74648878492f"
   },
   "outputs": [
    {
     "data": {
      "text/plain": [
       "0.5217391304347826"
      ]
     },
     "execution_count": 36,
     "metadata": {},
     "output_type": "execute_result"
    }
   ],
   "source": [
    "girl.wup_similarity(human)"
   ]
  },
  {
   "cell_type": "markdown",
   "metadata": {
    "id": "gaM5vkXfcicS"
   },
   "source": [
    "Get synonyms for 'girl'"
   ]
  },
  {
   "cell_type": "code",
   "execution_count": null,
   "metadata": {
    "colab": {
     "base_uri": "https://localhost:8080/"
    },
    "id": "J28Jh2dEI5CN",
    "outputId": "fa3e7049-a0ff-44d2-a2a7-ad7087c2a562"
   },
   "outputs": [
    {
     "data": {
      "text/plain": [
       "['girl',\n",
       " 'miss',\n",
       " 'missy',\n",
       " 'young_lady',\n",
       " 'young_woman',\n",
       " 'fille',\n",
       " 'female_child',\n",
       " 'girl',\n",
       " 'little_girl',\n",
       " 'daughter',\n",
       " 'girl',\n",
       " 'girlfriend',\n",
       " 'girl',\n",
       " 'lady_friend',\n",
       " 'girl']"
      ]
     },
     "execution_count": 37,
     "metadata": {},
     "output_type": "execute_result"
    }
   ],
   "source": [
    "synonyms = []\n",
    "for syn in wordnet.synsets('girl'):\n",
    "    # A lemma is basically the dictionary form or base form of a word, as opposed to the various inflected forms of a word. \n",
    "    for lemma in syn.lemmas():\n",
    "        synonyms.append(lemma.name())\n",
    "synonyms"
   ]
  },
  {
   "cell_type": "markdown",
   "metadata": {
    "id": "B5X3WtNYckLe"
   },
   "source": [
    "Get antonyms for 'girl'"
   ]
  },
  {
   "cell_type": "code",
   "execution_count": null,
   "metadata": {
    "colab": {
     "base_uri": "https://localhost:8080/"
    },
    "id": "OwW28ifjI99E",
    "outputId": "9e0b9a69-0cc5-42e1-904d-7a6c3dc7ed05"
   },
   "outputs": [
    {
     "data": {
      "text/plain": [
       "['male_child', 'boy', 'son', 'boy']"
      ]
     },
     "execution_count": 38,
     "metadata": {},
     "output_type": "execute_result"
    }
   ],
   "source": [
    "antonyms = []\n",
    "for syn in wordnet.synsets(\"girl\"):\n",
    "    for l in syn.lemmas():\n",
    "        if l.antonyms():\n",
    "            antonyms.append(l.antonyms()[0].name())\n",
    "antonyms"
   ]
  },
  {
   "cell_type": "markdown",
   "metadata": {
    "id": "Q20lcuLPJK0x"
   },
   "source": [
    "###Chunking and Entity Recognition:\n",
    "\n",
    "**Chunking:** Divide a sentence into chunks. Usually each chunk contains a head and (optionally) additional words and modifiers. Examples of chunks include noun groups and verb groups.\n",
    "\n"
   ]
  },
  {
   "cell_type": "markdown",
   "metadata": {
    "id": "i4ascxpKMDV7"
   },
   "source": [
    "In order to create a chunker, we need to first define a chunk grammar, consisting of rules that indicate how sentences should be chunked.\n",
    "\n",
    "We can define a simple grammar for a noun phrase (NP) chunker with a single regular-expression rule. This rule says that an NP chunk should be formed whenever the chunker finds an optional determiner (DT) followed by any number of adjectives (JJ) and then a noun (NN).\n",
    "\n",
    "Note how grammatical structures which are not noun phrases are not chunked, which is totally fine:"
   ]
  },
  {
   "cell_type": "code",
   "execution_count": null,
   "metadata": {
    "id": "wcem0OCoMLT0"
   },
   "outputs": [],
   "source": [
    "grammar = \"NP: {<DT>?<JJ>*<NN>}\"\n",
    "matplotlib.use('Agg')"
   ]
  },
  {
   "cell_type": "code",
   "execution_count": null,
   "metadata": {
    "colab": {
     "base_uri": "https://localhost:8080/",
     "height": 418
    },
    "id": "xVtdsAj6MMEx",
    "outputId": "018486a5-5923-426a-9d47-dd0d7be0f72c"
   },
   "outputs": [
    {
     "ename": "TclError",
     "evalue": "ignored",
     "output_type": "error",
     "traceback": [
      "\u001b[0;31m---------------------------------------------------------------------------\u001b[0m",
      "\u001b[0;31mTclError\u001b[0m                                  Traceback (most recent call last)",
      "\u001b[0;32m/usr/local/lib/python3.7/dist-packages/IPython/core/formatters.py\u001b[0m in \u001b[0;36m__call__\u001b[0;34m(self, obj)\u001b[0m\n\u001b[1;32m    336\u001b[0m             \u001b[0mmethod\u001b[0m \u001b[0;34m=\u001b[0m \u001b[0mget_real_method\u001b[0m\u001b[0;34m(\u001b[0m\u001b[0mobj\u001b[0m\u001b[0;34m,\u001b[0m \u001b[0mself\u001b[0m\u001b[0;34m.\u001b[0m\u001b[0mprint_method\u001b[0m\u001b[0;34m)\u001b[0m\u001b[0;34m\u001b[0m\u001b[0;34m\u001b[0m\u001b[0m\n\u001b[1;32m    337\u001b[0m             \u001b[0;32mif\u001b[0m \u001b[0mmethod\u001b[0m \u001b[0;32mis\u001b[0m \u001b[0;32mnot\u001b[0m \u001b[0;32mNone\u001b[0m\u001b[0;34m:\u001b[0m\u001b[0;34m\u001b[0m\u001b[0;34m\u001b[0m\u001b[0m\n\u001b[0;32m--> 338\u001b[0;31m                 \u001b[0;32mreturn\u001b[0m \u001b[0mmethod\u001b[0m\u001b[0;34m(\u001b[0m\u001b[0;34m)\u001b[0m\u001b[0;34m\u001b[0m\u001b[0;34m\u001b[0m\u001b[0m\n\u001b[0m\u001b[1;32m    339\u001b[0m             \u001b[0;32mreturn\u001b[0m \u001b[0;32mNone\u001b[0m\u001b[0;34m\u001b[0m\u001b[0;34m\u001b[0m\u001b[0m\n\u001b[1;32m    340\u001b[0m         \u001b[0;32melse\u001b[0m\u001b[0;34m:\u001b[0m\u001b[0;34m\u001b[0m\u001b[0;34m\u001b[0m\u001b[0m\n",
      "\u001b[0;32m/usr/local/lib/python3.7/dist-packages/nltk/tree.py\u001b[0m in \u001b[0;36m_repr_png_\u001b[0;34m(self)\u001b[0m\n\u001b[1;32m    717\u001b[0m         \u001b[0;32mfrom\u001b[0m \u001b[0mnltk\u001b[0m\u001b[0;34m.\u001b[0m\u001b[0mdraw\u001b[0m\u001b[0;34m.\u001b[0m\u001b[0mutil\u001b[0m \u001b[0;32mimport\u001b[0m \u001b[0mCanvasFrame\u001b[0m\u001b[0;34m\u001b[0m\u001b[0;34m\u001b[0m\u001b[0m\n\u001b[1;32m    718\u001b[0m         \u001b[0;32mfrom\u001b[0m \u001b[0mnltk\u001b[0m\u001b[0;34m.\u001b[0m\u001b[0minternals\u001b[0m \u001b[0;32mimport\u001b[0m \u001b[0mfind_binary\u001b[0m\u001b[0;34m\u001b[0m\u001b[0;34m\u001b[0m\u001b[0m\n\u001b[0;32m--> 719\u001b[0;31m         \u001b[0m_canvas_frame\u001b[0m \u001b[0;34m=\u001b[0m \u001b[0mCanvasFrame\u001b[0m\u001b[0;34m(\u001b[0m\u001b[0;34m)\u001b[0m\u001b[0;34m\u001b[0m\u001b[0;34m\u001b[0m\u001b[0m\n\u001b[0m\u001b[1;32m    720\u001b[0m         \u001b[0mwidget\u001b[0m \u001b[0;34m=\u001b[0m \u001b[0mtree_to_treesegment\u001b[0m\u001b[0;34m(\u001b[0m\u001b[0m_canvas_frame\u001b[0m\u001b[0;34m.\u001b[0m\u001b[0mcanvas\u001b[0m\u001b[0;34m(\u001b[0m\u001b[0;34m)\u001b[0m\u001b[0;34m,\u001b[0m \u001b[0mself\u001b[0m\u001b[0;34m)\u001b[0m\u001b[0;34m\u001b[0m\u001b[0;34m\u001b[0m\u001b[0m\n\u001b[1;32m    721\u001b[0m         \u001b[0m_canvas_frame\u001b[0m\u001b[0;34m.\u001b[0m\u001b[0madd_widget\u001b[0m\u001b[0;34m(\u001b[0m\u001b[0mwidget\u001b[0m\u001b[0;34m)\u001b[0m\u001b[0;34m\u001b[0m\u001b[0;34m\u001b[0m\u001b[0m\n",
      "\u001b[0;32m/usr/local/lib/python3.7/dist-packages/nltk/draw/util.py\u001b[0m in \u001b[0;36m__init__\u001b[0;34m(self, parent, **kw)\u001b[0m\n\u001b[1;32m   1651\u001b[0m         \u001b[0;31m# If no parent was given, set up a top-level window.\u001b[0m\u001b[0;34m\u001b[0m\u001b[0;34m\u001b[0m\u001b[0;34m\u001b[0m\u001b[0m\n\u001b[1;32m   1652\u001b[0m         \u001b[0;32mif\u001b[0m \u001b[0mparent\u001b[0m \u001b[0;32mis\u001b[0m \u001b[0;32mNone\u001b[0m\u001b[0;34m:\u001b[0m\u001b[0;34m\u001b[0m\u001b[0;34m\u001b[0m\u001b[0m\n\u001b[0;32m-> 1653\u001b[0;31m             \u001b[0mself\u001b[0m\u001b[0;34m.\u001b[0m\u001b[0m_parent\u001b[0m \u001b[0;34m=\u001b[0m \u001b[0mTk\u001b[0m\u001b[0;34m(\u001b[0m\u001b[0;34m)\u001b[0m\u001b[0;34m\u001b[0m\u001b[0;34m\u001b[0m\u001b[0m\n\u001b[0m\u001b[1;32m   1654\u001b[0m             \u001b[0mself\u001b[0m\u001b[0;34m.\u001b[0m\u001b[0m_parent\u001b[0m\u001b[0;34m.\u001b[0m\u001b[0mtitle\u001b[0m\u001b[0;34m(\u001b[0m\u001b[0;34m'NLTK'\u001b[0m\u001b[0;34m)\u001b[0m\u001b[0;34m\u001b[0m\u001b[0;34m\u001b[0m\u001b[0m\n\u001b[1;32m   1655\u001b[0m             \u001b[0mself\u001b[0m\u001b[0;34m.\u001b[0m\u001b[0m_parent\u001b[0m\u001b[0;34m.\u001b[0m\u001b[0mbind\u001b[0m\u001b[0;34m(\u001b[0m\u001b[0;34m'<Control-p>'\u001b[0m\u001b[0;34m,\u001b[0m \u001b[0;32mlambda\u001b[0m \u001b[0me\u001b[0m\u001b[0;34m:\u001b[0m \u001b[0mself\u001b[0m\u001b[0;34m.\u001b[0m\u001b[0mprint_to_file\u001b[0m\u001b[0;34m(\u001b[0m\u001b[0;34m)\u001b[0m\u001b[0;34m)\u001b[0m\u001b[0;34m\u001b[0m\u001b[0;34m\u001b[0m\u001b[0m\n",
      "\u001b[0;32m/usr/lib/python3.7/tkinter/__init__.py\u001b[0m in \u001b[0;36m__init__\u001b[0;34m(self, screenName, baseName, className, useTk, sync, use)\u001b[0m\n\u001b[1;32m   2021\u001b[0m                 \u001b[0mbaseName\u001b[0m \u001b[0;34m=\u001b[0m \u001b[0mbaseName\u001b[0m \u001b[0;34m+\u001b[0m \u001b[0mext\u001b[0m\u001b[0;34m\u001b[0m\u001b[0;34m\u001b[0m\u001b[0m\n\u001b[1;32m   2022\u001b[0m         \u001b[0minteractive\u001b[0m \u001b[0;34m=\u001b[0m \u001b[0;36m0\u001b[0m\u001b[0;34m\u001b[0m\u001b[0;34m\u001b[0m\u001b[0m\n\u001b[0;32m-> 2023\u001b[0;31m         \u001b[0mself\u001b[0m\u001b[0;34m.\u001b[0m\u001b[0mtk\u001b[0m \u001b[0;34m=\u001b[0m \u001b[0m_tkinter\u001b[0m\u001b[0;34m.\u001b[0m\u001b[0mcreate\u001b[0m\u001b[0;34m(\u001b[0m\u001b[0mscreenName\u001b[0m\u001b[0;34m,\u001b[0m \u001b[0mbaseName\u001b[0m\u001b[0;34m,\u001b[0m \u001b[0mclassName\u001b[0m\u001b[0;34m,\u001b[0m \u001b[0minteractive\u001b[0m\u001b[0;34m,\u001b[0m \u001b[0mwantobjects\u001b[0m\u001b[0;34m,\u001b[0m \u001b[0museTk\u001b[0m\u001b[0;34m,\u001b[0m \u001b[0msync\u001b[0m\u001b[0;34m,\u001b[0m \u001b[0muse\u001b[0m\u001b[0;34m)\u001b[0m\u001b[0;34m\u001b[0m\u001b[0;34m\u001b[0m\u001b[0m\n\u001b[0m\u001b[1;32m   2024\u001b[0m         \u001b[0;32mif\u001b[0m \u001b[0museTk\u001b[0m\u001b[0;34m:\u001b[0m\u001b[0;34m\u001b[0m\u001b[0;34m\u001b[0m\u001b[0m\n\u001b[1;32m   2025\u001b[0m             \u001b[0mself\u001b[0m\u001b[0;34m.\u001b[0m\u001b[0m_loadtk\u001b[0m\u001b[0;34m(\u001b[0m\u001b[0;34m)\u001b[0m\u001b[0;34m\u001b[0m\u001b[0;34m\u001b[0m\u001b[0m\n",
      "\u001b[0;31mTclError\u001b[0m: no display name and no $DISPLAY environment variable"
     ]
    },
    {
     "data": {
      "text/plain": [
       "Tree('S', [Tree('NP', [('cyprus', 'NN')]), ('is', 'VBZ'), Tree('NP', [('a', 'DT'), ('major', 'JJ'), ('tourist', 'NN')]), Tree('NP', [('destination', 'NN')]), ('in', 'IN'), Tree('NP', [('the', 'DT'), ('mediterranean', 'NN')]), ('.', '.')])"
      ]
     },
     "execution_count": 48,
     "metadata": {},
     "output_type": "execute_result"
    }
   ],
   "source": [
    "###DOES NOT WORK: no display name and no $DISPLAY environment variable\n",
    "\n",
    "chunker = RegexpParser(grammar)\n",
    "result = chunker.parse(tags)\n",
    "result"
   ]
  },
  {
   "cell_type": "markdown",
   "metadata": {
    "id": "__WOUL17Mjv5"
   },
   "source": [
    "***Entity Recognition:*** The goal of entity recogintion is to detect entities such as Person, Location, Time, etc."
   ]
  },
  {
   "cell_type": "code",
   "execution_count": null,
   "metadata": {
    "id": "UTqRaDP0Mj6y"
   },
   "outputs": [],
   "source": [
    "###DOES NOT WORK: no display name and no $DISPLAY environment variable\n",
    "ne_chunk(tags)"
   ]
  },
  {
   "cell_type": "markdown",
   "metadata": {
    "id": "aG1DariZNEhQ"
   },
   "source": [
    "Note ne_chunk was unable to detect any entities in our sentence. That is because it is quite limited, being able to recognize only the following entities:\n",
    "\n",
    "FACILITY, GPE (Geo-Political Entity), GSP (Geo-Socio-Political group), LOCATION, ORGANIZATION, PERSON"
   ]
  },
  {
   "cell_type": "markdown",
   "metadata": {
    "id": "dCLLp6uWFA54"
   },
   "source": [
    "## Classifiers"
   ]
  },
  {
   "cell_type": "markdown",
   "metadata": {
    "id": "vMmbC3Fdpft9"
   },
   "source": [
    "### Name Gender Identifier"
   ]
  },
  {
   "cell_type": "markdown",
   "metadata": {
    "id": "NO4My2LJplDG"
   },
   "source": [
    "***Building a feature extractor***\n",
    "\n",
    "An idea is to use the last letter of the name to predict the gender. For instance, names ending in a, e and i are likely to be female, while names ending in k, o, r, s and t are likely to be male."
   ]
  },
  {
   "cell_type": "markdown",
   "metadata": {
    "id": "f7rtv2SrdFPr"
   },
   "source": [
    "Feature extractor which returns the last letter of a word"
   ]
  },
  {
   "cell_type": "code",
   "execution_count": null,
   "metadata": {
    "colab": {
     "base_uri": "https://localhost:8080/"
    },
    "id": "KyRo-wL0pLUE",
    "outputId": "1667aac4-7361-493e-af5d-53d93e83fcde"
   },
   "outputs": [
    {
     "data": {
      "text/plain": [
       "{'last_letter': 'n'}"
      ]
     },
     "execution_count": 1,
     "metadata": {},
     "output_type": "execute_result"
    }
   ],
   "source": [
    "def gender_features(word):\n",
    "    return {'last_letter': word[-1]}\n",
    "\n",
    "gender_features('John')"
   ]
  },
  {
   "cell_type": "markdown",
   "metadata": {
    "id": "H3Q1nzabpzwg"
   },
   "source": [
    "The returned dictionary is known as a feature set."
   ]
  },
  {
   "cell_type": "markdown",
   "metadata": {
    "id": "EVBqXON8dI9I"
   },
   "source": [
    "Open the names corpus"
   ]
  },
  {
   "cell_type": "code",
   "execution_count": null,
   "metadata": {
    "colab": {
     "base_uri": "https://localhost:8080/",
     "height": 140
    },
    "id": "0wEXt9xCpy5P",
    "outputId": "85536762-e9ed-4807-fbf6-e50429163c6b"
   },
   "outputs": [
    {
     "name": "stdout",
     "output_type": "stream",
     "text": [
      "[nltk_data] Downloading package names to /root/nltk_data...\n",
      "[nltk_data]   Unzipping corpora/names.zip.\n"
     ]
    },
    {
     "data": {
      "application/vnd.google.colaboratory.intrinsic+json": {
       "type": "string"
      },
      "text/plain": [
       "'Names Corpus, Version 1.3 (1994-03-29) Copyright (C) 1991 Mark Kantrowitz Additions by Bill Ross  This corpus contains 5001 female names and 2943 male names, sorted alphabetically, one per line.  You may use the lists of names for any purpose, so long as credit is given in any published work. You may also redistribute the list if you provide the recipients with a copy of this README file. The lists are not in the public domain (I retain the copyright on the lists) but are freely redistributable.  If you have any additions to the lists of names, I would appreciate receiving them.  Mark Kantrowitz <mkant+@cs.cmu.edu> http://www-2.cs.cmu.edu/afs/cs/project/ai-repository/ai/areas/nlp/corpora/names/'"
      ]
     },
     "execution_count": 6,
     "metadata": {},
     "output_type": "execute_result"
    }
   ],
   "source": [
    "names.readme().replace('\\n', ' ')"
   ]
  },
  {
   "cell_type": "markdown",
   "metadata": {
    "id": "4AXgfnTxdMcm"
   },
   "source": [
    "Get the file ids in the names corpus"
   ]
  },
  {
   "cell_type": "code",
   "execution_count": null,
   "metadata": {
    "colab": {
     "base_uri": "https://localhost:8080/"
    },
    "id": "BelKDAvbqAsW",
    "outputId": "3590da9a-20f8-4356-8431-a17f77384776"
   },
   "outputs": [
    {
     "data": {
      "text/plain": [
       "['female.txt', 'male.txt']"
      ]
     },
     "execution_count": 7,
     "metadata": {},
     "output_type": "execute_result"
    }
   ],
   "source": [
    "names.fileids()"
   ]
  },
  {
   "cell_type": "markdown",
   "metadata": {
    "id": "9kXia0eWdPpy"
   },
   "source": [
    "Get the first five words in the female text file in corpus"
   ]
  },
  {
   "cell_type": "code",
   "execution_count": null,
   "metadata": {
    "colab": {
     "base_uri": "https://localhost:8080/"
    },
    "id": "zhCJ43SgqOjE",
    "outputId": "9e52ecdd-7fe0-4c9a-b5c4-8e83fa7dce8d"
   },
   "outputs": [
    {
     "data": {
      "text/plain": [
       "['Abagael', 'Abagail', 'Abbe', 'Abbey', 'Abbi']"
      ]
     },
     "execution_count": 8,
     "metadata": {},
     "output_type": "execute_result"
    }
   ],
   "source": [
    "names.words('female.txt')[:5]"
   ]
  },
  {
   "cell_type": "markdown",
   "metadata": {
    "id": "S7rXA_R8qXtO"
   },
   "source": [
    "To build the classifier, we need to prepare a list of examples and corresponding class labels."
   ]
  },
  {
   "cell_type": "markdown",
   "metadata": {
    "id": "8SvHdppddQl8"
   },
   "source": [
    "Create list of labeled names where names in female.tx file are labeled female and male.txt names labeled male, print first five in labeled names list"
   ]
  },
  {
   "cell_type": "code",
   "execution_count": null,
   "metadata": {
    "colab": {
     "base_uri": "https://localhost:8080/"
    },
    "id": "NSNbIqwdqX2n",
    "outputId": "a7c20f2d-f9ae-4a67-a919-4049811da94d"
   },
   "outputs": [
    {
     "data": {
      "text/plain": [
       "[('Abagael', 'female'),\n",
       " ('Abagail', 'female'),\n",
       " ('Abbe', 'female'),\n",
       " ('Abbey', 'female'),\n",
       " ('Abbi', 'female')]"
      ]
     },
     "execution_count": 9,
     "metadata": {},
     "output_type": "execute_result"
    }
   ],
   "source": [
    "labeled_names = ([(name, 'female') for name in names.words('female.txt')] + [(name, 'male') for name in names.words('male.txt')])\n",
    "labeled_names[:5]"
   ]
  },
  {
   "cell_type": "markdown",
   "metadata": {
    "id": "Sw_OLvZPdUlG"
   },
   "source": [
    "We shuffle the data so that we can split it by index into training and test data.\n"
   ]
  },
  {
   "cell_type": "code",
   "execution_count": null,
   "metadata": {
    "colab": {
     "base_uri": "https://localhost:8080/"
    },
    "id": "rkSwSWzyqpKL",
    "outputId": "20a5c4fc-e953-43c6-d3c0-c5a11afd40b1"
   },
   "outputs": [
    {
     "data": {
      "text/plain": [
       "[('Norbert', 'male'),\n",
       " ('Stoddard', 'female'),\n",
       " ('Silvan', 'male'),\n",
       " ('Joete', 'female'),\n",
       " ('Nance', 'female')]"
      ]
     },
     "execution_count": 10,
     "metadata": {},
     "output_type": "execute_result"
    }
   ],
   "source": [
    "random.shuffle(labeled_names) \n",
    "labeled_names[:5]"
   ]
  },
  {
   "cell_type": "markdown",
   "metadata": {
    "id": "bVhfWK-sdW3g"
   },
   "source": [
    "Create list of the last letter of each name in labeled names and corresponding gender, print first five\n"
   ]
  },
  {
   "cell_type": "code",
   "execution_count": null,
   "metadata": {
    "colab": {
     "base_uri": "https://localhost:8080/"
    },
    "id": "wqfCS2dkqpUF",
    "outputId": "933d0fee-579a-4754-baa0-76da69afe2dd"
   },
   "outputs": [
    {
     "data": {
      "text/plain": [
       "7944"
      ]
     },
     "execution_count": 12,
     "metadata": {},
     "output_type": "execute_result"
    }
   ],
   "source": [
    "featuresets = [(gender_features(n), gender) for (n, gender) in labeled_names]\n",
    "featuresets[:5]"
   ]
  },
  {
   "cell_type": "markdown",
   "metadata": {
    "id": "XrW7PvG3daCI"
   },
   "source": [
    "print length of feature sets"
   ]
  },
  {
   "cell_type": "code",
   "execution_count": null,
   "metadata": {
    "colab": {
     "base_uri": "https://localhost:8080/"
    },
    "id": "ZzZdjFioq-rQ",
    "outputId": "e526d11f-7d4d-43e6-aa0a-3771075cc295"
   },
   "outputs": [
    {
     "data": {
      "text/plain": [
       "7944"
      ]
     },
     "execution_count": 14,
     "metadata": {},
     "output_type": "execute_result"
    }
   ],
   "source": [
    "len(featuresets)"
   ]
  },
  {
   "cell_type": "markdown",
   "metadata": {
    "id": "ns6lv6wDdb7c"
   },
   "source": [
    "We split the data into a training (80%) and test (20%) set:\n"
   ]
  },
  {
   "cell_type": "code",
   "execution_count": null,
   "metadata": {
    "id": "kLKnVG7ddcC9"
   },
   "outputs": [],
   "source": [
    "TRAIN_SET_SIZE = round(len(featuresets) * .8)\n",
    "train_set, test_set = featuresets[:TRAIN_SET_SIZE], featuresets[TRAIN_SET_SIZE:]"
   ]
  },
  {
   "cell_type": "markdown",
   "metadata": {
    "id": "pjw4FYd0diEr"
   },
   "source": [
    "We also get the names in the test set, to be used later:"
   ]
  },
  {
   "cell_type": "code",
   "execution_count": null,
   "metadata": {
    "id": "uJTvQ3KtdiMc"
   },
   "outputs": [],
   "source": [
    "test_names = labeled_names[TRAIN_SET_SIZE:]"
   ]
  },
  {
   "cell_type": "markdown",
   "metadata": {
    "id": "kwfV5lswdmbl"
   },
   "source": [
    "Define classifier"
   ]
  },
  {
   "cell_type": "code",
   "execution_count": null,
   "metadata": {
    "id": "rcr_L4I2rER0"
   },
   "outputs": [],
   "source": [
    "classifier = NaiveBayesClassifier.train(train_set)"
   ]
  },
  {
   "cell_type": "markdown",
   "metadata": {
    "id": "jCbc5okldrYx"
   },
   "source": [
    "\n",
    " When working with large corpora, constructing a single list that contains the features of every instance can use up a large amount of memory. \n",
    " \n",
    "In these cases, use the function nltk.classify.apply_features, which returns an object that acts like a list but does not store all the feature sets in memory: \n",
    "\n",
    "from nltk.classify import apply_features\n",
    "\n",
    "train_names, test_names = labeled_names[:round(len(featuresets) * .8)], labeled_names[round(len(featuresets) * .8):]\n",
    "\n",
    "train_set = apply_features(gender_features, labeled_names[500:])\n",
    "\n",
    "test_set = apply_features(gender_features, labeled_names[:500])"
   ]
  },
  {
   "cell_type": "markdown",
   "metadata": {
    "id": "mmoCXBsxdx9G"
   },
   "source": [
    "Prints likelihood ratios for most informative features"
   ]
  },
  {
   "cell_type": "code",
   "execution_count": null,
   "metadata": {
    "colab": {
     "base_uri": "https://localhost:8080/"
    },
    "id": "RQd5cG2urOdY",
    "outputId": "42041e7a-e4d9-4418-95c4-909ea418bd0f"
   },
   "outputs": [
    {
     "name": "stdout",
     "output_type": "stream",
     "text": [
      "Most Informative Features\n",
      "             last_letter = 'a'            female : male   =     31.8 : 1.0\n",
      "             last_letter = 'k'              male : female =     27.6 : 1.0\n",
      "             last_letter = 'v'              male : female =     10.4 : 1.0\n",
      "             last_letter = 'p'              male : female =      9.7 : 1.0\n",
      "             last_letter = 'd'              male : female =      8.8 : 1.0\n",
      "             last_letter = 'o'              male : female =      8.6 : 1.0\n",
      "             last_letter = 'm'              male : female =      7.6 : 1.0\n",
      "             last_letter = 'r'              male : female =      6.9 : 1.0\n",
      "             last_letter = 'g'              male : female =      4.9 : 1.0\n",
      "             last_letter = 'z'              male : female =      4.6 : 1.0\n"
     ]
    }
   ],
   "source": [
    "classifier.show_most_informative_features(10) "
   ]
  },
  {
   "cell_type": "markdown",
   "metadata": {
    "id": "Kg01BMFurNoA"
   },
   "source": [
    "Testing the classifer:"
   ]
  },
  {
   "cell_type": "markdown",
   "metadata": {
    "id": "FMohaVH-d1B8"
   },
   "source": [
    "Get labels from classifer"
   ]
  },
  {
   "cell_type": "code",
   "execution_count": null,
   "metadata": {
    "colab": {
     "base_uri": "https://localhost:8080/"
    },
    "id": "8p3CeEXBrXee",
    "outputId": "ada7c6e4-9681-4ea4-b646-89373dfa17dc"
   },
   "outputs": [
    {
     "data": {
      "text/plain": [
       "['male', 'female']"
      ]
     },
     "execution_count": 17,
     "metadata": {},
     "output_type": "execute_result"
    }
   ],
   "source": [
    "classifier.labels()"
   ]
  },
  {
   "cell_type": "markdown",
   "metadata": {
    "id": "HiJODipHd3C1"
   },
   "source": [
    "Get accuracy of classifer"
   ]
  },
  {
   "cell_type": "code",
   "execution_count": null,
   "metadata": {
    "colab": {
     "base_uri": "https://localhost:8080/"
    },
    "id": "__oCJGdvreVQ",
    "outputId": "83f1d1b3-9965-43d7-bff9-b8805aabff73"
   },
   "outputs": [
    {
     "data": {
      "text/plain": [
       "0.76"
      ]
     },
     "execution_count": 18,
     "metadata": {},
     "output_type": "execute_result"
    }
   ],
   "source": [
    "round(accuracy(classifier, test_set), 2)"
   ]
  },
  {
   "cell_type": "markdown",
   "metadata": {
    "id": "aOd8Gxoqd6JR"
   },
   "source": [
    "Test classifier on female name based on last letter of name"
   ]
  },
  {
   "cell_type": "code",
   "execution_count": null,
   "metadata": {
    "colab": {
     "base_uri": "https://localhost:8080/",
     "height": 35
    },
    "id": "58-rmN-1rjCS",
    "outputId": "6b20805c-bd0f-4e58-9399-d604d5571c6c"
   },
   "outputs": [
    {
     "data": {
      "application/vnd.google.colaboratory.intrinsic+json": {
       "type": "string"
      },
      "text/plain": [
       "'female'"
      ]
     },
     "execution_count": 19,
     "metadata": {},
     "output_type": "execute_result"
    }
   ],
   "source": [
    "classifier.classify(gender_features('Aphrodite'))"
   ]
  },
  {
   "cell_type": "markdown",
   "metadata": {
    "id": "vb2nJFHpd71Y"
   },
   "source": [
    "Test classifier on male name based on last letter of name"
   ]
  },
  {
   "cell_type": "code",
   "execution_count": null,
   "metadata": {
    "colab": {
     "base_uri": "https://localhost:8080/",
     "height": 35
    },
    "id": "cWgeoyThroGP",
    "outputId": "68120fdf-4d2f-42df-8315-0a9888eb8289"
   },
   "outputs": [
    {
     "data": {
      "application/vnd.google.colaboratory.intrinsic+json": {
       "type": "string"
      },
      "text/plain": [
       "'male'"
      ]
     },
     "execution_count": 20,
     "metadata": {},
     "output_type": "execute_result"
    }
   ],
   "source": [
    "classifier.classify(gender_features('Zeus'))"
   ]
  },
  {
   "cell_type": "markdown",
   "metadata": {
    "id": "W_2a5I9rrtNF"
   },
   "source": [
    "Building a classifier with more features:"
   ]
  },
  {
   "cell_type": "markdown",
   "metadata": {
    "id": "PYKrKTtEd9Vd"
   },
   "source": [
    "Define a classifier which lowercases first and last letter of word and identifies which letters are contained in word and at what frequency"
   ]
  },
  {
   "cell_type": "code",
   "execution_count": null,
   "metadata": {
    "id": "RXkJ422iryOb"
   },
   "outputs": [],
   "source": [
    "def gender_features2(name):\n",
    "    features = {}\n",
    "    features[\"first_letter\"] = name[0].lower()\n",
    "    features[\"last_letter\"] = name[-1].lower()\n",
    "    for letter in 'abcdefghijklmnopqrstuvwxyz':\n",
    "        features[\"count({})\".format(letter)] = name.lower().count(letter)\n",
    "        features[\"has({})\".format(letter)] = (letter in name.lower())\n",
    "    return features\n",
    "\n",
    "#gender_features2('John')"
   ]
  },
  {
   "cell_type": "markdown",
   "metadata": {
    "id": "l6b9sS6ueEMy"
   },
   "source": [
    "Get features above for list of gendered names and put in list, print first item in list\n"
   ]
  },
  {
   "cell_type": "code",
   "execution_count": null,
   "metadata": {
    "id": "bcpKrKMfsb5E"
   },
   "outputs": [],
   "source": [
    "featuresets2 = [(gender_features2(n), gender) for (n, gender) in labeled_names]\n",
    "#featuresets2[0]"
   ]
  },
  {
   "cell_type": "markdown",
   "metadata": {
    "id": "HMwva_UUeGW2"
   },
   "source": [
    "Train new classifier on same set of male and female names above and get accuracy\n"
   ]
  },
  {
   "cell_type": "code",
   "execution_count": null,
   "metadata": {
    "colab": {
     "base_uri": "https://localhost:8080/"
    },
    "id": "HZkjXjtusOtF",
    "outputId": "cec67aab-abb9-4cd3-cfbc-2c50ce02ed35"
   },
   "outputs": [
    {
     "data": {
      "text/plain": [
       "0.79"
      ]
     },
     "execution_count": 24,
     "metadata": {},
     "output_type": "execute_result"
    }
   ],
   "source": [
    "train_set2, test_set2 = featuresets2[:TRAIN_SET_SIZE], featuresets2[TRAIN_SET_SIZE:]\n",
    "classifier2 = NaiveBayesClassifier.train(train_set2)\n",
    "round(accuracy(classifier2, test_set2), 2)"
   ]
  },
  {
   "cell_type": "markdown",
   "metadata": {
    "id": "Gz97mbUDs1xy"
   },
   "source": [
    "We would have expected that having too many specific features on a small dataset would lead to overfitting, but it seems the classifier was good at avoiding that since its performance is slightly better.\n",
    "\n"
   ]
  },
  {
   "cell_type": "markdown",
   "metadata": {
    "id": "Ht57QYjHeHq7"
   },
   "source": [
    "Show the most informative features for the new classifer\n"
   ]
  },
  {
   "cell_type": "code",
   "execution_count": null,
   "metadata": {
    "colab": {
     "base_uri": "https://localhost:8080/"
    },
    "id": "3SIJEN7Gs1RQ",
    "outputId": "91b512e5-35c4-4165-c03c-103191270cc8"
   },
   "outputs": [
    {
     "name": "stdout",
     "output_type": "stream",
     "text": [
      "Most Informative Features\n",
      "             last_letter = 'a'            female : male   =     31.8 : 1.0\n",
      "             last_letter = 'k'              male : female =     27.6 : 1.0\n",
      "             last_letter = 'v'              male : female =     10.4 : 1.0\n",
      "             last_letter = 'p'              male : female =      9.7 : 1.0\n",
      "                count(v) = 2              female : male   =      8.9 : 1.0\n",
      "             last_letter = 'd'              male : female =      8.8 : 1.0\n",
      "             last_letter = 'o'              male : female =      8.6 : 1.0\n",
      "             last_letter = 'm'              male : female =      7.6 : 1.0\n",
      "             last_letter = 'r'              male : female =      6.9 : 1.0\n",
      "            first_letter = 'w'              male : female =      4.9 : 1.0\n",
      "             last_letter = 'g'              male : female =      4.9 : 1.0\n",
      "             last_letter = 'z'              male : female =      4.6 : 1.0\n",
      "             last_letter = 'b'              male : female =      4.4 : 1.0\n",
      "                count(a) = 3              female : male   =      4.3 : 1.0\n",
      "                count(w) = 1                male : female =      4.2 : 1.0\n"
     ]
    }
   ],
   "source": [
    "classifier2.show_most_informative_features(15)"
   ]
  },
  {
   "cell_type": "markdown",
   "metadata": {
    "id": "BBBM_QCLtlnP"
   },
   "source": [
    "Indeed, it seems the classifier is mainly using the last letter, along with some other features that happen to improve the accuracy."
   ]
  },
  {
   "cell_type": "markdown",
   "metadata": {
    "id": "Dqz0WE4Ctq2I"
   },
   "source": [
    "***Comparing the two classifiers using nltk.metrics***"
   ]
  },
  {
   "cell_type": "markdown",
   "metadata": {
    "id": "HF6jWhBfuBDd"
   },
   "source": [
    "Before we start, here's a useful function for comparing strings:\n",
    "\n",
    "Edit distance is the number of characters that need to be substituted, inserted, or deleted, to transform s1 into s2.\n"
   ]
  },
  {
   "cell_type": "code",
   "execution_count": null,
   "metadata": {
    "colab": {
     "base_uri": "https://localhost:8080/"
    },
    "id": "WQeLK08TtqFb",
    "outputId": "376cc7db-5091-4baf-a42e-71f2881be112"
   },
   "outputs": [
    {
     "data": {
      "text/plain": [
       "1"
      ]
     },
     "execution_count": 26,
     "metadata": {},
     "output_type": "execute_result"
    }
   ],
   "source": [
    "edit_distance(\"John\", \"Joan\")"
   ]
  },
  {
   "cell_type": "markdown",
   "metadata": {
    "id": "7HxTDP7it2QE"
   },
   "source": [
    "The NLTK metrics module provides functions for calculating metrics beyond mere accuracy. But in order to do so, we need to build 2 sets for each classification label: a reference set of correct values, and a test set of observed values."
   ]
  },
  {
   "cell_type": "code",
   "execution_count": null,
   "metadata": {
    "id": "5cGcq6DAt1r6"
   },
   "outputs": [],
   "source": [
    "# Classifier 1\n",
    "refsets = collections.defaultdict(set) # For what this is: https://stackoverflow.com/questions/5900578/how-does-collections-defaultdict-work\n",
    "testsets = collections.defaultdict(set)\n",
    "\n",
    "for i, (feats, label) in enumerate(test_set):\n",
    "    refsets[label].add(i)\n",
    "    observed = classifier.classify(feats)\n",
    "    testsets[observed].add(i)\n",
    "    \n",
    "# Classifier 2\n",
    "refsets2 = collections.defaultdict(set)\n",
    "testsets2 = collections.defaultdict(set)\n",
    "\n",
    "for i, (feats, label) in enumerate(test_set2):\n",
    "    refsets2[label].add(i)\n",
    "    observed = classifier2.classify(feats)\n",
    "    testsets2[observed].add(i)"
   ]
  },
  {
   "cell_type": "code",
   "execution_count": null,
   "metadata": {
    "id": "1IanDshYuWW-"
   },
   "outputs": [],
   "source": [
    "refsets"
   ]
  },
  {
   "cell_type": "code",
   "execution_count": null,
   "metadata": {
    "id": "trsn3MnvuZ_0"
   },
   "outputs": [],
   "source": [
    "testsets"
   ]
  },
  {
   "cell_type": "markdown",
   "metadata": {
    "id": "FRlJlHvjeREN"
   },
   "source": [
    "We can proceed to print the metrics for each classifier. \n",
    "\n",
    "However, we cannot get the accuracy in this manner because nltk.metrics.scores.accuracy(reference, test) works by comparing test[i] == reference[i] and our reference and test are not formatted in a way that allows for this.\n",
    "\n",
    "It's the same for the confusion matrix."
   ]
  },
  {
   "cell_type": "code",
   "execution_count": null,
   "metadata": {
    "colab": {
     "base_uri": "https://localhost:8080/"
    },
    "id": "NyRlMKCzuwdk",
    "outputId": "6722874a-caf4-4a7e-c320-e0f56db2b15e"
   },
   "outputs": [
    {
     "name": "stdout",
     "output_type": "stream",
     "text": [
      "\n",
      "CLASSIFIER 1\n",
      "------------ \n",
      "Female precision: 0.81\n",
      "Male precision: 0.67\n",
      "Female recall: 0.82\n",
      "Male recall: 0.66\n",
      "Female F1 score: 0.81\n",
      "Male F1 score: 0.67\n",
      "\n",
      "CLASSIFIER 2\n",
      "------------ \n",
      "Female precision: 0.83\n",
      "Male precision: 0.72\n",
      "Female recall: 0.85\n",
      "Male recall: 0.68\n",
      "Female F1 score: 0.84\n",
      "Male F1 score: 0.7\n",
      "\n"
     ]
    }
   ],
   "source": [
    "args = (\n",
    "    round(precision(refsets['female'], testsets['female']), 2),\n",
    "    round(precision(refsets['male'], testsets['male']), 2),\n",
    "    round(recall(refsets['female'], testsets['female']), 2),\n",
    "    round(recall(refsets['male'], testsets['male']), 2),\n",
    "    round(f_measure(refsets['female'], testsets['female']), 2),\n",
    "    round(f_measure(refsets['male'], testsets['male']), 2)\n",
    ")\n",
    "\n",
    "args2 = (\n",
    "    round(precision(refsets2['female'], testsets2['female']), 2),\n",
    "    round(precision(refsets2['male'], testsets2['male']), 2),\n",
    "    round(recall(refsets2['female'], testsets2['female']), 2),\n",
    "    round(recall(refsets2['male'], testsets2['male']), 2),\n",
    "    round(f_measure(refsets2['female'], testsets2['female']), 2),\n",
    "    round(f_measure(refsets2['male'], testsets2['male']), 2)\n",
    ")\n",
    "\n",
    "print('''\n",
    "CLASSIFIER 1\n",
    "------------ \n",
    "Female precision: {0}\n",
    "Male precision: {1}\n",
    "Female recall: {2}\n",
    "Male recall: {3}\n",
    "Female F1 score: {4}\n",
    "Male F1 score: {5}\n",
    "\n",
    "CLASSIFIER 2\n",
    "------------ \n",
    "Female precision: {6}\n",
    "Male precision: {7}\n",
    "Female recall: {8}\n",
    "Male recall: {9}\n",
    "Female F1 score: {10}\n",
    "Male F1 score: {11}\n",
    "'''.format(*args, *args2))"
   ]
  },
  {
   "cell_type": "markdown",
   "metadata": {
    "id": "MHJ7NzkUvAqh"
   },
   "source": [
    "***Error analysis:*** Investigating errors of classifier (names whose gender was misclassified)"
   ]
  },
  {
   "cell_type": "markdown",
   "metadata": {
    "id": "I6IQErZleWNJ"
   },
   "source": [
    "Make list for errors and load in classifications where guess does not equal gender tag, print first five\n"
   ]
  },
  {
   "cell_type": "code",
   "execution_count": null,
   "metadata": {
    "colab": {
     "base_uri": "https://localhost:8080/"
    },
    "id": "1SW13TLBvAQO",
    "outputId": "144d923b-9d28-434e-c161-f6e4a1767ea4"
   },
   "outputs": [
    {
     "data": {
      "text/plain": [
       "[('female', 'male', 'Christean'),\n",
       " ('female', 'male', 'Charis'),\n",
       " ('male', 'female', 'Cody'),\n",
       " ('male', 'female', 'Micah'),\n",
       " ('male', 'female', 'Tracie')]"
      ]
     },
     "execution_count": 34,
     "metadata": {},
     "output_type": "execute_result"
    }
   ],
   "source": [
    "errors = []\n",
    "for (name, tag) in test_names:\n",
    "    guess = classifier2.classify(gender_features(name))\n",
    "    if guess != tag:\n",
    "        errors.append((tag, guess, name))\n",
    "\n",
    "errors[:5]"
   ]
  },
  {
   "cell_type": "markdown",
   "metadata": {
    "id": "VIWGyka0eY_i"
   },
   "source": [
    "Print three columns (correct gender of name, guessed gender, and name itself)"
   ]
  },
  {
   "cell_type": "code",
   "execution_count": null,
   "metadata": {
    "id": "3_uC-MRLvo8q"
   },
   "outputs": [],
   "source": [
    "for (tag, guess, name) in sorted(errors):\n",
    "    #print('Correct = {:8} guess = {:8} name = {}'.format(tag, guess, name)) # :8 creates spaces between columns."
   ]
  },
  {
   "cell_type": "markdown",
   "metadata": {
    "id": "vaLHTKNOv5yT"
   },
   "source": [
    "Looking through this list of errors, it seems that some suffixes that are more than one letter long can be indicative of name genders. For example, names ending in yn appear to be predominantly female, despite the fact that names ending in n tend to be male; and names ending in ch are usually male, even though names that end in h tend to be female."
   ]
  },
  {
   "cell_type": "markdown",
   "metadata": {
    "id": "nshIowSTwFH0"
   },
   "source": [
    "Building a classifier with even more features in response to errors"
   ]
  },
  {
   "cell_type": "markdown",
   "metadata": {
    "id": "DHM_oE0eegu2"
   },
   "source": [
    "Define new classifier which counts first letter and last two letters of word"
   ]
  },
  {
   "cell_type": "code",
   "execution_count": null,
   "metadata": {
    "id": "GVSb4Hj9wCRx"
   },
   "outputs": [],
   "source": [
    "def gender_features3(name):\n",
    "    features = {}\n",
    "    features[\"first_letter\"] = name[0].lower()\n",
    "    features[\"suffix1\"] = name[-1].lower()\n",
    "    features[\"suffix2\"] = name[-2:].lower()\n",
    "    for letter in 'abcdefghijklmnopqrstuvwxyz':\n",
    "        features[\"count({})\".format(letter)] = name.lower().count(letter)\n",
    "        features[\"has({})\".format(letter)] = (letter in name.lower())\n",
    "    return features\n",
    "\n",
    "#gender_features3('John')"
   ]
  },
  {
   "cell_type": "markdown",
   "metadata": {
    "id": "6o_JeX8PesM9"
   },
   "source": [
    "Get features above for list of gendered names and put in list, print first item in list\n"
   ]
  },
  {
   "cell_type": "code",
   "execution_count": null,
   "metadata": {
    "id": "MSc2YjOzwj2g"
   },
   "outputs": [],
   "source": [
    "featuresets3 = [(gender_features3(n), gender) for (n, gender) in labeled_names]\n",
    "featuresets3[0]"
   ]
  },
  {
   "cell_type": "markdown",
   "metadata": {
    "id": "IUDZtxgFey7K"
   },
   "source": [
    "Train new classifier on same set of male and female names above and get accuracy\n"
   ]
  },
  {
   "cell_type": "code",
   "execution_count": null,
   "metadata": {
    "colab": {
     "base_uri": "https://localhost:8080/"
    },
    "id": "RKXAflRsw3jt",
    "outputId": "63854065-c214-44b4-d05c-1171f96ea916"
   },
   "outputs": [
    {
     "data": {
      "text/plain": [
       "0.8"
      ]
     },
     "execution_count": 38,
     "metadata": {},
     "output_type": "execute_result"
    }
   ],
   "source": [
    "train_set3, test_set3 = featuresets3[:TRAIN_SET_SIZE], featuresets3[TRAIN_SET_SIZE:]\n",
    "classifier3 = NaiveBayesClassifier.train(train_set3)\n",
    "round(accuracy(classifier3, test_set3), 2)"
   ]
  },
  {
   "cell_type": "markdown",
   "metadata": {
    "id": "o_5k6q5We1OU"
   },
   "source": [
    "Get 15 most informative features for classifier3"
   ]
  },
  {
   "cell_type": "code",
   "execution_count": null,
   "metadata": {
    "colab": {
     "base_uri": "https://localhost:8080/"
    },
    "id": "c2j_6qzxw-JC",
    "outputId": "7bb9396b-f956-425f-9290-edc577b7d96b"
   },
   "outputs": [
    {
     "name": "stdout",
     "output_type": "stream",
     "text": [
      "Most Informative Features\n",
      "                 suffix2 = 'na'           female : male   =     84.0 : 1.0\n",
      "                 suffix2 = 'la'           female : male   =     67.8 : 1.0\n",
      "                 suffix2 = 'ra'           female : male   =     53.7 : 1.0\n",
      "                 suffix2 = 'ia'           female : male   =     49.4 : 1.0\n",
      "                 suffix2 = 'us'             male : female =     33.3 : 1.0\n",
      "                 suffix1 = 'a'            female : male   =     31.8 : 1.0\n",
      "                 suffix2 = 'rd'             male : female =     29.9 : 1.0\n",
      "                 suffix1 = 'k'              male : female =     27.6 : 1.0\n",
      "                 suffix2 = 'sa'           female : male   =     27.3 : 1.0\n",
      "                 suffix2 = 'ta'           female : male   =     21.9 : 1.0\n",
      "                 suffix2 = 'do'             male : female =     21.4 : 1.0\n",
      "                 suffix2 = 'ld'             male : female =     20.7 : 1.0\n",
      "                 suffix2 = 'rt'             male : female =     16.7 : 1.0\n",
      "                 suffix2 = 'ka'           female : male   =     14.8 : 1.0\n",
      "                 suffix2 = 'io'             male : female =     13.5 : 1.0\n"
     ]
    }
   ],
   "source": [
    "classifier3.show_most_informative_features(15)"
   ]
  },
  {
   "cell_type": "markdown",
   "metadata": {
    "id": "S2mZgGDBxKTL"
   },
   "source": [
    "***Maximum entropy classifier:*** The principle of maximum entropy states that the probability distribution which best represents the current state of knowledge is the one with largest entropy.\n",
    "\n",
    "The principle of maximum entropy is invoked when we have some piece(s) of information about a probability distribution, but not enough to characterize it completely—likely because we do not have the means or resources to do so. As an example, if all we know about a distribution is its average, we can imagine infinite shapes that yield a particular average. The principle of maximum entropy says that we should humbly choose the distribution that maximizes the amount of unpredictability contained in the distribution.\n",
    "\n",
    "Taking the idea to the extreme, it wouldn’t be scientific to choose a distribution that simply yields the average value 100% of the time.\n",
    "\n",
    "From all the models that fit our training data, the Maximum Entropy classifier selects the one which has the largest entropy. Due to the minimum assumptions that the Maximum Entropy classifier makes, it is usually used when we don’t know anything about the prior distributions and when it is unsafe to make any assumptions. Also, the maximum entropy classifier is used when we can’t assume the conditional independence of the features."
   ]
  },
  {
   "cell_type": "markdown",
   "metadata": {
    "id": "3KYdrUoZe5VU"
   },
   "source": [
    "In this example, the performance in terms of accuracy on the test set starts significantly improving beyond the previous model's at around 25 iterations.\n"
   ]
  },
  {
   "cell_type": "code",
   "execution_count": null,
   "metadata": {
    "colab": {
     "base_uri": "https://localhost:8080/"
    },
    "id": "XvjL3c6ExigH",
    "outputId": "6359fa6b-f6a4-41ae-ae2e-5f48204c8960"
   },
   "outputs": [
    {
     "name": "stdout",
     "output_type": "stream",
     "text": [
      "  ==> Training (25 iterations)\n",
      "\n",
      "      Iteration    Log Likelihood    Accuracy\n",
      "      ---------------------------------------\n",
      "             1          -0.69315        0.373\n",
      "             2          -0.60435        0.627\n",
      "             3          -0.58273        0.627\n",
      "             4          -0.56287        0.633\n",
      "             5          -0.54470        0.668\n",
      "             6          -0.52810        0.703\n",
      "             7          -0.51296        0.730\n",
      "             8          -0.49913        0.752\n",
      "             9          -0.48651        0.767\n",
      "            10          -0.47497        0.779\n",
      "            11          -0.46440        0.787\n",
      "            12          -0.45471        0.792\n",
      "            13          -0.44580        0.795\n",
      "            14          -0.43760        0.795\n",
      "            15          -0.43004        0.798\n",
      "            16          -0.42304        0.799\n",
      "            17          -0.41656        0.801\n",
      "            18          -0.41055        0.802\n",
      "            19          -0.40495        0.805\n",
      "            20          -0.39974        0.806\n",
      "            21          -0.39487        0.807\n",
      "            22          -0.39032        0.808\n",
      "            23          -0.38606        0.809\n",
      "            24          -0.38206        0.810\n",
      "         Final          -0.37830        0.811\n"
     ]
    }
   ],
   "source": [
    "# max_iter has default value 100. \n",
    "me_classifier = MaxentClassifier.train(train_set3, max_iter=25) "
   ]
  },
  {
   "cell_type": "markdown",
   "metadata": {
    "id": "AAlYbod-e7vw"
   },
   "source": [
    "Get the accuracy of the me classifier. The accuracies above were on the training set so this is what matters.\n"
   ]
  },
  {
   "cell_type": "code",
   "execution_count": null,
   "metadata": {
    "colab": {
     "base_uri": "https://localhost:8080/"
    },
    "id": "nTpysUsvx-AR",
    "outputId": "9a63df04-bb25-4410-c831-2086b05165c5"
   },
   "outputs": [
    {
     "data": {
      "text/plain": [
       "0.81"
      ]
     },
     "execution_count": 41,
     "metadata": {},
     "output_type": "execute_result"
    }
   ],
   "source": [
    "round(accuracy(me_classifier, test_set3), 2) "
   ]
  },
  {
   "cell_type": "markdown",
   "metadata": {
    "id": "6lo8Bt0Be9p6"
   },
   "source": [
    "Get 10 most informative features for me classifier\n"
   ]
  },
  {
   "cell_type": "code",
   "execution_count": null,
   "metadata": {
    "colab": {
     "base_uri": "https://localhost:8080/"
    },
    "id": "6s-6k6FJyKtC",
    "outputId": "42281ea8-b053-4281-dc92-8458a2ff0bfd"
   },
   "outputs": [
    {
     "name": "stdout",
     "output_type": "stream",
     "text": [
      "  -1.938 suffix2=='na' and label is 'male'\n",
      "  -1.922 suffix2=='la' and label is 'male'\n",
      "  -1.886 suffix2=='ra' and label is 'male'\n",
      "  -1.658 suffix2=='ia' and label is 'male'\n",
      "  -1.430 suffix2=='sa' and label is 'male'\n",
      "  -1.387 suffix1=='a' and label is 'male'\n",
      "  -1.346 suffix2=='us' and label is 'female'\n",
      "  -1.277 suffix1=='k' and label is 'female'\n",
      "  -1.217 suffix2=='ta' and label is 'male'\n",
      "  -1.213 suffix2=='rd' and label is 'female'\n"
     ]
    }
   ],
   "source": [
    "me_classifier.show_most_informative_features(10)"
   ]
  },
  {
   "cell_type": "markdown",
   "metadata": {
    "id": "kLwG96ZHyTp7"
   },
   "source": [
    "#### ***More Classifiers:***\n",
    "Scikit-learn (sklearn) is a popular library which features various classification, regression and clustering algorithms including support vector machines, random forests, gradient boosting, k-means and DBSCAN.\n",
    "\n",
    "NLTK provides an API to quickly use sklearn classifiers in nltk.classify.scikitlearn. The other option is to import and use sklearn directly.\n",
    "\n",
    "For an example of integrating sklearn with NLTK, you can check out [this notebook on Kaggle.](https://www.kaggle.com/alvations/basic-nlp-with-nltk) Kaggle is a great website for NLP and machine learning in general, creating an account is highly recommended."
   ]
  },
  {
   "cell_type": "markdown",
   "metadata": {
    "id": "lKOqWc42zipI"
   },
   "source": [
    "###Classifying News Documents into Categories\n",
    "\n",
    "Based on Another Excercise: Classifying News Documents in Categories: sport, humor, adventure, science fiction, etc... in [Natural Language Processing with Python/NLTK by Luciano M. Guasco](https://github.com/luchux/ipython-notebook-nltk/blob/master/NLP%20-%20MelbDjango.ipynb)"
   ]
  },
  {
   "cell_type": "markdown",
   "metadata": {
    "id": "GKj3q9-Dz852"
   },
   "source": [
    "**Exploring the Brown corpus**\n",
    "\n",
    "The Corpus consists of 500 samples, distributed across 15 genres. Each sample began at a random sentence-boundary in the article or other unit chosen, and continued up to the first sentence boundary after 2,000 words.\n",
    "\n",
    "A. PRESS: Reportage (44 texts)\n",
    "\n",
    "B. PRESS: Editorial (27 texts)\n",
    "\n",
    "C. PRESS: Reviews (17 texts)\n",
    "\n",
    "D. RELIGION (17 texts)\n",
    "\n",
    "E. SKILL AND HOBBIES (36 texts)\n",
    "\n",
    "F. POPULAR LORE (48 texts)\n",
    "\n",
    "G. BELLES-LETTRES - Biography, Memoirs, etc. (75 texts)\n",
    "\n",
    "H. MISCELLANEOUS: US Government & House Organs (30 texts)\n",
    "\n",
    "J. LEARNED - Natural sciences, Medicine, Mathematics, etc. (80 texts)\n",
    "\n",
    "K. FICTION: General (29 texts)\n",
    "\n",
    "L. FICTION: Mystery and Detective Fiction (24 texts)\n",
    "\n",
    "M. FICTION: Science (6 texts)\n",
    "\n",
    "N. FICTION: Adventure and Western (29 texts)\n",
    "\n",
    "P. FICTION: Romance and Love Story (29 texts)\n",
    "\n",
    "R. HUMOR (9 texts)"
   ]
  },
  {
   "cell_type": "markdown",
   "metadata": {
    "id": "fn__CLdFfKjs"
   },
   "source": [
    "Clean spacing in brown corpus"
   ]
  },
  {
   "cell_type": "code",
   "execution_count": null,
   "metadata": {
    "colab": {
     "base_uri": "https://localhost:8080/",
     "height": 105
    },
    "id": "M0YDRqAazEh1",
    "outputId": "5ca5a9e3-1ea5-40c6-e81d-f70a3aa4e796"
   },
   "outputs": [
    {
     "name": "stdout",
     "output_type": "stream",
     "text": [
      "[nltk_data] Downloading package brown to /root/nltk_data...\n",
      "[nltk_data]   Unzipping corpora/brown.zip.\n"
     ]
    },
    {
     "data": {
      "application/vnd.google.colaboratory.intrinsic+json": {
       "type": "string"
      },
      "text/plain": [
       "'BROWN CORPUS  A Standard Corpus of Present-Day Edited American English, for use with Digital Computers.  by W. N. Francis and H. Kucera (1964) Department of Linguistics, Brown University Providence, Rhode Island, USA  Revised 1971, Revised and Amplified 1979  http://www.hit.uib.no/icame/brown/bcm.html  Distributed with the permission of the copyright holder, redistribution permitted. '"
      ]
     },
     "execution_count": 2,
     "metadata": {},
     "output_type": "execute_result"
    }
   ],
   "source": [
    "brown.readme().replace('\\n', ' ')"
   ]
  },
  {
   "cell_type": "markdown",
   "metadata": {
    "id": "h4L0dUWRfM8R"
   },
   "source": [
    "Print file ids in Brown corpus"
   ]
  },
  {
   "cell_type": "code",
   "execution_count": null,
   "metadata": {
    "id": "VE3wqzpj0i9A"
   },
   "outputs": [],
   "source": [
    "brown.fileids()"
   ]
  },
  {
   "cell_type": "markdown",
   "metadata": {
    "id": "RYliITtefPV6"
   },
   "source": [
    "Get categories (genres of text) in Brown corpus"
   ]
  },
  {
   "cell_type": "code",
   "execution_count": null,
   "metadata": {
    "colab": {
     "base_uri": "https://localhost:8080/"
    },
    "id": "5IEyOteC0rkD",
    "outputId": "e97f59e3-5d8c-4b7f-c35c-47ccbc847e36"
   },
   "outputs": [
    {
     "data": {
      "text/plain": [
       "['adventure',\n",
       " 'belles_lettres',\n",
       " 'editorial',\n",
       " 'fiction',\n",
       " 'government',\n",
       " 'hobbies',\n",
       " 'humor',\n",
       " 'learned',\n",
       " 'lore',\n",
       " 'mystery',\n",
       " 'news',\n",
       " 'religion',\n",
       " 'reviews',\n",
       " 'romance',\n",
       " 'science_fiction']"
      ]
     },
     "execution_count": 4,
     "metadata": {},
     "output_type": "execute_result"
    }
   ],
   "source": [
    "brown.categories()"
   ]
  },
  {
   "cell_type": "markdown",
   "metadata": {
    "id": "82yw2YGmfXJZ"
   },
   "source": [
    "Print first sentence in specified file of brown corpus"
   ]
  },
  {
   "cell_type": "code",
   "execution_count": null,
   "metadata": {
    "colab": {
     "base_uri": "https://localhost:8080/"
    },
    "id": "atzpifoH0t73",
    "outputId": "c6f2f94a-99b2-4417-d2f4-da52a3bcc6ba"
   },
   "outputs": [
    {
     "data": {
      "text/plain": [
       "['The',\n",
       " 'Fulton',\n",
       " 'County',\n",
       " 'Grand',\n",
       " 'Jury',\n",
       " 'said',\n",
       " 'Friday',\n",
       " 'an',\n",
       " 'investigation',\n",
       " 'of',\n",
       " \"Atlanta's\",\n",
       " 'recent',\n",
       " 'primary',\n",
       " 'election',\n",
       " 'produced',\n",
       " '``',\n",
       " 'no',\n",
       " 'evidence',\n",
       " \"''\",\n",
       " 'that',\n",
       " 'any',\n",
       " 'irregularities',\n",
       " 'took',\n",
       " 'place',\n",
       " '.']"
      ]
     },
     "execution_count": 5,
     "metadata": {},
     "output_type": "execute_result"
    }
   ],
   "source": [
    "brown.sents('ca01')[0]"
   ]
  },
  {
   "cell_type": "markdown",
   "metadata": {
    "id": "c1rg4JBW020n"
   },
   "source": [
    "Compile a list of most popular words in the corpus\n",
    "\n",
    "Takes a bunch of tokens and returns the frequencies of all unique cases."
   ]
  },
  {
   "cell_type": "code",
   "execution_count": null,
   "metadata": {
    "id": "B6fiKm5u047P"
   },
   "outputs": [],
   "source": [
    "# Check if the word is alphabetical avoids including stuff like `` and '' which are actually pretty common. \n",
    "# Note that it also omits words such as 1 (very common), aug., 1913, $30, 13th, over-all etc. Another option would have been .isalnum().\n",
    "words_in_corpora = FreqDist(w.lower() for w in brown.words() if w.isalpha()) \n",
    "#words_in_corpora"
   ]
  },
  {
   "cell_type": "markdown",
   "metadata": {
    "id": "QcxK8N3Bffnl"
   },
   "source": [
    "Use this instead of sorted() to sort dictionary into a (mutable) list in order to delete the second column as opposed to into a tuple (immutable).\n"
   ]
  },
  {
   "cell_type": "code",
   "execution_count": null,
   "metadata": {
    "id": "mZJxzbwW1FpR"
   },
   "outputs": [],
   "source": [
    "words_in_corpora_freq_sorted = list(map(list, words_in_corpora.items()))\n",
    "#words_in_corpora_freq_sorted"
   ]
  },
  {
   "cell_type": "markdown",
   "metadata": {
    "id": "phNhzkhDfjUT"
   },
   "source": [
    "Sort words in corpus based on frequency"
   ]
  },
  {
   "cell_type": "code",
   "execution_count": null,
   "metadata": {
    "id": "sYXSGlC71Si1"
   },
   "outputs": [],
   "source": [
    "words_in_corpora_freq_sorted.sort(key=lambda x: x[1], reverse=True) # Using a lambda function is an alternative to using the operator library.\n",
    "words_in_corpora_freq_sorted"
   ]
  },
  {
   "cell_type": "markdown",
   "metadata": {
    "id": "YsKiguyaflUr"
   },
   "source": [
    "Put 1500 most frequent words in list into variable and delete word count (list item 1)\n"
   ]
  },
  {
   "cell_type": "code",
   "execution_count": null,
   "metadata": {
    "id": "E4PU67jv1XVE"
   },
   "outputs": [],
   "source": [
    "best1500 = words_in_corpora_freq_sorted[:1500]\n",
    "\n",
    "for list_item in best1500:\n",
    "    del list_item[1]\n",
    "\n",
    "#best1500"
   ]
  },
  {
   "cell_type": "markdown",
   "metadata": {
    "id": "1BbKRgcRfyK1"
   },
   "source": [
    "Since best1500 is now a list of words, it should be flattened. \n",
    "\n",
    "Break down the list into its individual sublists and then chain them. \n",
    "\n",
    "Chain further breaks down each sublist into its individual components so this approach can be used to flatten any list of lists."
   ]
  },
  {
   "cell_type": "code",
   "execution_count": null,
   "metadata": {
    "id": "EFAxauxc1ioy"
   },
   "outputs": [],
   "source": [
    "chain = itertools.chain(*best1500) \n",
    "best1500 = list(chain) # chain is of type itertools.chain so we need the cast\n",
    "#best1500"
   ]
  },
  {
   "cell_type": "markdown",
   "metadata": {
    "id": "qVwANZqhf7dI"
   },
   "source": [
    "Receives a list of words and removes stop words from list"
   ]
  },
  {
   "cell_type": "code",
   "execution_count": null,
   "metadata": {
    "id": "j096l7hX1uFD"
   },
   "outputs": [],
   "source": [
    "stopw = stopwords.words('english')\n",
    "\n",
    "def nonstop(listwords):\n",
    "    return [word for word in listwords if word not in stopw]\n",
    "\n",
    "best1500_words_corpora = nonstop(best1500) # Note how this will probably contain less than 1500 words.\n",
    "#best1500_words_corpora"
   ]
  },
  {
   "cell_type": "markdown",
   "metadata": {
    "id": "OV9lfJZL13cB"
   },
   "source": [
    "***Converting corpus to form suitable for classification:*** Each file in the corpus will eventually be represented by a dictionary showing the presence of the corpus’ most popular words in the particular file."
   ]
  },
  {
   "cell_type": "code",
   "execution_count": null,
   "metadata": {
    "id": "ZTPt6D6312cw"
   },
   "outputs": [],
   "source": [
    "# documents = [(nonstop(brown.words(fileid)), category) for category in brown.categories() for fileid in brown.fileids(category)]\n",
    "# documents # Note how documents is a list of tuples.\n",
    "\n",
    "# The code above generates a representation of the corpus but without removing punctuation. This is better:\n",
    "documents = [([item.lower() for item in nonstop(brown.words(fileid)) if item.isalpha()], category)\n",
    "             for category in brown.categories()\n",
    "             for fileid in brown.fileids(category)]\n",
    "documents # Note how documents is a list of tuples."
   ]
  },
  {
   "cell_type": "markdown",
   "metadata": {
    "id": "UzCvFVuhgBIn"
   },
   "source": [
    "Shuffle items in list of tuples"
   ]
  },
  {
   "cell_type": "code",
   "execution_count": null,
   "metadata": {
    "id": "GfZ4KzwM2KWM"
   },
   "outputs": [],
   "source": [
    "shuffle(documents)\n",
    "documents"
   ]
  },
  {
   "cell_type": "markdown",
   "metadata": {
    "id": "U-_m2i9ygCQQ"
   },
   "source": [
    "Given a document extract features (the presence or not of the 1500 most frequent words of the corpus)"
   ]
  },
  {
   "cell_type": "code",
   "execution_count": null,
   "metadata": {
    "id": "b94GlVcq2TFX"
   },
   "outputs": [],
   "source": [
    "def document_features(doc):\n",
    "    doc_set_words = set(doc) # Checking whether a word occurs in a set is much faster than checking whether it occurs in a list.\n",
    "    features_dic = {} # Features is a dictionary\n",
    "    for word in best1500_words_corpora:\n",
    "        features_dic['has(%s)' % word] = (word in doc_set_words)\n",
    "    return features_dic\n",
    "\n",
    "doc_features_set = [(document_features(d),c) for (d,c) in documents]\n",
    "doc_features_set[0]"
   ]
  },
  {
   "cell_type": "markdown",
   "metadata": {
    "id": "UoJRCaGG2gXF"
   },
   "source": [
    "Now build the classifer to determine what category documents fall into based on most frequent words"
   ]
  },
  {
   "cell_type": "code",
   "execution_count": null,
   "metadata": {
    "colab": {
     "base_uri": "https://localhost:8080/"
    },
    "id": "YIDW05Zx2oS0",
    "outputId": "0e060bbe-975c-43e9-e9a1-8d4ea07da3a2"
   },
   "outputs": [
    {
     "name": "stdout",
     "output_type": "stream",
     "text": [
      "Most Informative Features\n",
      "             has(walked) = True           myster : learne =     29.7 : 1.0\n",
      "              has(music) = True           review : learne =     28.9 : 1.0\n",
      "                has(ran) = True           advent : learne =     28.5 : 1.0\n",
      "          has(afternoon) = True           fictio : learne =     27.2 : 1.0\n",
      "               has(road) = True           myster : learne =     27.1 : 1.0\n",
      "            has(playing) = True           review : learne =     26.2 : 1.0\n",
      "                has(god) = True           religi : learne =     25.8 : 1.0\n",
      "                has(car) = True            humor : learne =     25.3 : 1.0\n",
      "               has(hair) = True           romanc : learne =     23.8 : 1.0\n",
      "              has(maybe) = True           romanc : learne =     23.8 : 1.0\n",
      "            has(watched) = True           advent : learne =     22.6 : 1.0\n",
      "            has(kitchen) = True            humor : belles =     22.4 : 1.0\n",
      "          has(communism) = True           editor : learne =     22.1 : 1.0\n",
      "             has(berlin) = True           editor : learne =     22.1 : 1.0\n",
      "           has(watching) = True           romanc : learne =     21.7 : 1.0\n"
     ]
    }
   ],
   "source": [
    "train_set = doc_features_set[:350] # Since the total is 500\n",
    "test_set  = doc_features_set[150:]\n",
    "\n",
    "classifier = NaiveBayesClassifier.train(train_set)\n",
    "classifier.show_most_informative_features(15)"
   ]
  },
  {
   "cell_type": "markdown",
   "metadata": {
    "id": "UW1mLxb1gE8Y"
   },
   "source": [
    "Get accuracy of classifier"
   ]
  },
  {
   "cell_type": "code",
   "execution_count": null,
   "metadata": {
    "colab": {
     "base_uri": "https://localhost:8080/"
    },
    "id": "5nzpfE_12uL8",
    "outputId": "42a60d0b-5964-4208-ff7f-50e4874263bc"
   },
   "outputs": [
    {
     "name": "stdout",
     "output_type": "stream",
     "text": [
      "0.7371428571428571\n"
     ]
    }
   ],
   "source": [
    "print(accuracy(classifier, test_set))"
   ]
  },
  {
   "cell_type": "markdown",
   "metadata": {
    "id": "lYGTeBoLgGqB"
   },
   "source": [
    "Test classification of documet 'ca01' (it is under the 'news' category)"
   ]
  },
  {
   "cell_type": "code",
   "execution_count": null,
   "metadata": {
    "colab": {
     "base_uri": "https://localhost:8080/",
     "height": 35
    },
    "id": "kr1sLuUo20TW",
    "outputId": "780afe3a-af05-4be4-f98d-22b220fc3271"
   },
   "outputs": [
    {
     "data": {
      "application/vnd.google.colaboratory.intrinsic+json": {
       "type": "string"
      },
      "text/plain": [
       "'news'"
      ]
     },
     "execution_count": 19,
     "metadata": {},
     "output_type": "execute_result"
    }
   ],
   "source": [
    "classifier.classify(document_features(brown.words('ca01')))"
   ]
  },
  {
   "cell_type": "code",
   "execution_count": null,
   "metadata": {
    "id": "M-EMaQVd270T"
   },
   "outputs": [],
   "source": [
    "# The test text needs to be long enough in order to contain a significant amount of the 1500 most common words in our training corpus.\n",
    "text = \"1 God, infinitely perfect and blessed in himself, in a plan of sheer goodness freely created man to make him share in his own blessed life. For this reason, at every time and in every place, God draws close to man. He calls man to seek him, to know him, to love him with all his strength. He calls together all men, scattered and divided by sin, into the unity of his family, the Church. To accomplish this, when the fullness of time had come, God sent his Son as Redeemer and Saviour. In his Son and through him, he invites men to become, in the Holy Spirit, his adopted children and thus heirs of his blessed life. 2 So that this call should resound throughout the world, Christ sent forth the apostles he had chosen, commissioning them to proclaim the gospel: \\\"Go therefore and make disciples of all nations, baptizing them in the name of the Father and of the Son and of the Holy Spirit, teaching them to observe all that I have commanded you; and lo, I am with you always, to the close of the age.\\\"4 Strengthened by this mission, the apostles \\\"went forth and preached everywhere, while the Lord worked with them and confirmed the message by the signs that attended it.\\\" 3 Those who with God's help have welcomed Christ's call and freely responded to it are urged on by love of Christ to proclaim the Good News everywhere in the world. This treasure, received from the apostles, has been faithfully guarded by their successors. All Christ's faithful are called to hand it on from generation to generation, by professing the faith, by living it in fraternal sharing, and by celebrating it in liturgy and prayer. 4 Quite early on, the name catechesis was given to the totality of the Church's efforts to make disciples, to help men believe that Jesus is the Son of God so that believing they might have life in his name, and to educate and instruct them in this life, thus building up the body of Christ. Catechesis is an education in the faith of children, young people and adults which includes especially the teaching of Christian doctrine imparted, generally speaking, in an organic and systematic way, with a view to initiating the hearers into the fullness of Christian life. While not being formally identified with them, catechesis is built on a certain number of elements of the Church's pastoral mission which have a catechetical aspect, that prepare for catechesis, or spring from it. They are: the initial proclamation of the Gospel or missionary preaching to arouse faith; examination of the reasons for belief; experience of Christian living; celebration of the sacraments; integration into the ecclesial community; and apostolic and missionary witness. Catechesis is intimately bound up with the whole of the Church's life. Not only her geographical extension and numerical increase, but even more her inner growth and correspondence with God's plan depend essentially on catechesis. Periods of renewal in the Church are also intense moments of catechesis. In the great era of the Fathers of the Church, saintly bishops devoted an important part of their ministry to catechesis. St. Cyril of Jerusalem and St. John Chrysostom, St. Ambrose and St. Augustine, and many other Fathers wrote catechetical works that remain models for us. The ministry of catechesis draws ever fresh energy from the councils. the Council of Trent is a noteworthy example of this. It gave catechesis priority in its constitutions and decrees. It lies at the origin of the Roman Catechism, which is also known by the name of that council and which is a work of the first rank as a summary of Christian teaching. The Council of Trent initiated a remarkable organization of the Church's catechesis. Thanks to the work of holy bishops and theologians such as St. Peter Canisius, St. Charles Borromeo, St. Turibius of Mongrovejo or St. Robert Bellarmine, it occasioned the publication of numerous catechisms. It is therefore no surprise that catechesis in the Church has again attracted attention in the wake of the Second Vatican Council, which Pope Paul Vl considered the great catechism of modern times. the General Catechetical Directory (1971) the sessions of the Synod of Bishops devoted to evangelization (1974) and catechesis (1977), the apostolic exhortations Evangelii nuntiandi (1975) and Catechesi tradendae (1979), attest to this. the Extraordinary Synod of Bishops in 1985 asked that a catechism or compendium of all Catholic doctrine regarding both faith and morals be composed. The Holy Father, Pope John Paul II, made the Synod's wish his own, acknowledging that this desire wholly corresponds to a real need of the universal Church and of the particular Churches. He set in motion everything needed to carry out the Synod Fathers' wish.\"\n",
    "\n",
    "tokenizer = RegexpTokenizer(r'\\w+') # Picks out sequences of alphanumeric characters as tokens and drops everything else\n",
    "text_tokens = nonstop(tokenizer.tokenize(text.lower()))\n",
    "text_tokens = [w for w in text_tokens if w.isalpha()]\n",
    "#text_tokens"
   ]
  },
  {
   "cell_type": "markdown",
   "metadata": {
    "id": "ZlOQHMLAgTNJ"
   },
   "source": [
    "Determine whether list of tokens contain most frequent words set above"
   ]
  },
  {
   "cell_type": "code",
   "execution_count": null,
   "metadata": {
    "id": "IzMMcZ9T3CBf"
   },
   "outputs": [],
   "source": [
    "text_features = document_features(text_tokens)\n",
    "#text_features"
   ]
  },
  {
   "cell_type": "markdown",
   "metadata": {
    "id": "aD_NtICOgV1I"
   },
   "source": [
    "Classifies new document based on presence of frequent words in brown corpus categories"
   ]
  },
  {
   "cell_type": "code",
   "execution_count": null,
   "metadata": {
    "colab": {
     "base_uri": "https://localhost:8080/",
     "height": 35
    },
    "id": "JcWp17aY3LzC",
    "outputId": "ec23b1fe-2215-4643-ec91-e72dc8334177"
   },
   "outputs": [
    {
     "data": {
      "application/vnd.google.colaboratory.intrinsic+json": {
       "type": "string"
      },
      "text/plain": [
       "'belles_lettres'"
      ]
     },
     "execution_count": 32,
     "metadata": {},
     "output_type": "execute_result"
    }
   ],
   "source": [
    "classifier.classify(document_features(text_tokens))"
   ]
  },
  {
   "cell_type": "markdown",
   "metadata": {
    "id": "Bbr0cfEraN10"
   },
   "source": [
    "###Intro to Sentiment Analysis"
   ]
  },
  {
   "cell_type": "markdown",
   "metadata": {
    "id": "NyovRjxyaevV"
   },
   "source": [
    "Sentiment analysis is the practice of using algorithms to classify various samples of related text into overall positive and negative categories. With NLTK, you can employ these algorithms through powerful built-in machine learning operations to obtain insights from linguistic data.\n",
    "\n",
    "Based on [Exercise B: Sentiment Analysis in Natural Language Processing with Python/NLTK by Luciano M. Guasco](https://github.com/luchux/ipython-notebook-nltk/blob/master/NLP%20-%20MelbDjango.ipynb)"
   ]
  },
  {
   "cell_type": "markdown",
   "metadata": {
    "id": "DvYftuKwaxDd"
   },
   "source": [
    "**Step 1: Explore the movie_reviews corpus**"
   ]
  },
  {
   "cell_type": "markdown",
   "metadata": {
    "id": "V0Nx_mEsbVKb"
   },
   "source": [
    "Clean spacing from NLTK movie reviews corpus"
   ]
  },
  {
   "cell_type": "code",
   "execution_count": null,
   "metadata": {
    "colab": {
     "base_uri": "https://localhost:8080/",
     "height": 174
    },
    "id": "X3Qsvmn0aGiT",
    "outputId": "066a5646-9e13-4ee8-c5d4-157ae2f74dfb"
   },
   "outputs": [
    {
     "name": "stdout",
     "output_type": "stream",
     "text": [
      "[nltk_data] Downloading package movie_reviews to /root/nltk_data...\n",
      "[nltk_data]   Unzipping corpora/movie_reviews.zip.\n"
     ]
    },
    {
     "data": {
      "application/vnd.google.colaboratory.intrinsic+json": {
       "type": "string"
      },
      "text/plain": [
       "'Sentiment Polarity Dataset Version 2.0 Bo Pang and Lillian Lee  http://www.cs.cornell.edu/people/pabo/movie-review-data/  Distributed with NLTK with permission from the authors.  =======  Introduction  This README v2.0 (June, 2004) for the v2.0 polarity dataset comes from the URL http://www.cs.cornell.edu/people/pabo/movie-review-data .  =======  What\\'s New -- June, 2004  This dataset represents an enhancement of the review corpus v1.0 described in README v1.1: it contains more reviews, and labels were created with an improved rating-extraction system.  =======  Citation Info   This data was first used in Bo Pang and Lillian Lee, \"A Sentimental Education: Sentiment Analysis Using Subjectivity Summarization  Based on Minimum Cuts\",  Proceedings of the ACL, 2004.  @InProceedings{Pang+Lee:04a,   author =       {Bo Pang and Lillian Lee},   title =        {A Sentimental Education: Sentiment Analysis Using Subjectivity Summarization Based on Minimum Cuts},   booktitle =    \"Proceedings of the ACL\",   year =         2004 }  =======  Data Format Summary   - review_polarity.tar.gz: contains this readme and  data used in   the experiments described in Pang/Lee ACL 2004.    Specifically:    Within the folder \"txt_sentoken\" are the 2000 processed down-cased   text files used in Pang/Lee ACL 2004; the names of the two   subdirectories in that folder, \"pos\" and \"neg\", indicate the true   classification (sentiment) of the component files according to our   automatic rating classifier (see section \"Rating Decision\" below).    File names consist of a cross-validation tag plus the name of the   original html file.  The ten folds used in the Pang/Lee ACL 2004 paper\\'s   experiments were:       fold 1: files tagged cv000 through cv099, in numerical order      fold 2: files tagged cv100 through cv199, in numerical order           ...      fold 10: files tagged cv900 through cv999, in numerical order    Hence, the file neg/cv114_19501.txt, for example, was labeled as   negative, served as a member of fold 2, and was extracted from the   file 19501.html in polarity_html.zip (see below).    Each line in each text file corresponds to a single sentence, as   determined by Adwait Ratnaparkhi\\'s sentence boundary detector   MXTERMINATOR.     Preliminary steps were taken to remove rating information from the   text files, but only the rating information upon which the rating   decision was based is guaranteed to have been removed. Thus, if the   original review contains several instances of rating information,   potentially given in different forms, those not recognized as valid   ratings remain part of the review text.  - polarity_html.zip: The original source files from which the   processed, labeled, and (randomly) selected data in   review_polarity.tar.gz was derived.    Specifically:      This data consists of unprocessed, unlabeled html files from the   IMDb archive of the rec.arts.movies.reviews newsgroup,   http://reviews.imdb.com/Reviews. The files in review_polarity.tar.gz   represent a processed subset of these files.   =======  Rating Decision (Appendix A)  This section describes how we determined whether a review was positive or negative.  The original html files do not have consistent formats -- a review may not have the author\\'s rating with it, and when it does, the rating can appear at different places in the file in different forms.  We only recognize some of the more explicit ratings, which are extracted via a set of ad-hoc rules.  In essence, a file\\'s classification is determined based on the first rating we were able to identify.   - In order to obtain more accurate rating decisions, the maximum rating must be specified explicitly, both for numerical ratings and star ratings.  (\"8/10\", \"four out of five\", and \"OUT OF ****: ***\" are examples of rating indications we recognize.)  - With a five-star system (or compatible number systems): three-and-a-half stars and up are considered positive,  two stars and below are considered negative. - With a four-star system (or compatible number system): three stars and up are considered positive,  one-and-a-half stars and below are considered negative.   - With a letter grade system: B or above is considered positive, C- or below is considered negative.  We attempted to recognize half stars, but they are specified in an especially free way, which makes them difficult to recognize.  Hence, we may lose a half star very occasionally; but this only results in 2.5 stars in five star system being categorized as negative, which is  still reasonable.   '"
      ]
     },
     "execution_count": 2,
     "metadata": {},
     "output_type": "execute_result"
    }
   ],
   "source": [
    "movie_reviews.readme().replace('\\n', ' ').replace('\\t', '').replace('``', '\"').replace(\"''\", '\"').replace('`', \"'\")"
   ]
  },
  {
   "cell_type": "markdown",
   "metadata": {
    "id": "Pr30athMbfr0"
   },
   "source": [
    "If you want, you can print the file ids from movie_reviews; it generates a very long list. But you can see the structure of the ids and how the label includes \"pos\" or \"neg\""
   ]
  },
  {
   "cell_type": "code",
   "execution_count": null,
   "metadata": {
    "id": "lUszG-ZZbgCK"
   },
   "outputs": [],
   "source": [
    "#movie_reviews.fileids()"
   ]
  },
  {
   "cell_type": "markdown",
   "metadata": {
    "id": "0ucelACgcPtz"
   },
   "source": [
    "To determine how many movie reviews are in the corpus, print the length of the list of file ids"
   ]
  },
  {
   "cell_type": "code",
   "execution_count": null,
   "metadata": {
    "colab": {
     "base_uri": "https://localhost:8080/"
    },
    "id": "S6YFBq_EcVXu",
    "outputId": "946b0f23-d98e-485d-d25d-94f84862845c"
   },
   "outputs": [
    {
     "data": {
      "text/plain": [
       "2000"
      ]
     },
     "execution_count": 7,
     "metadata": {},
     "output_type": "execute_result"
    }
   ],
   "source": [
    "len(movie_reviews.fileids())"
   ]
  },
  {
   "cell_type": "markdown",
   "metadata": {
    "id": "Gzrs1XiCcaNH"
   },
   "source": [
    "Here's an additional cleaning trick to get rid of \\' in text - but only if there were no \" used. See how it works with just one file."
   ]
  },
  {
   "cell_type": "code",
   "execution_count": null,
   "metadata": {
    "id": "7atoJ3dEcYGv"
   },
   "outputs": [],
   "source": [
    "movie_reviews.raw(\"neg/cv000_29416.txt\").replace(\"\\n\", \"\").replace(\"'\", '\"').replace('\"', \"'\") "
   ]
  },
  {
   "cell_type": "markdown",
   "metadata": {
    "id": "LpekNwyLc55v"
   },
   "source": [
    "**Step 2: Building and testing the classifier**"
   ]
  },
  {
   "cell_type": "markdown",
   "metadata": {
    "id": "xDZrX3P9dSXq"
   },
   "source": [
    "Before building the classifier, you'll want to generate a list of stopwords which will NOT be considered when making lists of positive and negative words. We'll import English stopwords from NLTK and put them in \"stops,\" then add additional features we don't want to include in classification using stops.extend. To see check full list of stopwords, print stops."
   ]
  },
  {
   "cell_type": "code",
   "execution_count": null,
   "metadata": {
    "colab": {
     "base_uri": "https://localhost:8080/"
    },
    "id": "C7oDaru7dqA7",
    "outputId": "45042f4e-d5cf-4afc-ec73-9f4f5da859c4"
   },
   "outputs": [
    {
     "name": "stdout",
     "output_type": "stream",
     "text": [
      "[nltk_data] Downloading package stopwords to /root/nltk_data...\n",
      "[nltk_data]   Package stopwords is already up-to-date!\n"
     ]
    }
   ],
   "source": [
    "stops = stopwords.words('english')\n",
    "stops.extend('.,[,],(,),;,/,-,\\',?,\",:,<,>,n\\'t,|,#,\\'s,\\\",\\'re,\\'ve,\\'ll,\\'d,\\'re'.split(','))\n",
    "stops.extend(',')\n",
    "#stops"
   ]
  },
  {
   "cell_type": "markdown",
   "metadata": {
    "id": "tVFeM1Azd7L3"
   },
   "source": [
    "We'll work with the NaiveBayes Classifier. Learn more about Naive Bayes [here](https://www.analyticsvidhya.com/blog/2021/01/a-guide-to-the-naive-bayes-algorithm/). "
   ]
  },
  {
   "cell_type": "markdown",
   "metadata": {
    "id": "Rv2kNMtEeWww"
   },
   "source": [
    "Define a function which, given a word, returns a dict `{word: True}.` This will be our feature in the classifier. "
   ]
  },
  {
   "cell_type": "code",
   "execution_count": null,
   "metadata": {
    "id": "tSikwcVCeWI1"
   },
   "outputs": [],
   "source": [
    "def word_feats(words):\n",
    "    return dict([(word, True) for word in words if word not in stops and word.isalpha()])"
   ]
  },
  {
   "cell_type": "markdown",
   "metadata": {
    "id": "RFhcNDA_e-4n"
   },
   "source": [
    "Create new variables for all positive and all negative movie reviews and get combined length (should be same as  length of original file ids list)."
   ]
  },
  {
   "cell_type": "code",
   "execution_count": null,
   "metadata": {
    "colab": {
     "base_uri": "https://localhost:8080/"
    },
    "id": "-pcNw3kGe-gL",
    "outputId": "8593a121-3b63-4749-9e49-a83321d8b998"
   },
   "outputs": [
    {
     "data": {
      "text/plain": [
       "2000"
      ]
     },
     "execution_count": 16,
     "metadata": {},
     "output_type": "execute_result"
    }
   ],
   "source": [
    "pos_ids = movie_reviews.fileids('pos')\n",
    "neg_ids = movie_reviews.fileids('neg')\n",
    "\n",
    "len(pos_ids) + len(neg_ids) "
   ]
  },
  {
   "cell_type": "markdown",
   "metadata": {
    "id": "IrrKfwbifS2X"
   },
   "source": [
    "We take the positive/negative words, create the feature for such words, and store it in a positive/negative features list. You can print pos_feats to check list of words has loaded correctly; it will print VERY long list, since it will include words from every positive review.\n"
   ]
  },
  {
   "cell_type": "code",
   "execution_count": null,
   "metadata": {
    "id": "qZTBXV8vfTBZ"
   },
   "outputs": [],
   "source": [
    "pos_feats = [(word_feats(movie_reviews.words(fileids=[f])), 'pos') for f in pos_ids]\n",
    "neg_feats = [(word_feats(movie_reviews.words(fileids=[f])), 'neg') for f in neg_ids]\n",
    "\n",
    "#pos_feats"
   ]
  },
  {
   "cell_type": "markdown",
   "metadata": {
    "id": "IMtJeNTjgNCz"
   },
   "source": [
    "Store 3/4 of features for training the classifier and check length of positive training features. "
   ]
  },
  {
   "cell_type": "code",
   "execution_count": null,
   "metadata": {
    "colab": {
     "base_uri": "https://localhost:8080/"
    },
    "id": "R_7g_OV6gOFl",
    "outputId": "6a312f4e-2cc8-4b54-b1f6-d0a06d4db5b9"
   },
   "outputs": [
    {
     "data": {
      "text/plain": [
       "750"
      ]
     },
     "execution_count": 18,
     "metadata": {},
     "output_type": "execute_result"
    }
   ],
   "source": [
    "pos_len_train = int(len(pos_feats) * 3 / 4)\n",
    "neg_len_train = int(len(neg_feats) * 3 / 4)\n",
    "\n",
    "pos_len_train"
   ]
  },
  {
   "cell_type": "markdown",
   "metadata": {
    "id": "FvC41GKMgbXJ"
   },
   "source": [
    "Combine positive and negative training features into one set and put the rest in \"test features\" "
   ]
  },
  {
   "cell_type": "code",
   "execution_count": null,
   "metadata": {
    "id": "cokZ_I7igacQ"
   },
   "outputs": [],
   "source": [
    "train_feats = neg_feats[:neg_len_train] + pos_feats[:pos_len_train]\n",
    "test_feats = neg_feats[neg_len_train:] + pos_feats[pos_len_train:]"
   ]
  },
  {
   "cell_type": "markdown",
   "metadata": {
    "id": "TmfvBYSAgjkp"
   },
   "source": [
    "Train a NaiveBayesClassifier with our training feature words."
   ]
  },
  {
   "cell_type": "code",
   "execution_count": null,
   "metadata": {
    "id": "_ODzgc6cgjHQ"
   },
   "outputs": [],
   "source": [
    "classifier = NaiveBayesClassifier.train(train_feats)"
   ]
  },
  {
   "cell_type": "markdown",
   "metadata": {
    "id": "lBzproVxgonT"
   },
   "source": [
    "Get accuracy of the classifier we have just trained."
   ]
  },
  {
   "cell_type": "code",
   "execution_count": null,
   "metadata": {
    "colab": {
     "base_uri": "https://localhost:8080/"
    },
    "id": "jAnPOblEgovV",
    "outputId": "7f38200a-34ad-4c21-ae23-fbbea4a77499"
   },
   "outputs": [
    {
     "name": "stdout",
     "output_type": "stream",
     "text": [
      "Accuracy:  0.712\n"
     ]
    }
   ],
   "source": [
    "print('Accuracy: ', nltk.classify.util.accuracy(classifier, test_feats))"
   ]
  },
  {
   "cell_type": "markdown",
   "metadata": {
    "id": "FQIFYUr_gu3S"
   },
   "source": [
    "We can see which words fit best in each class by getting the classifier's most informative features. "
   ]
  },
  {
   "cell_type": "code",
   "execution_count": null,
   "metadata": {
    "colab": {
     "base_uri": "https://localhost:8080/"
    },
    "id": "b0ZeR30Wgu9x",
    "outputId": "5fe079a8-a8d6-4c3c-9d09-d3de0023e694"
   },
   "outputs": [
    {
     "name": "stdout",
     "output_type": "stream",
     "text": [
      "Most Informative Features\n",
      "             magnificent = True              pos : neg    =     15.0 : 1.0\n",
      "             outstanding = True              pos : neg    =     13.6 : 1.0\n",
      "               insulting = True              neg : pos    =     13.0 : 1.0\n",
      "              vulnerable = True              pos : neg    =     12.3 : 1.0\n",
      "               ludicrous = True              neg : pos    =     11.8 : 1.0\n",
      "                  avoids = True              pos : neg    =     11.7 : 1.0\n",
      "             uninvolving = True              neg : pos    =     11.7 : 1.0\n",
      "              astounding = True              pos : neg    =     10.3 : 1.0\n",
      "             fascination = True              pos : neg    =     10.3 : 1.0\n",
      "                 idiotic = True              neg : pos    =      9.8 : 1.0\n"
     ]
    }
   ],
   "source": [
    "classifier.show_most_informative_features()"
   ]
  },
  {
   "cell_type": "markdown",
   "metadata": {
    "id": "OqYtDEXkg7MW"
   },
   "source": [
    "**Step 3: Classifying new data**"
   ]
  },
  {
   "cell_type": "markdown",
   "metadata": {
    "id": "QtIJfk7-hEU_"
   },
   "source": [
    "Add a new sentence to test our classifier and tokenize it, adding features to tokens that are NOT in \"stops\" we defined above."
   ]
  },
  {
   "cell_type": "code",
   "execution_count": null,
   "metadata": {
    "colab": {
     "base_uri": "https://localhost:8080/"
    },
    "id": "ORWI_qhUhD3j",
    "outputId": "b08327f7-37c0-4f2a-eabf-06368ef195d1"
   },
   "outputs": [
    {
     "name": "stdout",
     "output_type": "stream",
     "text": [
      "[nltk_data] Downloading package punkt to /root/nltk_data...\n",
      "[nltk_data]   Unzipping tokenizers/punkt.zip.\n"
     ]
    },
    {
     "data": {
      "text/plain": [
       "['I', 'feel', 'miserable', 'makes', 'amazing']"
      ]
     },
     "execution_count": 25,
     "metadata": {},
     "output_type": "execute_result"
    }
   ],
   "source": [
    "sentence = \"I feel so miserable, it makes me amazing\"\n",
    "tokens = [word for word in word_tokenize(sentence) if word not in stops]\n",
    "tokens"
   ]
  },
  {
   "cell_type": "markdown",
   "metadata": {
    "id": "DnsXTKNPhZuR"
   },
   "source": [
    "Make tokens into features using word_feats function defined above."
   ]
  },
  {
   "cell_type": "code",
   "execution_count": null,
   "metadata": {
    "colab": {
     "base_uri": "https://localhost:8080/"
    },
    "id": "obKYKmY1hZ1h",
    "outputId": "c297149d-1bad-43e5-e5ea-b752157e236a"
   },
   "outputs": [
    {
     "data": {
      "text/plain": [
       "{'I': True, 'amazing': True, 'feel': True, 'makes': True, 'miserable': True}"
      ]
     },
     "execution_count": 27,
     "metadata": {},
     "output_type": "execute_result"
    }
   ],
   "source": [
    "feats = word_feats(word for word in tokens)\n",
    "feats"
   ]
  },
  {
   "cell_type": "markdown",
   "metadata": {
    "id": "wk-DyJoGhzsf"
   },
   "source": [
    "Use classifier to classify new sentence as either positive or negative. The result may not be what you expect!"
   ]
  },
  {
   "cell_type": "code",
   "execution_count": null,
   "metadata": {
    "colab": {
     "base_uri": "https://localhost:8080/",
     "height": 35
    },
    "id": "aYV-7yIZhy2l",
    "outputId": "195eb0bb-0d23-411c-ef45-ced21561f3f1"
   },
   "outputs": [
    {
     "data": {
      "application/vnd.google.colaboratory.intrinsic+json": {
       "type": "string"
      },
      "text/plain": [
       "'pos'"
      ]
     },
     "execution_count": 28,
     "metadata": {},
     "output_type": "execute_result"
    }
   ],
   "source": [
    "classifier.classify(feats)"
   ]
  },
  {
   "cell_type": "markdown",
   "metadata": {
    "id": "7hyPwIASiAQJ"
   },
   "source": [
    "Try classifying another sentence - go through the same tokenizing process."
   ]
  },
  {
   "cell_type": "code",
   "execution_count": null,
   "metadata": {
    "colab": {
     "base_uri": "https://localhost:8080/"
    },
    "id": "8I3Ci43UiAah",
    "outputId": "222bf238-cfb5-49d4-feb7-f2d8763da2c9"
   },
   "outputs": [
    {
     "data": {
      "text/plain": [
       "['You', 'pathetic', 'fool', 'terrible', 'excuse', 'human']"
      ]
     },
     "execution_count": 30,
     "metadata": {},
     "output_type": "execute_result"
    }
   ],
   "source": [
    "sentence2 = \"You are a pathetic fool, a terrible excuse for a human being.\"\n",
    "tokens2 = [word for word in word_tokenize(sentence2) if word not in stops]\n",
    "tokens2"
   ]
  },
  {
   "cell_type": "markdown",
   "metadata": {
    "id": "NO2dphAviilC"
   },
   "source": [
    "Load tokens into new variable - instead of retaining all tokens, just capture the adjectives using `if pos[] == JJ`"
   ]
  },
  {
   "cell_type": "code",
   "execution_count": null,
   "metadata": {
    "colab": {
     "base_uri": "https://localhost:8080/"
    },
    "id": "MxAhIxPBiMXG",
    "outputId": "6ccb05f2-0955-4fae-baa8-9ba2c9667c9b"
   },
   "outputs": [
    {
     "name": "stdout",
     "output_type": "stream",
     "text": [
      "[nltk_data] Downloading package averaged_perceptron_tagger to\n",
      "[nltk_data]     /root/nltk_data...\n",
      "[nltk_data]   Unzipping taggers/averaged_perceptron_tagger.zip.\n"
     ]
    },
    {
     "data": {
      "text/plain": [
       "[('pathetic', 'JJ'), ('terrible', 'JJ')]"
      ]
     },
     "execution_count": 32,
     "metadata": {},
     "output_type": "execute_result"
    }
   ],
   "source": [
    "pos_tags2 = [pos for pos in pos_tag(tokens2) if pos[1] == 'JJ']\n",
    "pos_tags2"
   ]
  },
  {
   "cell_type": "markdown",
   "metadata": {
    "id": "AoZcDaGqjEgJ"
   },
   "source": [
    "Put reduced list of tokens into variable for classificaiton"
   ]
  },
  {
   "cell_type": "code",
   "execution_count": null,
   "metadata": {
    "colab": {
     "base_uri": "https://localhost:8080/"
    },
    "id": "XDO4_fJcjFFo",
    "outputId": "98b3ea67-e9d2-4449-889e-aa67659a8877"
   },
   "outputs": [
    {
     "data": {
      "text/plain": [
       "{'pathetic': True, 'terrible': True}"
      ]
     },
     "execution_count": 33,
     "metadata": {},
     "output_type": "execute_result"
    }
   ],
   "source": [
    "feats2 = word_feats([word for (word,_) in pos_tags2])\n",
    "feats2"
   ]
  },
  {
   "cell_type": "markdown",
   "metadata": {
    "id": "cc61rB-WiLYI"
   },
   "source": [
    "Use classifier to classify new sentence as either positive or negative."
   ]
  },
  {
   "cell_type": "code",
   "execution_count": null,
   "metadata": {
    "colab": {
     "base_uri": "https://localhost:8080/",
     "height": 35
    },
    "id": "OEAYqGgkjMb4",
    "outputId": "cc935e48-b730-4a34-da40-954588ee7ded"
   },
   "outputs": [
    {
     "data": {
      "application/vnd.google.colaboratory.intrinsic+json": {
       "type": "string"
      },
      "text/plain": [
       "'neg'"
      ]
     },
     "execution_count": 34,
     "metadata": {},
     "output_type": "execute_result"
    }
   ],
   "source": [
    "classifier.classify(feats2)"
   ]
  },
  {
   "cell_type": "markdown",
   "metadata": {
    "id": "QzR7R_NhjTOC"
   },
   "source": [
    "**Step 4: Incorporating bigram features**\n",
    "In order to improve the classifier, bigram features can be examined using `nltk.util.ngrams`. This is because, for instance, 'not funny' is very different from 'funny'."
   ]
  },
  {
   "cell_type": "markdown",
   "metadata": {
    "id": "COYEfQzej8-h"
   },
   "source": [
    "###Sentiment Analysis with `nltk.sentiment.SentimentAnalyzer` and VADER tools"
   ]
  },
  {
   "cell_type": "markdown",
   "metadata": {
    "id": "HHAKVRRnlGxq"
   },
   "source": [
    "***Step 1: Exploring the `subjectivity` corpus***\n",
    "\n",
    "The Subjectivity Dataset contains 5000 subjective and 5000 objective processed sentences. Learn more about the subjectivity corpus [here](https://www.nltk.org/howto/corpus.html).\n",
    "\n",
    "From the NLTK subjectivity corpus, get the file ids."
   ]
  },
  {
   "cell_type": "code",
   "execution_count": null,
   "metadata": {
    "colab": {
     "base_uri": "https://localhost:8080/"
    },
    "id": "dQ6vs51Tj8F_",
    "outputId": "01c93ac4-ecfc-4560-e115-cf8d0cf8a6e7"
   },
   "outputs": [
    {
     "name": "stdout",
     "output_type": "stream",
     "text": [
      "[nltk_data] Downloading package subjectivity to /root/nltk_data...\n",
      "[nltk_data]   Package subjectivity is already up-to-date!\n"
     ]
    },
    {
     "data": {
      "text/plain": [
       "['plot.tok.gt9.5000', 'quote.tok.gt9.5000']"
      ]
     },
     "execution_count": 21,
     "metadata": {},
     "output_type": "execute_result"
    }
   ],
   "source": [
    "subjectivity.fileids()"
   ]
  },
  {
   "cell_type": "markdown",
   "metadata": {
    "id": "bbPO1cNqmD_5"
   },
   "source": [
    "Get tokens in plot.tok file"
   ]
  },
  {
   "cell_type": "code",
   "execution_count": null,
   "metadata": {
    "colab": {
     "base_uri": "https://localhost:8080/"
    },
    "id": "-OvcGQBpmE5T",
    "outputId": "dc348af1-9a46-49cd-c84d-a543818e4ddc"
   },
   "outputs": [
    {
     "data": {
      "text/plain": [
       "[['the', 'movie', 'begins', 'in', 'the', 'past', 'where', 'a', 'young', 'boy', 'named', 'sam', 'attempts', 'to', 'save', 'celebi', 'from', 'a', 'hunter', '.'], ['emerging', 'from', 'the', 'human', 'psyche', 'and', 'showing', 'characteristics', 'of', 'abstract', 'expressionism', ',', 'minimalism', 'and', 'russian', 'constructivism', ',', 'graffiti', 'removal', 'has', 'secured', 'its', 'place', 'in', 'the', 'history', 'of', 'modern', 'art', 'while', 'being', 'created', 'by', 'artists', 'who', 'are', 'unconscious', 'of', 'their', 'artistic', 'achievements', '.'], ...]"
      ]
     },
     "execution_count": 22,
     "metadata": {},
     "output_type": "execute_result"
    }
   ],
   "source": [
    "subjectivity.sents('plot.tok.gt9.5000')"
   ]
  },
  {
   "cell_type": "markdown",
   "metadata": {
    "id": "BspFeKyCmomm"
   },
   "source": [
    "Get tokens in quote.tok file"
   ]
  },
  {
   "cell_type": "code",
   "execution_count": null,
   "metadata": {
    "colab": {
     "base_uri": "https://localhost:8080/"
    },
    "id": "kSZ_rKt8mvzk",
    "outputId": "fc29a2ca-68f7-4355-c2af-b5a827e9dbff"
   },
   "outputs": [
    {
     "data": {
      "text/plain": [
       "[['smart', 'and', 'alert', ',', 'thirteen', 'conversations', 'about', 'one', 'thing', 'is', 'a', 'small', 'gem', '.'], ['color', ',', 'musical', 'bounce', 'and', 'warm', 'seas', 'lapping', 'on', 'island', 'shores', '.', 'and', 'just', 'enough', 'science', 'to', 'send', 'you', 'home', 'thinking', '.'], ...]"
      ]
     },
     "execution_count": 23,
     "metadata": {},
     "output_type": "execute_result"
    }
   ],
   "source": [
    "subjectivity.sents('quote.tok.gt9.5000')"
   ]
  },
  {
   "cell_type": "markdown",
   "metadata": {
    "id": "MUq_FHPgmzcH"
   },
   "source": [
    "Retrieve the categories in subjectivity corpus (objective and subjective sentences)."
   ]
  },
  {
   "cell_type": "code",
   "execution_count": null,
   "metadata": {
    "colab": {
     "base_uri": "https://localhost:8080/"
    },
    "id": "iFSv2oNqmy5c",
    "outputId": "260e22f2-bb3b-46ef-9248-4651ecf2dccd"
   },
   "outputs": [
    {
     "data": {
      "text/plain": [
       "['obj', 'subj']"
      ]
     },
     "execution_count": 24,
     "metadata": {},
     "output_type": "execute_result"
    }
   ],
   "source": [
    "subjectivity.categories() # The mapping between documents and categories does not depend on the file structure."
   ]
  },
  {
   "cell_type": "markdown",
   "metadata": {
    "id": "CcnY55Pjnhsz"
   },
   "source": [
    "Get tokens in subjectivity that are categorized as \"objective\""
   ]
  },
  {
   "cell_type": "code",
   "execution_count": null,
   "metadata": {
    "colab": {
     "base_uri": "https://localhost:8080/"
    },
    "id": "IOTtbpLjnh2p",
    "outputId": "41ecd593-d959-4331-debb-facce1e8328a"
   },
   "outputs": [
    {
     "data": {
      "text/plain": [
       "[['the', 'movie', 'begins', 'in', 'the', 'past', 'where', 'a', 'young', 'boy', 'named', 'sam', 'attempts', 'to', 'save', 'celebi', 'from', 'a', 'hunter', '.'], ['emerging', 'from', 'the', 'human', 'psyche', 'and', 'showing', 'characteristics', 'of', 'abstract', 'expressionism', ',', 'minimalism', 'and', 'russian', 'constructivism', ',', 'graffiti', 'removal', 'has', 'secured', 'its', 'place', 'in', 'the', 'history', 'of', 'modern', 'art', 'while', 'being', 'created', 'by', 'artists', 'who', 'are', 'unconscious', 'of', 'their', 'artistic', 'achievements', '.'], ...]"
      ]
     },
     "execution_count": 25,
     "metadata": {},
     "output_type": "execute_result"
    }
   ],
   "source": [
    "subjectivity.sents(categories='obj')"
   ]
  },
  {
   "cell_type": "markdown",
   "metadata": {
    "id": "S-aYzaRQoOw3"
   },
   "source": [
    "Get tokens in subjectivity that are categorized as \"subjective\""
   ]
  },
  {
   "cell_type": "code",
   "execution_count": null,
   "metadata": {
    "colab": {
     "base_uri": "https://localhost:8080/"
    },
    "id": "J36LTi4PoO4b",
    "outputId": "81341808-62ea-46ee-d8d8-f31a5dc8d1d8"
   },
   "outputs": [
    {
     "data": {
      "text/plain": [
       "[['smart', 'and', 'alert', ',', 'thirteen', 'conversations', 'about', 'one', 'thing', 'is', 'a', 'small', 'gem', '.'], ['color', ',', 'musical', 'bounce', 'and', 'warm', 'seas', 'lapping', 'on', 'island', 'shores', '.', 'and', 'just', 'enough', 'science', 'to', 'send', 'you', 'home', 'thinking', '.'], ...]"
      ]
     },
     "execution_count": 26,
     "metadata": {},
     "output_type": "execute_result"
    }
   ],
   "source": [
    "subjectivity.sents(categories='subj')"
   ]
  },
  {
   "cell_type": "markdown",
   "metadata": {
    "id": "-kh_y5Sloiln"
   },
   "source": [
    "***Step 2: Building and testing a classifier with `SentimentAnalyzer`***"
   ]
  },
  {
   "cell_type": "markdown",
   "metadata": {
    "id": "_Ob_727eXrYQ"
   },
   "source": [
    "Set number of instances at 100; then create two new lists for objective and subjective docs and put sentences up to number of n_instancse (100) in each list. Each document is represented by a tuple (sentence, label). The sentence is tokenized, so it is represented by a list of strings.\n",
    "\n",
    "Print length of each list to check they both contain 100 sentences."
   ]
  },
  {
   "cell_type": "code",
   "execution_count": null,
   "metadata": {
    "colab": {
     "base_uri": "https://localhost:8080/"
    },
    "id": "6ifXBgMoXrja",
    "outputId": "2f39cea0-56df-428b-ab9d-463555fbba5f"
   },
   "outputs": [
    {
     "data": {
      "text/plain": [
       "(100, 100)"
      ]
     },
     "execution_count": 28,
     "metadata": {},
     "output_type": "execute_result"
    }
   ],
   "source": [
    "n_instances = 100\n",
    "obj_docs = [(sent, 'obj') for sent in subjectivity.sents(categories='obj')[:n_instances]]\n",
    "subj_docs = [(sent, 'subj') for sent in subjectivity.sents(categories='subj')[:n_instances]]\n",
    "len(obj_docs), len(subj_docs)"
   ]
  },
  {
   "cell_type": "markdown",
   "metadata": {
    "id": "r23Kr1xxYcjW"
   },
   "source": [
    "Print a sentence in obj_docs list to check:"
   ]
  },
  {
   "cell_type": "code",
   "execution_count": null,
   "metadata": {
    "colab": {
     "base_uri": "https://localhost:8080/"
    },
    "id": "U1idOEHVYcq3",
    "outputId": "ddfd78df-e00c-4942-d243-9f95ef07f87c"
   },
   "outputs": [
    {
     "data": {
      "text/plain": [
       "(['the',\n",
       "  'movie',\n",
       "  'begins',\n",
       "  'in',\n",
       "  'the',\n",
       "  'past',\n",
       "  'where',\n",
       "  'a',\n",
       "  'young',\n",
       "  'boy',\n",
       "  'named',\n",
       "  'sam',\n",
       "  'attempts',\n",
       "  'to',\n",
       "  'save',\n",
       "  'celebi',\n",
       "  'from',\n",
       "  'a',\n",
       "  'hunter',\n",
       "  '.'],\n",
       " 'obj')"
      ]
     },
     "execution_count": 29,
     "metadata": {},
     "output_type": "execute_result"
    }
   ],
   "source": [
    "obj_docs[0]"
   ]
  },
  {
   "cell_type": "markdown",
   "metadata": {
    "id": "2LfDV64CYj7L"
   },
   "source": [
    "Divde sentences into training and testing groups; first 80 sentences of each are for training, last 20 for testing. Split evenly for objective and subjective docs, then combine into two larger groups (all training and all testing)."
   ]
  },
  {
   "cell_type": "code",
   "execution_count": null,
   "metadata": {
    "id": "jg1aXbTsYkCg"
   },
   "outputs": [],
   "source": [
    "train_obj_docs = obj_docs[:80]\n",
    "test_obj_docs = obj_docs[80:100]\n",
    "train_subj_docs = subj_docs[:80]\n",
    "test_subj_docs = subj_docs[80:100]\n",
    "\n",
    "training_docs = train_obj_docs + train_subj_docs\n",
    "testing_docs = test_obj_docs + test_subj_docs"
   ]
  },
  {
   "cell_type": "markdown",
   "metadata": {
    "id": "cvg-fUBHY3sy"
   },
   "source": [
    "Define sentiment analyzer as `SentimentAnalyzer()` and use it to append _NEG suffix to words that appear between a sensed negation and a punctuation mark."
   ]
  },
  {
   "cell_type": "code",
   "execution_count": null,
   "metadata": {
    "id": "Nt3vhXFgY3Kr"
   },
   "outputs": [],
   "source": [
    "sentim_analyzer = SentimentAnalyzer()\n",
    "all_words_neg = sentim_analyzer.all_words([mark_negation(doc) for doc in training_docs])\n",
    "#all_words_neg"
   ]
  },
  {
   "cell_type": "markdown",
   "metadata": {
    "id": "ICLzdAz_Zk9p"
   },
   "source": [
    "Return the list of most common 1-word features in all_words_neg, with a minimum frequency of 4 appearances."
   ]
  },
  {
   "cell_type": "code",
   "execution_count": null,
   "metadata": {
    "colab": {
     "base_uri": "https://localhost:8080/"
    },
    "id": "W0sx3HcoZldZ",
    "outputId": "d55523ba-a6f4-4b5e-ba46-043dfbf64de6"
   },
   "outputs": [
    {
     "data": {
      "text/plain": [
       "83"
      ]
     },
     "execution_count": 37,
     "metadata": {},
     "output_type": "execute_result"
    }
   ],
   "source": [
    "unigram_feats = sentim_analyzer.unigram_word_feats(all_words_neg, min_freq=4)\n",
    "len(unigram_feats)"
   ]
  },
  {
   "cell_type": "markdown",
   "metadata": {
    "id": "I_x6dJbicnFL"
   },
   "source": [
    "Add unigram_features to list of features that the sentiment analyzer will extract from the data."
   ]
  },
  {
   "cell_type": "code",
   "execution_count": null,
   "metadata": {
    "id": "0l2UG9qNcg6c"
   },
   "outputs": [],
   "source": [
    "sentim_analyzer.add_feat_extractor(extract_unigram_feats, unigrams=unigram_feats)"
   ]
  },
  {
   "cell_type": "markdown",
   "metadata": {
    "id": "wcIWyc4YcTl0"
   },
   "source": [
    "Redefine training and test set to include whether or not sents include the `unigram_feats`"
   ]
  },
  {
   "cell_type": "code",
   "execution_count": null,
   "metadata": {
    "id": "Rc_HWRZPbiJB"
   },
   "outputs": [],
   "source": [
    "training_set = sentim_analyzer.apply_features(training_docs)\n",
    "test_set = sentim_analyzer.apply_features(testing_docs)\n",
    "#training_set[0]"
   ]
  },
  {
   "cell_type": "markdown",
   "metadata": {
    "id": "OmOgpJ21bh_q"
   },
   "source": [
    "We can now train our classifier on the training set, and subsequently output the evaluation results. "
   ]
  },
  {
   "cell_type": "code",
   "execution_count": null,
   "metadata": {
    "colab": {
     "base_uri": "https://localhost:8080/"
    },
    "id": "I1ZDFgfccTtW",
    "outputId": "97ab854b-b70d-4e57-8074-809a7fd1bbec"
   },
   "outputs": [
    {
     "name": "stdout",
     "output_type": "stream",
     "text": [
      "Training classifier\n"
     ]
    }
   ],
   "source": [
    "trainer = NaiveBayesClassifier.train\n",
    "classifier = sentim_analyzer.train(trainer, training_set)\n"
   ]
  },
  {
   "cell_type": "markdown",
   "metadata": {
    "id": "HsO80ZOveRbV"
   },
   "source": [
    "Interpretation of results from [Python NLTK Cookbook:](https://streamhacker.com/2010/05/17/text-classification-sentiment-analysis-precision-recall/)\n",
    "\n",
    "*  **Accuracy** measures the number of elements correctly identified in a data set.\n",
    "*  **F-measure** is the weighted harmonic mean of precision and recall. \n",
    "*  **Precision** measures the exactness of a classifier. A higher precision means less false positives, while a lower precision means more false positives.\n",
    "*   **Recall** measures the completeness, or sensitivity, of a classifier. Higher recall means less false negatives, while lower recall means more false negatives. Often improves inverse of precision.\n"
   ]
  },
  {
   "cell_type": "code",
   "execution_count": null,
   "metadata": {
    "colab": {
     "base_uri": "https://localhost:8080/"
    },
    "id": "iZgR6_eSd-TJ",
    "outputId": "9fa43753-8902-433d-b1c3-b2b6533d4229"
   },
   "outputs": [
    {
     "name": "stdout",
     "output_type": "stream",
     "text": [
      "Evaluating NaiveBayesClassifier results...\n",
      "Accuracy: 0.8\n",
      "F-measure [obj]: 0.8\n",
      "F-measure [subj]: 0.8\n",
      "Precision [obj]: 0.8\n",
      "Precision [subj]: 0.8\n",
      "Recall [obj]: 0.8\n",
      "Recall [subj]: 0.8\n"
     ]
    }
   ],
   "source": [
    "for key,value in sorted(sentim_analyzer.evaluate(test_set).items()):\n",
    "    print('{0}: {1}'.format(key, value))"
   ]
  },
  {
   "cell_type": "markdown",
   "metadata": {
    "id": "houZ2eJQfyrg"
   },
   "source": [
    "***Step 3: Building and testing a classifier with `nltk.sentiment.vader.SentimentIntensityAnalyzer`***"
   ]
  },
  {
   "cell_type": "markdown",
   "metadata": {
    "id": "y74QTxjAgDIX"
   },
   "source": [
    "We will use `SentimentIntensityAnalyzer `from [Vader](http://comp.social.gatech.edu/papers/icwsm14.vader.hutto.pdf). This will assign an \"intensity score\" to each sentence based on its identified sentiment."
   ]
  },
  {
   "cell_type": "markdown",
   "metadata": {
    "id": "HaN71m4Xgr0P"
   },
   "source": [
    "Add list of sentences for analysis."
   ]
  },
  {
   "cell_type": "code",
   "execution_count": null,
   "metadata": {
    "id": "2BsReT4tgsCj"
   },
   "outputs": [],
   "source": [
    "sentences = [\n",
    "    \"You are a jerk, and I will step on you.\",\n",
    "    \"THIS SUX!!!\",\n",
    "    \"This kinda sux...\",\n",
    "    \"You're good, man\",\n",
    "    \"HAHAHA YOU ARE THE BEST!!!!! VERY FUNNY!!!\"\n",
    "            ]"
   ]
  },
  {
   "cell_type": "markdown",
   "metadata": {
    "id": "-hXXSPfng3PM"
   },
   "source": [
    "Use SentimentIntesnityAnalyzer (defined as sid) to get \"intensity\" of each sentence in list"
   ]
  },
  {
   "cell_type": "code",
   "execution_count": null,
   "metadata": {
    "colab": {
     "base_uri": "https://localhost:8080/"
    },
    "id": "8UCeoLBXg3bI",
    "outputId": "77849890-c5dc-4de2-910c-53e209ecef68"
   },
   "outputs": [
    {
     "name": "stdout",
     "output_type": "stream",
     "text": [
      "[nltk_data] Downloading package vader_lexicon to /root/nltk_data...\n",
      "\n",
      "You are a jerk, and I will step on you.\n",
      "compound: -0.34, neg: 0.255, neu: 0.745, pos: 0.0, \n",
      "THIS SUX!!!\n",
      "compound: -0.5229, neg: 0.771, neu: 0.229, pos: 0.0, \n",
      "This kinda sux...\n",
      "compound: 0.0, neg: 0.0, neu: 1.0, pos: 0.0, \n",
      "You're good, man\n",
      "compound: 0.4404, neg: 0.0, neu: 0.408, pos: 0.592, \n",
      "HAHAHA YOU ARE THE BEST!!!!! VERY FUNNY!!!\n",
      "compound: 0.8386, neg: 0.0, neu: 0.386, pos: 0.614, "
     ]
    }
   ],
   "source": [
    "sid = SentimentIntensityAnalyzer()\n",
    "\n",
    "for sentence in sentences:\n",
    "    print('\\n' + sentence)\n",
    "    ss = sid.polarity_scores(sentence)\n",
    "    for k in sorted(ss):\n",
    "        print('{0}: {1}, '.format(k, ss[k]), end='')"
   ]
  }
 ],
 "metadata": {
  "colab": {
   "name": "NLTK Master Tutorial.ipynb",
   "provenance": []
  },
  "kernelspec": {
   "display_name": "Python 3",
   "language": "python",
   "name": "python3"
  },
  "language_info": {
   "codemirror_mode": {
    "name": "ipython",
    "version": 3
   },
   "file_extension": ".py",
   "mimetype": "text/x-python",
   "name": "python",
   "nbconvert_exporter": "python",
   "pygments_lexer": "ipython3",
   "version": "3.8.5"
  }
 },
 "nbformat": 4,
 "nbformat_minor": 4
}
