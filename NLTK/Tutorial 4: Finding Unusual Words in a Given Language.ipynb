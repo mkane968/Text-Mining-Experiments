{
  "nbformat": 4,
  "nbformat_minor": 0,
  "metadata": {
    "colab": {
      "name": "Tutorial 3-2: Finding Unusual Words in a Given Language.ipynb",
      "provenance": [],
      "authorship_tag": "ABX9TyODkGzpIs/d1O1kDVWAbQVI",
      "include_colab_link": true
    },
    "kernelspec": {
      "name": "python3",
      "display_name": "Python 3"
    },
    "language_info": {
      "name": "python"
    }
  },
  "cells": [
    {
      "cell_type": "markdown",
      "metadata": {
        "id": "view-in-github",
        "colab_type": "text"
      },
      "source": [
        "<a href=\"https://colab.research.google.com/github/mkane968/Text-Mining-Experiments/blob/main/NLTK/Tutorial%204%3A%20Finding%20Unusual%20Words%20in%20a%20Given%20Language.ipynb\" target=\"_parent\"><img src=\"https://colab.research.google.com/assets/colab-badge.svg\" alt=\"Open In Colab\"/></a>"
      ]
    },
    {
      "cell_type": "markdown",
      "source": [
        "#Tutorial 4: Finding Unusual Words in a Given Language"
      ],
      "metadata": {
        "id": "Wb-djpkr37F_"
      }
    },
    {
      "cell_type": "code",
      "execution_count": null,
      "metadata": {
        "colab": {
          "base_uri": "https://localhost:8080/"
        },
        "id": "8kjsh10X3zHm",
        "outputId": "9e86b856-39bd-452b-cc09-39db5fe13740"
      },
      "outputs": [
        {
          "output_type": "stream",
          "name": "stdout",
          "text": [
            "[nltk_data] Downloading package punkt to /root/nltk_data...\n",
            "[nltk_data]   Unzipping tokenizers/punkt.zip.\n"
          ]
        },
        {
          "output_type": "execute_result",
          "data": {
            "text/plain": [
              "['truly',\n",
              " 'kryptic',\n",
              " 'is',\n",
              " 'the',\n",
              " 'best',\n",
              " 'puzzle',\n",
              " 'game',\n",
              " '.',\n",
              " 'it',\n",
              " \"'s\",\n",
              " 'browser-based',\n",
              " 'and',\n",
              " 'free',\n",
              " '.',\n",
              " 'google',\n",
              " 'it',\n",
              " '.']"
            ]
          },
          "metadata": {},
          "execution_count": 4
        }
      ],
      "source": [
        "#Create string \n",
        "text = \"Truly Kryptic is the best puzzle game. It's browser-based and free. Google it.\"\n",
        "\n",
        "#Import tokenizer\n",
        "from nltk import word_tokenize\n",
        "import nltk\n",
        "nltk.download('punkt')\n",
        "\n",
        "#Tokenize and lowercase string\n",
        "text_tokenized = word_tokenize(text.lower())\n",
        "text_tokenized"
      ]
    },
    {
      "cell_type": "code",
      "source": [
        "#Import and explore the words corpus\n",
        "nltk.download('words')\n",
        "from nltk.corpus import words\n",
        "words.readme().replace('\\n', ' ')"
      ],
      "metadata": {
        "colab": {
          "base_uri": "https://localhost:8080/",
          "height": 70
        },
        "id": "3ovxQeUE4sLF",
        "outputId": "9d5958be-9b8a-44b6-f984-3aa849b2cab4"
      },
      "execution_count": null,
      "outputs": [
        {
          "output_type": "stream",
          "name": "stdout",
          "text": [
            "[nltk_data] Downloading package words to /root/nltk_data...\n",
            "[nltk_data]   Unzipping corpora/words.zip.\n"
          ]
        },
        {
          "output_type": "execute_result",
          "data": {
            "application/vnd.google.colaboratory.intrinsic+json": {
              "type": "string"
            },
            "text/plain": [
              "'Wordlists  en: English, http://en.wikipedia.org/wiki/Words_(Unix) en-basic: 850 English words: C.K. Ogden in The ABC of Basic English (1932) '"
            ]
          },
          "metadata": {},
          "execution_count": 6
        }
      ]
    },
    {
      "cell_type": "code",
      "source": [
        "#List path name of words corpus\n",
        "words"
      ],
      "metadata": {
        "colab": {
          "base_uri": "https://localhost:8080/"
        },
        "id": "MNd1E4YR41lZ",
        "outputId": "c7c88833-94db-410b-d01e-965c33171ab7"
      },
      "execution_count": null,
      "outputs": [
        {
          "output_type": "execute_result",
          "data": {
            "text/plain": [
              "<WordListCorpusReader in '/root/nltk_data/corpora/words'>"
            ]
          },
          "metadata": {},
          "execution_count": 7
        }
      ]
    },
    {
      "cell_type": "code",
      "source": [
        "#Get file ids in words corpus\n",
        "words.fileids()"
      ],
      "metadata": {
        "colab": {
          "base_uri": "https://localhost:8080/"
        },
        "id": "kowa3VY744Ex",
        "outputId": "cb6470ff-01e8-47dc-db04-950a219dae9b"
      },
      "execution_count": null,
      "outputs": [
        {
          "output_type": "execute_result",
          "data": {
            "text/plain": [
              "['en', 'en-basic']"
            ]
          },
          "metadata": {},
          "execution_count": 8
        }
      ]
    },
    {
      "cell_type": "code",
      "source": [
        "#Get first ten words in en corpus\n",
        "words.words('en')[:10]"
      ],
      "metadata": {
        "colab": {
          "base_uri": "https://localhost:8080/"
        },
        "id": "oK6ORciz47pK",
        "outputId": "7edd51cc-eea7-430f-c027-f9c82e6d5c8e"
      },
      "execution_count": null,
      "outputs": [
        {
          "output_type": "execute_result",
          "data": {
            "text/plain": [
              "['A',\n",
              " 'a',\n",
              " 'aa',\n",
              " 'aal',\n",
              " 'aalii',\n",
              " 'aam',\n",
              " 'Aani',\n",
              " 'aardvark',\n",
              " 'aardwolf',\n",
              " 'Aaron']"
            ]
          },
          "metadata": {},
          "execution_count": 9
        }
      ]
    },
    {
      "cell_type": "code",
      "source": [
        "#Get first 10 words in en-basic corpus\n",
        "words.words('en-basic')[:10]"
      ],
      "metadata": {
        "colab": {
          "base_uri": "https://localhost:8080/"
        },
        "id": "talSusAt49be",
        "outputId": "db58f809-b152-4d6c-f601-79072a967271"
      },
      "execution_count": null,
      "outputs": [
        {
          "output_type": "execute_result",
          "data": {
            "text/plain": [
              "['I',\n",
              " 'a',\n",
              " 'able',\n",
              " 'about',\n",
              " 'account',\n",
              " 'acid',\n",
              " 'across',\n",
              " 'act',\n",
              " 'addition',\n",
              " 'adjustment']"
            ]
          },
          "metadata": {},
          "execution_count": 10
        }
      ]
    },
    {
      "cell_type": "code",
      "source": [
        "#Get length of words in en corpus\n",
        "len(words.words('en'))"
      ],
      "metadata": {
        "id": "43ikDlZK5Apd",
        "outputId": "b7f467e4-8f6c-4178-a584-d80bc041fe6d",
        "colab": {
          "base_uri": "https://localhost:8080/"
        }
      },
      "execution_count": null,
      "outputs": [
        {
          "output_type": "execute_result",
          "data": {
            "text/plain": [
              "235886"
            ]
          },
          "metadata": {},
          "execution_count": 11
        }
      ]
    },
    {
      "cell_type": "code",
      "source": [
        "#Get length of words in en-basic corpus\n",
        "len(words.words('en-basic'))"
      ],
      "metadata": {
        "id": "47gOM6qn5CdF",
        "outputId": "f2a5431e-b781-42d6-8d69-ae212b3fec24",
        "colab": {
          "base_uri": "https://localhost:8080/"
        }
      },
      "execution_count": null,
      "outputs": [
        {
          "output_type": "execute_result",
          "data": {
            "text/plain": [
              "850"
            ]
          },
          "metadata": {},
          "execution_count": 12
        }
      ]
    },
    {
      "cell_type": "code",
      "source": [
        "#Find unusual words in given language\n",
        "english_vocab = set(w.lower() for w in words.words())\n",
        "text_vocab = set(w.lower() for w in text_tokenized if w.isalpha()) # Note .isalpha() removes punctuation tokens. However, tokens with a hyphen like 'browser-based' are totally skipped over because .isalpha() would be false.\n",
        "unusual = text_vocab.difference(english_vocab)\n",
        "unusual"
      ],
      "metadata": {
        "id": "XKD3rjHC5EI6",
        "outputId": "0316d6ac-5287-4ef7-8cab-d11dd70c0786",
        "colab": {
          "base_uri": "https://localhost:8080/"
        }
      },
      "execution_count": null,
      "outputs": [
        {
          "output_type": "execute_result",
          "data": {
            "text/plain": [
              "{'google'}"
            ]
          },
          "metadata": {},
          "execution_count": 13
        }
      ]
    }
  ]
}